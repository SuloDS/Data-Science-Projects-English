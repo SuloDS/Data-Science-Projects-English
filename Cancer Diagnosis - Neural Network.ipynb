{
 "cells": [
  {
   "cell_type": "markdown",
   "metadata": {},
   "source": [
    "# <font color='blue'>Neural Network with Programming and Mathematics</font>\n",
    "# <font color='blue'>To predict the occurrence of cancer</font>\n"
   ]
  },
  {
   "cell_type": "markdown",
   "metadata": {},
   "source": [
    "We will have 2 parts:\n",
    "\n",
    "- Part 1 - Let's build an artificial neural network with only mathematical operations\n",
    "- Part 2 - Let's Train the Network to Predict the Occurrence of Cancer"
   ]
  },
  {
   "cell_type": "markdown",
   "metadata": {},
   "source": [
    "## The Architecture of Artificial Neural Networks"
   ]
  },
  {
   "cell_type": "markdown",
   "metadata": {},
   "source": [
    "A typical neural network consists of a set of interconnected neurons, influencing each other, forming a larger system, capable of storing knowledge acquired through presented examples and, thus, being able to make inferences about new data sets. Let's look at the architecture of artificial neural networks.\n",
    "\n",
    "Neural networks are commonly presented as an oriented graph, where vertices are neurons and edges are synapses. The direction of the edges informs the type of feeding, that is, how the neurons are fed (receive input signals). Neural networks derive their power from their massive, parallel structure and ability to learn from experience. This experience is transmitted through examples obtained from the real world, defined as a set of characteristics formed by input and output data. If we present these input and output data to the network, we are facing supervised learning and if we only present the input data, we are facing unsupervised learning!\n",
    "\n",
    "The knowledge obtained by the network through the examples is stored in the form of connection weights, which will be adjusted in order to make correct decisions from new inputs, that is, new real-world situations not known by the network. The process of adjusting the synaptic weights is carried out by the learning algorithm, responsible for storing the real world knowledge obtained through examples in the network. There are several learning algorithms, among them the backpropagation which is the most used algorithm.\n"
   ]
  },
  {
   "cell_type": "markdown",
   "metadata": {},
   "source": [
    "### Importing Packages"
   ]
  },
  {
   "cell_type": "code",
   "execution_count": 1,
   "metadata": {},
   "outputs": [],
   "source": [
    "# For now we only need NumPy\n",
    "import numpy as np"
   ]
  },
  {
   "cell_type": "markdown",
   "metadata": {},
   "source": [
    "### Part 1 - Implementing an Artificial Neural Network with Only Mathematical Formulas (Without Frameworks)"
   ]
  },
  {
   "cell_type": "markdown",
   "metadata": {},
   "source": [
    "### Part 1A - Forward Propagation"
   ]
  },
  {
   "cell_type": "markdown",
   "metadata": {},
   "source": [
    "### Developing the Function to Initialize Weights"
   ]
  },
  {
   "cell_type": "code",
   "execution_count": 2,
   "metadata": {},
   "outputs": [],
   "source": [
    "def inicializa_parametros(dims_camada_entrada):\n",
    "    \n",
    "    parameters = {}\n",
    "    \n",
    "    comp = len(dims_camada_entrada)\n",
    "    \n",
    "    for i in range(1, comp):\n",
    "        \n",
    "        parameters[\"W\" + str(i)] = np.random.randn(dims_camada_entrada[i], dims_camada_entrada[i - 1]) * 0.01\n",
    "        \n",
    "        parameters[\"b\" + str(i)] = np.zeros((dims_camada_entrada[i], 1))\n",
    "    \n",
    "    return parameters"
   ]
  },
  {
   "cell_type": "markdown",
   "metadata": {},
   "source": [
    "### Developing the Sigmoid Function\n",
    "\n",
    "The main reason we use the sigmoid function is because it allows us to convert numbers to values ​​between 0 and 1.\n",
    "\n",
    "Therefore, it is especially used for models where we have to predict probability as an output. Since the probability of anything existing only between the range of 0 and 1, sigmoid is the right choice."
   ]
  },
  {
   "cell_type": "code",
   "execution_count": 3,
   "metadata": {},
   "outputs": [],
   "source": [
    "def sigmoid(Z):\n",
    "    A = 1 / (1 + np.exp(-Z))\n",
    "    return A, Z"
   ]
  },
  {
   "cell_type": "markdown",
   "metadata": {},
   "source": [
    "### Developing the ReLU Function\n",
    "\n",
    "To use stochastic gradient descent with backpropagation errors to train deep neural networks, you need an activation function that looks and acts like a linear function, but is in fact a nonlinear function that allows for complex relationships in the data. are learned.\n",
    "\n",
    "The solution is to use the rectified linear activation function, or ReL for short. A node or unit that implements this activation function is called a rectified linear activation unit, or ReLU for short. Networks that use the rectifier function for the hidden layers are often called rectified networks.\n",
    "\n",
    "The ReLU function is defined as 𝑓(𝑥) = max(0, 𝑥). Typically, it is applied element by element to the output of some other function, such as a vector and matrix product."
   ]
  },
  {
   "cell_type": "code",
   "execution_count": 4,
   "metadata": {},
   "outputs": [],
   "source": [
    "def relu(Z):\n",
    "    A = abs(Z * (Z > 0))\n",
    "    return A, Z"
   ]
  },
  {
   "cell_type": "markdown",
   "metadata": {},
   "source": [
    "### Developing Linear Activation"
   ]
  },
  {
   "cell_type": "code",
   "execution_count": 5,
   "metadata": {},
   "outputs": [],
   "source": [
    "# activation operation\n",
    "# A is the array with the input data\n",
    "# W is the matrix of weights\n",
    "# b is the bias\n",
    "def linear_activation(A, W, b):\n",
    "    Z = np.dot(W, A) + b\n",
    "    cache = (A, W, b)\n",
    "    return Z, cache"
   ]
  },
  {
   "cell_type": "markdown",
   "metadata": {},
   "source": [
    "### Building the Forward Propagation Process"
   ]
  },
  {
   "cell_type": "code",
   "execution_count": 6,
   "metadata": {},
   "outputs": [],
   "source": [
    "# Forward movement\n",
    "def forward(A_prev, W, b, activation):\n",
    "    \n",
    "   # If the activation function is Sigmoid, we enter this block\n",
    "    if activation == \"sigmoid\":\n",
    "        Z, linear_cache = linear_activation(A_prev, W, b)\n",
    "        A, activation_cache = sigmoid(Z)\n",
    "        \n",
    "    # If not, if it is ReLu, enter this block\n",
    "    elif activation == \"relu\":\n",
    "        Z, linear_cache = linear_activation(A_prev, W, b)\n",
    "        A, activation_cache = relu(Z)\n",
    "        \n",
    "    cache = (linear_cache, activation_cache)\n",
    "    \n",
    "    return A, cache"
   ]
  },
  {
   "cell_type": "markdown",
   "metadata": {},
   "source": [
    "### Combining Activation and Propagation"
   ]
  },
  {
   "cell_type": "code",
   "execution_count": 7,
   "metadata": {},
   "outputs": [],
   "source": [
    "# forward propagation\n",
    "def forward_propagation(X, parameters):\n",
    "    \n",
    "    caches = []\n",
    "    \n",
    "    A = X\n",
    "    \n",
    "    L = len(parameters) // 2\n",
    "\n",
    "    for i in range(1, L):\n",
    "      \n",
    "        A_prev = A\n",
    "        \n",
    "        A, cache = forward(A_prev, parameters[\"W\" + str(i)], parameters[\"b\" + str(i)], activation = \"relu\")\n",
    "        \n",
    "        caches.append(cache)\n",
    "    \n",
    "    A_last, cache = forward(A, parameters[\"W\" + str(L)], parameters[\"b\" + str(L)], activation = \"sigmoid\")\n",
    "    \n",
    "    caches.append(cache)\n",
    "    \n",
    "    return(A_last, caches)"
   ]
  },
  {
   "cell_type": "markdown",
   "metadata": {},
   "source": [
    "### Developing the Cost Function"
   ]
  },
  {
   "cell_type": "code",
   "execution_count": 8,
   "metadata": {},
   "outputs": [],
   "source": [
    "def calcula_custo(A_last, Y):\n",
    "    \n",
    "    m = Y.shape[1]\n",
    "    \n",
    "    custo = (-1 / m) * np.sum((Y * np.log(A_last)) + ((1 - Y) * np.log(1 - A_last)))\n",
    "    \n",
    "    custo = np.squeeze(custo)\n",
    "    \n",
    "    return(custo)"
   ]
  },
  {
   "cell_type": "markdown",
   "metadata": {},
   "source": [
    "### Parte 1B - Backward Propagation"
   ]
  },
  {
   "cell_type": "markdown",
   "metadata": {},
   "source": [
    "### Developing the Backward Propagation - Backward Sigmoid Function"
   ]
  },
  {
   "cell_type": "code",
   "execution_count": 9,
   "metadata": {},
   "outputs": [],
   "source": [
    "def sigmoid_backward(da, Z):\n",
    "    \n",
    "    dg = (1 / (1 + np.exp(-Z))) * (1 - (1 / (1 + np.exp(-Z))))\n",
    "    \n",
    "    dz = da * dg\n",
    "    return dz\n"
   ]
  },
  {
   "cell_type": "markdown",
   "metadata": {},
   "source": [
    "### Developing Backward Propagation - ReLu Backward Function"
   ]
  },
  {
   "cell_type": "code",
   "execution_count": 10,
   "metadata": {},
   "outputs": [],
   "source": [
    "def relu_backward(da, Z):\n",
    "    \n",
    "    dg = 1 * ( Z >= 0)\n",
    "    dz = da * dg\n",
    "    return dz"
   ]
  },
  {
   "cell_type": "markdown",
   "metadata": {},
   "source": [
    "### Developing Backward Propagation - Linear Backward Activation"
   ]
  },
  {
   "cell_type": "code",
   "execution_count": 11,
   "metadata": {},
   "outputs": [],
   "source": [
    "def linear_backward_function(dz, cache):\n",
    "    \n",
    "    A_prev, W, b = cache\n",
    "\n",
    "    m = A_prev.shape[1]\n",
    " \n",
    "    dW = (1 / m) * np.dot(dz, A_prev.T)\n",
    "    \n",
    "    db = (1 / m) * np.sum(dz, axis = 1, keepdims = True)\n",
    "    \n",
    "    dA_prev = np.dot(W.T, dz)\n",
    "    \n",
    "    return dA_prev, dW, db"
   ]
  },
  {
   "cell_type": "markdown",
   "metadata": {},
   "source": [
    "### Developing Backward Propagation - Linear Backward Activation"
   ]
  },
  {
   "cell_type": "code",
   "execution_count": 12,
   "metadata": {},
   "outputs": [],
   "source": [
    "def linear_activation_backward(dA, cache, activation):\n",
    "\n",
    "    linear_cache, activation_cache = cache\n",
    "    \n",
    "    if activation == \"relu\":\n",
    "        dZ = relu_backward(dA, activation_cache)\n",
    "        dA_prev, dW, db = linear_backward_function(dZ, linear_cache)\n",
    "        \n",
    "    if activation == \"sigmoid\":\n",
    "        dZ = sigmoid_backward(dA, activation_cache)\n",
    "        dA_prev, dW, db = linear_backward_function(dZ, linear_cache)\n",
    "        \n",
    "    return dA_prev, dW, db"
   ]
  },
  {
   "cell_type": "markdown",
   "metadata": {},
   "source": [
    "### Combining Activation and Backpropagation - Backpropagation Algorithm"
   ]
  },
  {
   "cell_type": "code",
   "execution_count": 13,
   "metadata": {},
   "outputs": [],
   "source": [
    "# Backpropagation algorithm (calculates the gradients to update the weights)\n",
    "# AL = Expected value in the Forward\n",
    "# Y = Actual value\n",
    "def backward_propagation(AL, Y, caches):\n",
    "    \n",
    "    grads = {}\n",
    "   \n",
    "    L = len(caches)\n",
    "\n",
    "    m = AL.shape[1]\n",
    "  \n",
    "    Y = Y.reshape(AL.shape)\n",
    "    \n",
    "    dAL = -((Y / AL) - ((1 - Y) / (1 - AL)))\n",
    "    \n",
    "    current_cache = caches[L - 1]\n",
    "    \n",
    "    grads[\"dA\" + str(L - 1)], grads[\"dW\" + str(L)], grads[\"db\" + str(L)] = linear_activation_backward(dAL, current_cache, activation = \"sigmoid\")\n",
    "    \n",
    "    for l in reversed(range(L - 1)):\n",
    "        \n",
    "        current_cache = caches[l]\n",
    "        \n",
    "        dA_prev, dW, db = linear_activation_backward(grads[\"dA\" + str(l + 1)], current_cache, activation = \"relu\")\n",
    "        \n",
    "        grads[\"dA\" + str(l)] = dA_prev\n",
    "        grads[\"dW\" + str(l + 1)] = dW\n",
    "        grads[\"db\" + str(l + 1)] = db\n",
    "        \n",
    "    return grads"
   ]
  },
  {
   "cell_type": "markdown",
   "metadata": {},
   "source": [
    "### Gradients and Weights Update"
   ]
  },
  {
   "cell_type": "code",
   "execution_count": 14,
   "metadata": {},
   "outputs": [],
   "source": [
    "def atualiza_pesos(parameters, grads, learning_rate):\n",
    "    \n",
    "    L = len(parameters)//2\n",
    "    \n",
    "    for l in range(L):\n",
    "        \n",
    "        parameters[\"W\" + str(l + 1)] = parameters[\"W\" + str(l + 1)] - (learning_rate * grads[\"dW\" + str(l + 1)])\n",
    "        \n",
    "        parameters[\"b\" + str(l + 1)] = parameters[\"b\" + str(l + 1)] - (learning_rate * grads[\"db\" + str(l + 1)])\n",
    "    \n",
    "    return parameters"
   ]
  },
  {
   "cell_type": "markdown",
   "metadata": {},
   "source": [
    "### Implementing the Complete Network"
   ]
  },
  {
   "cell_type": "code",
   "execution_count": 15,
   "metadata": {},
   "outputs": [],
   "source": [
    "def modeloNN(X, Y, dims_camada_entrada, learning_rate = 0.0075, num_iterations = 100):\n",
    "    \n",
    "    custos = []\n",
    "    \n",
    "    parametros = inicializa_parametros(dims_camada_entrada)\n",
    "    \n",
    "    for i in range(num_iterations):\n",
    "        \n",
    "        AL, caches = forward_propagation(X, parametros)\n",
    "        \n",
    "        custo = calcula_custo(AL, Y)\n",
    "       \n",
    "\n",
    "        gradientes = backward_propagation(AL, Y, caches)\n",
    "        \n",
    "        parametros = atualiza_pesos(parametros, gradientes, learning_rate)\n",
    "        \n",
    "        if i % 10 == 0:\n",
    "            print(\"Custo Após \" + str(i) + \" iterações é \" + str(custo))\n",
    "            custos.append(custo)\n",
    "            \n",
    "    return parametros, custos "
   ]
  },
  {
   "cell_type": "code",
   "execution_count": 16,
   "metadata": {},
   "outputs": [],
   "source": [
    "def predict(X, parametros):\n",
    "    AL, caches = forward_propagation(X, parametros)\n",
    "    return AL"
   ]
  },
  {
   "cell_type": "markdown",
   "metadata": {},
   "source": [
    "### Part 2 - Let's Train the Network to Predict the Occurrence of Cancer"
   ]
  },
  {
   "cell_type": "markdown",
   "metadata": {},
   "source": [
    "### Using the Neural Network to Predict the Occurrence of Cancer"
   ]
  },
  {
   "cell_type": "code",
   "execution_count": 17,
   "metadata": {},
   "outputs": [],
   "source": [
    "# Imports\n",
    "import sklearn\n",
    "import numpy as np\n",
    "import pandas as pd\n",
    "import matplotlib\n",
    "import matplotlib.pyplot as plt\n",
    "from sklearn.datasets import load_breast_cancer\n",
    "from sklearn.model_selection import train_test_split\n",
    "from sklearn.metrics import classification_report"
   ]
  },
  {
   "cell_type": "markdown",
   "metadata": {},
   "source": [
    "### Loading Data\n",
    "https://scikit-learn.org/stable/datasets/index.html#breast-cancer-dataset"
   ]
  },
  {
   "cell_type": "code",
   "execution_count": 18,
   "metadata": {},
   "outputs": [],
   "source": [
    "# Load the complete object\n",
    "temp = load_breast_cancer()"
   ]
  },
  {
   "cell_type": "code",
   "execution_count": 19,
   "metadata": {},
   "outputs": [
    {
     "data": {
      "text/plain": [
       "sklearn.utils._bunch.Bunch"
      ]
     },
     "execution_count": 19,
     "metadata": {},
     "output_type": "execute_result"
    }
   ],
   "source": [
    "type(temp)"
   ]
  },
  {
   "cell_type": "code",
   "execution_count": 20,
   "metadata": {},
   "outputs": [],
   "source": [
    "# Load the dataset\n",
    "dados = pd.DataFrame(columns = load_breast_cancer()[\"feature_names\"], data = load_breast_cancer()[\"data\"])"
   ]
  },
  {
   "cell_type": "code",
   "execution_count": 21,
   "metadata": {},
   "outputs": [
    {
     "data": {
      "text/plain": [
       "(569, 30)"
      ]
     },
     "execution_count": 21,
     "metadata": {},
     "output_type": "execute_result"
    }
   ],
   "source": [
    "# Shape\n",
    "dados.shape"
   ]
  },
  {
   "cell_type": "code",
   "execution_count": 22,
   "metadata": {},
   "outputs": [
    {
     "data": {
      "text/html": [
       "<div>\n",
       "<style scoped>\n",
       "    .dataframe tbody tr th:only-of-type {\n",
       "        vertical-align: middle;\n",
       "    }\n",
       "\n",
       "    .dataframe tbody tr th {\n",
       "        vertical-align: top;\n",
       "    }\n",
       "\n",
       "    .dataframe thead th {\n",
       "        text-align: right;\n",
       "    }\n",
       "</style>\n",
       "<table border=\"1\" class=\"dataframe\">\n",
       "  <thead>\n",
       "    <tr style=\"text-align: right;\">\n",
       "      <th></th>\n",
       "      <th>mean radius</th>\n",
       "      <th>mean texture</th>\n",
       "      <th>mean perimeter</th>\n",
       "      <th>mean area</th>\n",
       "      <th>mean smoothness</th>\n",
       "      <th>mean compactness</th>\n",
       "      <th>mean concavity</th>\n",
       "      <th>mean concave points</th>\n",
       "      <th>mean symmetry</th>\n",
       "      <th>mean fractal dimension</th>\n",
       "      <th>...</th>\n",
       "      <th>worst radius</th>\n",
       "      <th>worst texture</th>\n",
       "      <th>worst perimeter</th>\n",
       "      <th>worst area</th>\n",
       "      <th>worst smoothness</th>\n",
       "      <th>worst compactness</th>\n",
       "      <th>worst concavity</th>\n",
       "      <th>worst concave points</th>\n",
       "      <th>worst symmetry</th>\n",
       "      <th>worst fractal dimension</th>\n",
       "    </tr>\n",
       "  </thead>\n",
       "  <tbody>\n",
       "    <tr>\n",
       "      <th>0</th>\n",
       "      <td>17.99</td>\n",
       "      <td>10.38</td>\n",
       "      <td>122.80</td>\n",
       "      <td>1001.0</td>\n",
       "      <td>0.11840</td>\n",
       "      <td>0.27760</td>\n",
       "      <td>0.3001</td>\n",
       "      <td>0.14710</td>\n",
       "      <td>0.2419</td>\n",
       "      <td>0.07871</td>\n",
       "      <td>...</td>\n",
       "      <td>25.38</td>\n",
       "      <td>17.33</td>\n",
       "      <td>184.60</td>\n",
       "      <td>2019.0</td>\n",
       "      <td>0.1622</td>\n",
       "      <td>0.6656</td>\n",
       "      <td>0.7119</td>\n",
       "      <td>0.2654</td>\n",
       "      <td>0.4601</td>\n",
       "      <td>0.11890</td>\n",
       "    </tr>\n",
       "    <tr>\n",
       "      <th>1</th>\n",
       "      <td>20.57</td>\n",
       "      <td>17.77</td>\n",
       "      <td>132.90</td>\n",
       "      <td>1326.0</td>\n",
       "      <td>0.08474</td>\n",
       "      <td>0.07864</td>\n",
       "      <td>0.0869</td>\n",
       "      <td>0.07017</td>\n",
       "      <td>0.1812</td>\n",
       "      <td>0.05667</td>\n",
       "      <td>...</td>\n",
       "      <td>24.99</td>\n",
       "      <td>23.41</td>\n",
       "      <td>158.80</td>\n",
       "      <td>1956.0</td>\n",
       "      <td>0.1238</td>\n",
       "      <td>0.1866</td>\n",
       "      <td>0.2416</td>\n",
       "      <td>0.1860</td>\n",
       "      <td>0.2750</td>\n",
       "      <td>0.08902</td>\n",
       "    </tr>\n",
       "    <tr>\n",
       "      <th>2</th>\n",
       "      <td>19.69</td>\n",
       "      <td>21.25</td>\n",
       "      <td>130.00</td>\n",
       "      <td>1203.0</td>\n",
       "      <td>0.10960</td>\n",
       "      <td>0.15990</td>\n",
       "      <td>0.1974</td>\n",
       "      <td>0.12790</td>\n",
       "      <td>0.2069</td>\n",
       "      <td>0.05999</td>\n",
       "      <td>...</td>\n",
       "      <td>23.57</td>\n",
       "      <td>25.53</td>\n",
       "      <td>152.50</td>\n",
       "      <td>1709.0</td>\n",
       "      <td>0.1444</td>\n",
       "      <td>0.4245</td>\n",
       "      <td>0.4504</td>\n",
       "      <td>0.2430</td>\n",
       "      <td>0.3613</td>\n",
       "      <td>0.08758</td>\n",
       "    </tr>\n",
       "    <tr>\n",
       "      <th>3</th>\n",
       "      <td>11.42</td>\n",
       "      <td>20.38</td>\n",
       "      <td>77.58</td>\n",
       "      <td>386.1</td>\n",
       "      <td>0.14250</td>\n",
       "      <td>0.28390</td>\n",
       "      <td>0.2414</td>\n",
       "      <td>0.10520</td>\n",
       "      <td>0.2597</td>\n",
       "      <td>0.09744</td>\n",
       "      <td>...</td>\n",
       "      <td>14.91</td>\n",
       "      <td>26.50</td>\n",
       "      <td>98.87</td>\n",
       "      <td>567.7</td>\n",
       "      <td>0.2098</td>\n",
       "      <td>0.8663</td>\n",
       "      <td>0.6869</td>\n",
       "      <td>0.2575</td>\n",
       "      <td>0.6638</td>\n",
       "      <td>0.17300</td>\n",
       "    </tr>\n",
       "    <tr>\n",
       "      <th>4</th>\n",
       "      <td>20.29</td>\n",
       "      <td>14.34</td>\n",
       "      <td>135.10</td>\n",
       "      <td>1297.0</td>\n",
       "      <td>0.10030</td>\n",
       "      <td>0.13280</td>\n",
       "      <td>0.1980</td>\n",
       "      <td>0.10430</td>\n",
       "      <td>0.1809</td>\n",
       "      <td>0.05883</td>\n",
       "      <td>...</td>\n",
       "      <td>22.54</td>\n",
       "      <td>16.67</td>\n",
       "      <td>152.20</td>\n",
       "      <td>1575.0</td>\n",
       "      <td>0.1374</td>\n",
       "      <td>0.2050</td>\n",
       "      <td>0.4000</td>\n",
       "      <td>0.1625</td>\n",
       "      <td>0.2364</td>\n",
       "      <td>0.07678</td>\n",
       "    </tr>\n",
       "  </tbody>\n",
       "</table>\n",
       "<p>5 rows × 30 columns</p>\n",
       "</div>"
      ],
      "text/plain": [
       "   mean radius  mean texture  mean perimeter  mean area  mean smoothness  \\\n",
       "0        17.99         10.38          122.80     1001.0          0.11840   \n",
       "1        20.57         17.77          132.90     1326.0          0.08474   \n",
       "2        19.69         21.25          130.00     1203.0          0.10960   \n",
       "3        11.42         20.38           77.58      386.1          0.14250   \n",
       "4        20.29         14.34          135.10     1297.0          0.10030   \n",
       "\n",
       "   mean compactness  mean concavity  mean concave points  mean symmetry  \\\n",
       "0           0.27760          0.3001              0.14710         0.2419   \n",
       "1           0.07864          0.0869              0.07017         0.1812   \n",
       "2           0.15990          0.1974              0.12790         0.2069   \n",
       "3           0.28390          0.2414              0.10520         0.2597   \n",
       "4           0.13280          0.1980              0.10430         0.1809   \n",
       "\n",
       "   mean fractal dimension  ...  worst radius  worst texture  worst perimeter  \\\n",
       "0                 0.07871  ...         25.38          17.33           184.60   \n",
       "1                 0.05667  ...         24.99          23.41           158.80   \n",
       "2                 0.05999  ...         23.57          25.53           152.50   \n",
       "3                 0.09744  ...         14.91          26.50            98.87   \n",
       "4                 0.05883  ...         22.54          16.67           152.20   \n",
       "\n",
       "   worst area  worst smoothness  worst compactness  worst concavity  \\\n",
       "0      2019.0            0.1622             0.6656           0.7119   \n",
       "1      1956.0            0.1238             0.1866           0.2416   \n",
       "2      1709.0            0.1444             0.4245           0.4504   \n",
       "3       567.7            0.2098             0.8663           0.6869   \n",
       "4      1575.0            0.1374             0.2050           0.4000   \n",
       "\n",
       "   worst concave points  worst symmetry  worst fractal dimension  \n",
       "0                0.2654          0.4601                  0.11890  \n",
       "1                0.1860          0.2750                  0.08902  \n",
       "2                0.2430          0.3613                  0.08758  \n",
       "3                0.2575          0.6638                  0.17300  \n",
       "4                0.1625          0.2364                  0.07678  \n",
       "\n",
       "[5 rows x 30 columns]"
      ]
     },
     "execution_count": 22,
     "metadata": {},
     "output_type": "execute_result"
    }
   ],
   "source": [
    "# Visualize the data\n",
    "dados.head()"
   ]
  },
  {
   "cell_type": "code",
   "execution_count": 23,
   "metadata": {},
   "outputs": [
    {
     "data": {
      "text/plain": [
       "mean radius                False\n",
       "mean texture               False\n",
       "mean perimeter             False\n",
       "mean area                  False\n",
       "mean smoothness            False\n",
       "mean compactness           False\n",
       "mean concavity             False\n",
       "mean concave points        False\n",
       "mean symmetry              False\n",
       "mean fractal dimension     False\n",
       "radius error               False\n",
       "texture error              False\n",
       "perimeter error            False\n",
       "area error                 False\n",
       "smoothness error           False\n",
       "compactness error          False\n",
       "concavity error            False\n",
       "concave points error       False\n",
       "symmetry error             False\n",
       "fractal dimension error    False\n",
       "worst radius               False\n",
       "worst texture              False\n",
       "worst perimeter            False\n",
       "worst area                 False\n",
       "worst smoothness           False\n",
       "worst compactness          False\n",
       "worst concavity            False\n",
       "worst concave points       False\n",
       "worst symmetry             False\n",
       "worst fractal dimension    False\n",
       "dtype: bool"
      ]
     },
     "execution_count": 23,
     "metadata": {},
     "output_type": "execute_result"
    }
   ],
   "source": [
    "# Check for missing values\n",
    "dados.isnull().any()"
   ]
  },
  {
   "cell_type": "code",
   "execution_count": 24,
   "metadata": {},
   "outputs": [],
   "source": [
    "# Separate the target variable\n",
    "target = load_breast_cancer()[\"target\"]"
   ]
  },
  {
   "cell_type": "code",
   "execution_count": 25,
   "metadata": {},
   "outputs": [
    {
     "data": {
      "text/plain": [
       "numpy.ndarray"
      ]
     },
     "execution_count": 25,
     "metadata": {},
     "output_type": "execute_result"
    }
   ],
   "source": [
    "type(target)"
   ]
  },
  {
   "cell_type": "code",
   "execution_count": 26,
   "metadata": {},
   "outputs": [
    {
     "data": {
      "text/plain": [
       "array([0, 0, 0, 0, 0, 0, 0, 0, 0, 0, 0, 0, 0, 0, 0, 0, 0, 0, 0, 1, 1, 1,\n",
       "       0, 0, 0, 0, 0, 0, 0, 0, 0, 0, 0, 0, 0, 0, 0, 1, 0, 0, 0, 0, 0, 0,\n",
       "       0, 0, 1, 0, 1, 1, 1, 1, 1, 0, 0, 1, 0, 0, 1, 1, 1, 1, 0, 1, 0, 0,\n",
       "       1, 1, 1, 1, 0, 1, 0, 0, 1, 0, 1, 0, 0, 1, 1, 1, 0, 0, 1, 0, 0, 0,\n",
       "       1, 1, 1, 0, 1, 1, 0, 0, 1, 1, 1, 0, 0, 1, 1, 1, 1, 0, 1, 1, 0, 1,\n",
       "       1, 1, 1, 1, 1, 1, 1, 0, 0, 0, 1, 0, 0, 1, 1, 1, 0, 0, 1, 0, 1, 0,\n",
       "       0, 1, 0, 0, 1, 1, 0, 1, 1, 0, 1, 1, 1, 1, 0, 1, 1, 1, 1, 1, 1, 1,\n",
       "       1, 1, 0, 1, 1, 1, 1, 0, 0, 1, 0, 1, 1, 0, 0, 1, 1, 0, 0, 1, 1, 1,\n",
       "       1, 0, 1, 1, 0, 0, 0, 1, 0, 1, 0, 1, 1, 1, 0, 1, 1, 0, 0, 1, 0, 0,\n",
       "       0, 0, 1, 0, 0, 0, 1, 0, 1, 0, 1, 1, 0, 1, 0, 0, 0, 0, 1, 1, 0, 0,\n",
       "       1, 1, 1, 0, 1, 1, 1, 1, 1, 0, 0, 1, 1, 0, 1, 1, 0, 0, 1, 0, 1, 1,\n",
       "       1, 1, 0, 1, 1, 1, 1, 1, 0, 1, 0, 0, 0, 0, 0, 0, 0, 0, 0, 0, 0, 0,\n",
       "       0, 0, 1, 1, 1, 1, 1, 1, 0, 1, 0, 1, 1, 0, 1, 1, 0, 1, 0, 0, 1, 1,\n",
       "       1, 1, 1, 1, 1, 1, 1, 1, 1, 1, 1, 0, 1, 1, 0, 1, 0, 1, 1, 1, 1, 1,\n",
       "       1, 1, 1, 1, 1, 1, 1, 1, 1, 0, 1, 1, 1, 0, 1, 0, 1, 1, 1, 1, 0, 0,\n",
       "       0, 1, 1, 1, 1, 0, 1, 0, 1, 0, 1, 1, 1, 0, 1, 1, 1, 1, 1, 1, 1, 0,\n",
       "       0, 0, 1, 1, 1, 1, 1, 1, 1, 1, 1, 1, 1, 0, 0, 1, 0, 0, 0, 1, 0, 0,\n",
       "       1, 1, 1, 1, 1, 0, 1, 1, 1, 1, 1, 0, 1, 1, 1, 0, 1, 1, 0, 0, 1, 1,\n",
       "       1, 1, 1, 1, 0, 1, 1, 1, 1, 1, 1, 1, 0, 1, 1, 1, 1, 1, 0, 1, 1, 0,\n",
       "       1, 1, 1, 1, 1, 1, 1, 1, 1, 1, 1, 1, 0, 1, 0, 0, 1, 0, 1, 1, 1, 1,\n",
       "       1, 0, 1, 1, 0, 1, 0, 1, 1, 0, 1, 0, 1, 1, 1, 1, 1, 1, 1, 1, 0, 0,\n",
       "       1, 1, 1, 1, 1, 1, 0, 1, 1, 1, 1, 1, 1, 1, 1, 1, 1, 0, 1, 1, 1, 1,\n",
       "       1, 1, 1, 0, 1, 0, 1, 1, 0, 1, 1, 1, 1, 1, 0, 0, 1, 0, 1, 0, 1, 1,\n",
       "       1, 1, 1, 0, 1, 1, 0, 1, 0, 1, 0, 0, 1, 1, 1, 0, 1, 1, 1, 1, 1, 1,\n",
       "       1, 1, 1, 1, 1, 0, 1, 0, 0, 1, 1, 1, 1, 1, 1, 1, 1, 1, 1, 1, 1, 1,\n",
       "       1, 1, 1, 1, 1, 1, 1, 1, 1, 1, 1, 1, 0, 0, 0, 0, 0, 0, 1])"
      ]
     },
     "execution_count": 26,
     "metadata": {},
     "output_type": "execute_result"
    }
   ],
   "source": [
    "# Display the target variable\n",
    "target"
   ]
  },
  {
   "cell_type": "code",
   "execution_count": 27,
   "metadata": {},
   "outputs": [
    {
     "data": {
      "text/plain": [
       "357"
      ]
     },
     "execution_count": 27,
     "metadata": {},
     "output_type": "execute_result"
    }
   ],
   "source": [
    "# Total records per class - Benign Cancer\n",
    "np.count_nonzero(target == 1)"
   ]
  },
  {
   "cell_type": "code",
   "execution_count": 28,
   "metadata": {},
   "outputs": [
    {
     "data": {
      "text/plain": [
       "212"
      ]
     },
     "execution_count": 28,
     "metadata": {},
     "output_type": "execute_result"
    }
   ],
   "source": [
    "# Total records per class - Malignant Cancer\n",
    "np.count_nonzero(target == 0)"
   ]
  },
  {
   "cell_type": "code",
   "execution_count": 29,
   "metadata": {},
   "outputs": [],
   "source": [
    "# Let's extract the labels\n",
    "\n",
    "# Dictionary for labels\n",
    "labels = {}\n",
    "\n",
    "target_names = load_breast_cancer()[\"target_names\"]\n",
    "\n",
    "for i in range(len(target_names)):\n",
    "    labels.update({i:target_names[i]})"
   ]
  },
  {
   "cell_type": "code",
   "execution_count": 30,
   "metadata": {},
   "outputs": [
    {
     "data": {
      "text/plain": [
       "{0: 'malignant', 1: 'benign'}"
      ]
     },
     "execution_count": 30,
     "metadata": {},
     "output_type": "execute_result"
    }
   ],
   "source": [
    "labels"
   ]
  },
  {
   "cell_type": "code",
   "execution_count": 31,
   "metadata": {},
   "outputs": [],
   "source": [
    "X = np.array(dados)"
   ]
  },
  {
   "cell_type": "code",
   "execution_count": 32,
   "metadata": {},
   "outputs": [
    {
     "data": {
      "text/plain": [
       "array([[1.799e+01, 1.038e+01, 1.228e+02, ..., 2.654e-01, 4.601e-01,\n",
       "        1.189e-01],\n",
       "       [2.057e+01, 1.777e+01, 1.329e+02, ..., 1.860e-01, 2.750e-01,\n",
       "        8.902e-02],\n",
       "       [1.969e+01, 2.125e+01, 1.300e+02, ..., 2.430e-01, 3.613e-01,\n",
       "        8.758e-02],\n",
       "       ...,\n",
       "       [1.660e+01, 2.808e+01, 1.083e+02, ..., 1.418e-01, 2.218e-01,\n",
       "        7.820e-02],\n",
       "       [2.060e+01, 2.933e+01, 1.401e+02, ..., 2.650e-01, 4.087e-01,\n",
       "        1.240e-01],\n",
       "       [7.760e+00, 2.454e+01, 4.792e+01, ..., 0.000e+00, 2.871e-01,\n",
       "        7.039e-02]])"
      ]
     },
     "execution_count": 32,
     "metadata": {},
     "output_type": "execute_result"
    }
   ],
   "source": [
    "X"
   ]
  },
  {
   "cell_type": "code",
   "execution_count": 33,
   "metadata": {},
   "outputs": [],
   "source": [
    "# Divide the input and output data into training and testing\n",
    "X_treino, X_teste, y_treino, y_teste = train_test_split(X, target, test_size = 0.15, shuffle = True)"
   ]
  },
  {
   "cell_type": "code",
   "execution_count": 34,
   "metadata": {},
   "outputs": [
    {
     "name": "stdout",
     "output_type": "stream",
     "text": [
      "(483, 30)\n",
      "(483,)\n"
     ]
    }
   ],
   "source": [
    "# Shape\n",
    "print(X_treino.shape)\n",
    "print(y_treino.shape)"
   ]
  },
  {
   "cell_type": "code",
   "execution_count": 35,
   "metadata": {},
   "outputs": [
    {
     "name": "stdout",
     "output_type": "stream",
     "text": [
      "(86, 30)\n",
      "(86,)\n"
     ]
    }
   ],
   "source": [
    "# Shape \n",
    "print(X_teste.shape)\n",
    "print(y_teste.shape)"
   ]
  },
  {
   "cell_type": "code",
   "execution_count": 36,
   "metadata": {},
   "outputs": [],
   "source": [
    "# Adjust the shape of the input data\n",
    "X_treino = X_treino.T\n",
    "X_teste = X_teste.T"
   ]
  },
  {
   "cell_type": "code",
   "execution_count": 37,
   "metadata": {},
   "outputs": [
    {
     "name": "stdout",
     "output_type": "stream",
     "text": [
      "(30, 483)\n",
      "(30, 86)\n"
     ]
    }
   ],
   "source": [
    "print(X_treino.shape)\n",
    "print(X_teste.shape)"
   ]
  },
  {
   "cell_type": "code",
   "execution_count": 38,
   "metadata": {},
   "outputs": [],
   "source": [
    "# We also need to adjust the output data\n",
    "y_treino = y_treino.reshape(1, len(y_treino))\n",
    "y_teste = y_teste.reshape(1, len(y_teste))"
   ]
  },
  {
   "cell_type": "code",
   "execution_count": 39,
   "metadata": {},
   "outputs": [
    {
     "name": "stdout",
     "output_type": "stream",
     "text": [
      "(1, 483)\n",
      "(1, 86)\n"
     ]
    }
   ],
   "source": [
    "print(y_treino.shape)\n",
    "print(y_teste.shape)"
   ]
  },
  {
   "cell_type": "code",
   "execution_count": 40,
   "metadata": {},
   "outputs": [],
   "source": [
    "# Variable with the input dimensions for the number of neurons\n",
    "dims_camada_entrada = [X_treino.shape[0], 50, 20, 5, 1]"
   ]
  },
  {
   "cell_type": "code",
   "execution_count": 41,
   "metadata": {},
   "outputs": [
    {
     "data": {
      "text/plain": [
       "[30, 50, 20, 5, 1]"
      ]
     },
     "execution_count": 41,
     "metadata": {},
     "output_type": "execute_result"
    }
   ],
   "source": [
    "dims_camada_entrada"
   ]
  },
  {
   "cell_type": "code",
   "execution_count": 42,
   "metadata": {},
   "outputs": [
    {
     "name": "stdout",
     "output_type": "stream",
     "text": [
      "\n",
      "Starting Training.\n",
      "\n",
      "Custo Após 0 iterações é 0.6931529941978519\n",
      "Custo Após 10 iterações é 0.6919194634955292\n",
      "Custo Após 20 iterações é 0.6907313364469126\n",
      "Custo Após 30 iterações é 0.6895869371365363\n",
      "Custo Após 40 iterações é 0.6884846500175523\n",
      "Custo Após 50 iterações é 0.6874229154164153\n",
      "Custo Após 60 iterações é 0.6864002303136065\n",
      "Custo Após 70 iterações é 0.6854151446957311\n",
      "Custo Após 80 iterações é 0.6844662618845376\n",
      "Custo Após 90 iterações é 0.6835522362272949\n",
      "Custo Após 100 iterações é 0.6826717532882193\n",
      "Custo Após 110 iterações é 0.6818235628489049\n",
      "Custo Após 120 iterações é 0.6810064466693692\n",
      "Custo Após 130 iterações é 0.6802192406833479\n",
      "Custo Após 140 iterações é 0.6794608243437809\n",
      "Custo Após 150 iterações é 0.6787301695414631\n",
      "Custo Após 160 iterações é 0.6780262555953636\n",
      "Custo Após 170 iterações é 0.677348114101808\n",
      "Custo Após 180 iterações é 0.6766948185273274\n",
      "Custo Após 190 iterações é 0.6760654178572152\n",
      "Custo Após 200 iterações é 0.6754590245961413\n",
      "Custo Após 210 iterações é 0.6748747967459479\n",
      "Custo Após 220 iterações é 0.6743118869579959\n",
      "Custo Após 230 iterações é 0.6737694979102937\n",
      "Custo Após 240 iterações é 0.6732468630889196\n",
      "Custo Após 250 iterações é 0.6727432349255446\n",
      "Custo Após 260 iterações é 0.6722579073377486\n",
      "Custo Após 270 iterações é 0.6717901832553234\n",
      "Custo Após 280 iterações é 0.6713394031356933\n",
      "Custo Após 290 iterações é 0.6709049305487246\n",
      "Custo Após 300 iterações é 0.6704861499414545\n",
      "Custo Após 310 iterações é 0.6700824666198507\n",
      "Custo Após 320 iterações é 0.6696933070518436\n",
      "Custo Após 330 iterações é 0.6693181195805645\n",
      "Custo Após 340 iterações é 0.6689563713675095\n",
      "Custo Após 350 iterações é 0.6686075488364868\n",
      "Custo Após 360 iterações é 0.6682711510584486\n",
      "Custo Após 370 iterações é 0.6679466972769361\n",
      "Custo Após 380 iterações é 0.6676337203362511\n",
      "Custo Após 390 iterações é 0.6673317694421411\n",
      "Custo Após 400 iterações é 0.6670404055332372\n",
      "Custo Após 410 iterações é 0.6667592006921055\n",
      "Custo Após 420 iterações é 0.6664877388704953\n",
      "Custo Após 430 iterações é 0.6662256163604795\n",
      "Custo Após 440 iterações é 0.6659724350956943\n",
      "Custo Após 450 iterações é 0.6657278020246472\n",
      "Custo Após 460 iterações é 0.6654913277030108\n",
      "Custo Após 470 iterações é 0.6652626226780526\n",
      "Custo Após 480 iterações é 0.6650412858435012\n",
      "Custo Após 490 iterações é 0.664826904531176\n",
      "Custo Após 500 iterações é 0.6646190334489593\n",
      "Custo Após 510 iterações é 0.6644172409145095\n",
      "Custo Após 520 iterações é 0.6642210480369098\n",
      "Custo Após 530 iterações é 0.6640300733507679\n",
      "Custo Após 540 iterações é 0.6638441084551732\n",
      "Custo Após 550 iterações é 0.6636629665767507\n",
      "Custo Após 560 iterações é 0.663486187908553\n",
      "Custo Após 570 iterações é 0.6633133989630107\n",
      "Custo Após 580 iterações é 0.6631441503539319\n",
      "Custo Após 590 iterações é 0.6629778878610859\n",
      "Custo Após 600 iterações é 0.6628139344123242\n",
      "Custo Após 610 iterações é 0.6626515971143048\n",
      "Custo Após 620 iterações é 0.6624900392428261\n",
      "Custo Após 630 iterações é 0.6623284525746685\n",
      "Custo Após 640 iterações é 0.6621657572264099\n",
      "Custo Após 650 iterações é 0.6620006883437727\n",
      "Custo Após 660 iterações é 0.6618316480716607\n",
      "Custo Após 670 iterações é 0.6616566075804969\n",
      "Custo Após 680 iterações é 0.6614730256083128\n",
      "Custo Após 690 iterações é 0.6612775746009074\n",
      "Custo Após 700 iterações é 0.6610659498744953\n",
      "Custo Após 710 iterações é 0.6608323475207074\n",
      "Custo Após 720 iterações é 0.6605687976398739\n",
      "Custo Após 730 iterações é 0.6602645139398876\n",
      "Custo Após 740 iterações é 0.6599038459099661\n",
      "Custo Após 750 iterações é 0.6594627774911607\n",
      "Custo Após 760 iterações é 0.6589050384460877\n",
      "Custo Após 770 iterações é 0.658173052809645\n",
      "Custo Após 780 iterações é 0.6571745912834438\n",
      "Custo Após 790 iterações é 0.6557487376616281\n",
      "Custo Após 800 iterações é 0.653607360597581\n",
      "Custo Após 810 iterações é 0.6502123791041704\n",
      "Custo Após 820 iterações é 0.6445787633604563\n",
      "Custo Após 830 iterações é 0.6351825408119289\n",
      "Custo Após 840 iterações é 0.6216106800834611\n",
      "Custo Após 850 iterações é 0.6093881397159137\n",
      "Custo Após 860 iterações é 0.603670145183895\n",
      "Custo Após 870 iterações é 0.6007427233065902\n",
      "Custo Após 880 iterações é 0.5981847905724037\n",
      "Custo Após 890 iterações é 0.5956449883146211\n",
      "Custo Após 900 iterações é 0.5930938601173495\n",
      "Custo Após 910 iterações é 0.590525519960743\n",
      "Custo Após 920 iterações é 0.5879346027006542\n",
      "Custo Após 930 iterações é 0.5853156365378578\n",
      "Custo Após 940 iterações é 0.5826620966996636\n",
      "Custo Após 950 iterações é 0.5799667794069012\n",
      "Custo Após 960 iterações é 0.5772201154000729\n",
      "Custo Após 970 iterações é 0.5744103873427242\n",
      "Custo Após 980 iterações é 0.5715231758577887\n",
      "Custo Após 990 iterações é 0.5685396478989907\n",
      "Custo Após 1000 iterações é 0.5654358075242552\n",
      "Custo Após 1010 iterações é 0.5621813350580943\n",
      "Custo Após 1020 iterações é 0.5587366610658538\n",
      "Custo Após 1030 iterações é 0.5550476734944412\n",
      "Custo Após 1040 iterações é 0.5510410375411259\n",
      "Custo Após 1050 iterações é 0.5466154073705494\n",
      "Custo Após 1060 iterações é 0.541629670721664\n",
      "Custo Após 1070 iterações é 0.535886157868299\n",
      "Custo Após 1080 iterações é 0.5291078385542745\n",
      "Custo Após 1090 iterações é 0.5209220216014414\n",
      "Custo Após 1100 iterações é 0.5108799280929818\n",
      "Custo Após 1110 iterações é 0.49837571729338653\n",
      "Custo Após 1120 iterações é 0.48288764318116567\n",
      "Custo Após 1130 iterações é 0.4644523298948083\n",
      "Custo Após 1140 iterações é 0.4445835337701196\n",
      "Custo Após 1150 iterações é 0.4276833292120628\n",
      "Custo Após 1160 iterações é 0.48446204369766294\n",
      "Custo Após 1170 iterações é 0.45827961669725925\n",
      "Custo Após 1180 iterações é 0.45134309324707533\n",
      "Custo Após 1190 iterações é 0.4467741626588297\n",
      "Custo Após 1200 iterações é 0.4426242651586441\n",
      "Custo Após 1210 iterações é 0.43774093821910154\n",
      "Custo Após 1220 iterações é 0.43609572885247844\n",
      "Custo Após 1230 iterações é 0.4326116990567361\n",
      "Custo Após 1240 iterações é 0.42864046783589776\n",
      "Custo Após 1250 iterações é 0.42438597605189876\n",
      "Custo Após 1260 iterações é 0.42305968328200627\n",
      "Custo Após 1270 iterações é 0.41613722892919314\n",
      "Custo Após 1280 iterações é 0.40962785691864106\n",
      "Custo Após 1290 iterações é 0.4063611007562619\n",
      "Custo Após 1300 iterações é 0.4021674404216701\n",
      "Custo Após 1310 iterações é 0.39913058623379843\n",
      "Custo Após 1320 iterações é 0.39161314138167536\n",
      "Custo Após 1330 iterações é 0.38813913621755314\n",
      "Custo Após 1340 iterações é 0.3812926121863107\n",
      "Custo Após 1350 iterações é 0.37884811620631287\n",
      "Custo Após 1360 iterações é 0.3751858292312028\n",
      "Custo Após 1370 iterações é 0.3727958908188978\n",
      "Custo Após 1380 iterações é 0.37161512647404377\n",
      "Custo Após 1390 iterações é 0.36760274166285134\n",
      "Custo Após 1400 iterações é 0.365791798790537\n",
      "Custo Após 1410 iterações é 0.3628936892225116\n",
      "Custo Após 1420 iterações é 0.36020417482669265\n",
      "Custo Após 1430 iterações é 0.35945243119549497\n",
      "Custo Após 1440 iterações é 0.3578952655849302\n",
      "Custo Após 1450 iterações é 0.35544107284653503\n",
      "Custo Após 1460 iterações é 0.35390778493081376\n",
      "Custo Após 1470 iterações é 0.35210879648145893\n",
      "Custo Após 1480 iterações é 0.3500825239875262\n",
      "Custo Após 1490 iterações é 0.34800607802936434\n",
      "Custo Após 1500 iterações é 0.3456791740695013\n",
      "Custo Após 1510 iterações é 0.3436466737754427\n",
      "Custo Após 1520 iterações é 0.3439738992088696\n",
      "Custo Após 1530 iterações é 0.341070556162452\n",
      "Custo Após 1540 iterações é 0.34151696648832813\n",
      "Custo Após 1550 iterações é 0.34110014695480656\n",
      "Custo Após 1560 iterações é 0.3366915071858872\n",
      "Custo Após 1570 iterações é 0.3376099380421369\n",
      "Custo Após 1580 iterações é 0.3346546502991595\n",
      "Custo Após 1590 iterações é 0.3337580299131535\n",
      "Custo Após 1600 iterações é 0.3314630503819857\n",
      "Custo Após 1610 iterações é 0.329726992587488\n",
      "Custo Após 1620 iterações é 0.32959048687121234\n",
      "Custo Após 1630 iterações é 0.3254799637499733\n",
      "Custo Após 1640 iterações é 0.3248511781892952\n",
      "Custo Após 1650 iterações é 0.3225344916445884\n",
      "Custo Após 1660 iterações é 0.3187784424288635\n",
      "Custo Após 1670 iterações é 0.3042480629511971\n",
      "Custo Após 1680 iterações é 0.3055000363552033\n",
      "Custo Após 1690 iterações é 0.3034691563296585\n",
      "Custo Após 1700 iterações é 0.30591841026235655\n",
      "Custo Após 1710 iterações é 0.30655105520068204\n",
      "Custo Após 1720 iterações é 0.3071747483032718\n",
      "Custo Após 1730 iterações é 0.3053740456729044\n",
      "Custo Após 1740 iterações é 0.31438581493070056\n",
      "Custo Após 1750 iterações é 0.3179399100472611\n",
      "Custo Após 1760 iterações é 0.31311372042945074\n"
     ]
    },
    {
     "name": "stdout",
     "output_type": "stream",
     "text": [
      "Custo Após 1770 iterações é 0.31277147572366026\n",
      "Custo Após 1780 iterações é 0.3108875056739424\n",
      "Custo Após 1790 iterações é 0.3090158376808943\n",
      "Custo Após 1800 iterações é 0.30846842259043833\n",
      "Custo Após 1810 iterações é 0.3068293807919803\n",
      "Custo Após 1820 iterações é 0.3023294581277787\n",
      "Custo Após 1830 iterações é 0.3043131389192641\n",
      "Custo Após 1840 iterações é 0.3034654947030089\n",
      "Custo Após 1850 iterações é 0.29848705652355906\n",
      "Custo Após 1860 iterações é 0.2899453933495967\n",
      "Custo Após 1870 iterações é 0.29088079179510734\n",
      "Custo Após 1880 iterações é 0.2888494750591845\n",
      "Custo Após 1890 iterações é 0.2895893718440689\n",
      "Custo Após 1900 iterações é 0.2905995819720762\n",
      "Custo Após 1910 iterações é 0.2879575800513603\n",
      "Custo Após 1920 iterações é 0.2850421822966877\n",
      "Custo Após 1930 iterações é 0.285293855544169\n",
      "Custo Após 1940 iterações é 0.28466647873034073\n",
      "Custo Após 1950 iterações é 0.2849821937522044\n",
      "Custo Após 1960 iterações é 0.28581568315974104\n",
      "Custo Após 1970 iterações é 0.28276386498159756\n",
      "Custo Após 1980 iterações é 0.2825315926093716\n",
      "Custo Após 1990 iterações é 0.28159344194903135\n",
      "Custo Após 2000 iterações é 0.2849454457759698\n",
      "Custo Após 2010 iterações é 0.28137213704356795\n",
      "Custo Após 2020 iterações é 0.28214795734646314\n",
      "Custo Após 2030 iterações é 0.28169759645034986\n",
      "Custo Após 2040 iterações é 0.27941097202684473\n",
      "Custo Após 2050 iterações é 0.27975941356738165\n",
      "Custo Após 2060 iterações é 0.2774086924553881\n",
      "Custo Após 2070 iterações é 0.2794425703919594\n",
      "Custo Após 2080 iterações é 0.2799312340548068\n",
      "Custo Após 2090 iterações é 0.2801724921123665\n",
      "Custo Após 2100 iterações é 0.2778960712931344\n",
      "Custo Após 2110 iterações é 0.27660956310781976\n",
      "Custo Após 2120 iterações é 0.273168019639244\n",
      "Custo Após 2130 iterações é 0.27507195376353144\n",
      "Custo Após 2140 iterações é 0.2732243856022806\n",
      "Custo Após 2150 iterações é 0.27643963835465657\n",
      "Custo Após 2160 iterações é 0.27579694040046054\n",
      "Custo Após 2170 iterações é 0.2745818579400573\n",
      "Custo Após 2180 iterações é 0.27315979965732606\n",
      "Custo Após 2190 iterações é 0.27424488283755966\n",
      "Custo Após 2200 iterações é 0.2727063874273\n",
      "Custo Após 2210 iterações é 0.2724564304820723\n",
      "Custo Após 2220 iterações é 0.27304048723034213\n",
      "Custo Após 2230 iterações é 0.2675792717611259\n",
      "Custo Após 2240 iterações é 0.2668905532559493\n",
      "Custo Após 2250 iterações é 0.2671608860023406\n",
      "Custo Após 2260 iterações é 0.2707725569801272\n",
      "Custo Após 2270 iterações é 0.27452783110522977\n",
      "Custo Após 2280 iterações é 0.2714363689176977\n",
      "Custo Após 2290 iterações é 0.26786012019369587\n",
      "Custo Após 2300 iterações é 0.26787686893710755\n",
      "Custo Após 2310 iterações é 0.2688394051434403\n",
      "Custo Após 2320 iterações é 0.268092177396389\n",
      "Custo Após 2330 iterações é 0.26773866416816844\n",
      "Custo Após 2340 iterações é 0.2577894632738548\n",
      "Custo Após 2350 iterações é 0.2544723916494632\n",
      "Custo Após 2360 iterações é 0.2564566551020754\n",
      "Custo Após 2370 iterações é 0.27215164507078016\n",
      "Custo Após 2380 iterações é 0.26745795521952276\n",
      "Custo Após 2390 iterações é 0.25502871726058457\n",
      "Custo Após 2400 iterações é 0.266194236599126\n",
      "Custo Após 2410 iterações é 0.26305898467670397\n",
      "Custo Após 2420 iterações é 0.2531477495790929\n",
      "Custo Após 2430 iterações é 0.2673151592094017\n",
      "Custo Após 2440 iterações é 0.2543326817319529\n",
      "Custo Após 2450 iterações é 0.2611603018329716\n",
      "Custo Após 2460 iterações é 0.260989721767948\n",
      "Custo Após 2470 iterações é 0.25373756756260585\n",
      "Custo Após 2480 iterações é 0.2657676805570686\n",
      "Custo Após 2490 iterações é 0.25048029385222703\n",
      "Custo Após 2500 iterações é 0.2604324342901083\n",
      "Custo Após 2510 iterações é 0.25746377363690015\n",
      "Custo Após 2520 iterações é 0.2511672939829639\n",
      "Custo Após 2530 iterações é 0.26186357131396576\n",
      "Custo Após 2540 iterações é 0.25150475534326283\n",
      "Custo Após 2550 iterações é 0.2516655367239015\n",
      "Custo Após 2560 iterações é 0.26292935967767306\n",
      "Custo Após 2570 iterações é 0.2485713994419478\n",
      "Custo Após 2580 iterações é 0.2503161338326455\n",
      "Custo Após 2590 iterações é 0.257163963388226\n",
      "Custo Após 2600 iterações é 0.2515195123521649\n",
      "Custo Após 2610 iterações é 0.24784910150151185\n",
      "Custo Após 2620 iterações é 0.24994726604402642\n",
      "Custo Após 2630 iterações é 0.2552642289947103\n",
      "Custo Após 2640 iterações é 0.2569469261841327\n",
      "Custo Após 2650 iterações é 0.2571713803225947\n",
      "Custo Após 2660 iterações é 0.25718071886573196\n",
      "Custo Após 2670 iterações é 0.25559568746848965\n",
      "Custo Após 2680 iterações é 0.2494628553216587\n",
      "Custo Após 2690 iterações é 0.24215280012412924\n",
      "Custo Após 2700 iterações é 0.24004293875496183\n",
      "Custo Após 2710 iterações é 0.2392641542349141\n",
      "Custo Após 2720 iterações é 0.2391500816917893\n",
      "Custo Após 2730 iterações é 0.24037342564109043\n",
      "Custo Após 2740 iterações é 0.24168988861777577\n",
      "Custo Após 2750 iterações é 0.24686854913816791\n",
      "Custo Após 2760 iterações é 0.2600735898565176\n",
      "Custo Após 2770 iterações é 0.25156958670179835\n",
      "Custo Após 2780 iterações é 0.25327589498911657\n",
      "Custo Após 2790 iterações é 0.25046994512112647\n",
      "Custo Após 2800 iterações é 0.24212227630204447\n",
      "Custo Após 2810 iterações é 0.23638159827917699\n",
      "Custo Após 2820 iterações é 0.2367961313861824\n",
      "Custo Após 2830 iterações é 0.23717069588943457\n",
      "Custo Após 2840 iterações é 0.23746340344769848\n",
      "Custo Após 2850 iterações é 0.23577602096416866\n",
      "Custo Após 2860 iterações é 0.2363753359944625\n",
      "Custo Após 2870 iterações é 0.23574973930499776\n",
      "Custo Após 2880 iterações é 0.24041308659964752\n",
      "Custo Após 2890 iterações é 0.2576077112454593\n",
      "Custo Após 2900 iterações é 0.2514764969779006\n",
      "Custo Após 2910 iterações é 0.24812906664401665\n",
      "Custo Após 2920 iterações é 0.2436562143419603\n",
      "Custo Após 2930 iterações é 0.23936549426588943\n",
      "Custo Após 2940 iterações é 0.24246145041297554\n",
      "Custo Após 2950 iterações é 0.23899935483807133\n",
      "Custo Após 2960 iterações é 0.24183541881813245\n",
      "Custo Após 2970 iterações é 0.24057338976844708\n",
      "Custo Após 2980 iterações é 0.23833443004971383\n",
      "Custo Após 2990 iterações é 0.24095390979897158\n",
      "\n",
      "Completed Training.\n",
      "\n"
     ]
    }
   ],
   "source": [
    "# Model training\n",
    "\n",
    "print(\"\\nStarting Training.\\n\")\n",
    "\n",
    "parametros, custo = modeloNN(X = X_treino, \n",
    "                             Y = y_treino, \n",
    "                             dims_camada_entrada = dims_camada_entrada, \n",
    "                             num_iterations = 3000, \n",
    "                             learning_rate = 0.0075)\n",
    "\n",
    "print(\"\\nCompleted Training.\\n\")"
   ]
  },
  {
   "cell_type": "code",
   "execution_count": 43,
   "metadata": {},
   "outputs": [
    {
     "data": {
      "text/plain": [
       "[<matplotlib.lines.Line2D at 0x1d471887d00>]"
      ]
     },
     "execution_count": 43,
     "metadata": {},
     "output_type": "execute_result"
    },
    {
     "data": {
      "image/png": "[encoded data removed]",
      "text/plain": [
       "<Figure size 640x480 with 1 Axes>"
      ]
     },
     "metadata": {},
     "output_type": "display_data"
    }
   ],
   "source": [
    "# Error plot during training\n",
    "plt.plot(custo)"
   ]
  },
  {
   "cell_type": "code",
   "execution_count": 44,
   "metadata": {},
   "outputs": [],
   "source": [
    "# Predictions with training data\n",
    "y_pred_treino = predict(X_treino, parametros)"
   ]
  },
  {
   "cell_type": "code",
   "execution_count": 45,
   "metadata": {},
   "outputs": [],
   "source": [
    "# Adjusted the shape in training\n",
    "y_pred_treino = y_pred_treino.reshape(-1)\n",
    "y_treino = y_treino.reshape(-1)"
   ]
  },
  {
   "cell_type": "code",
   "execution_count": 46,
   "metadata": {},
   "outputs": [],
   "source": [
    "y_pred_treino = 1 * (y_pred_treino > 0.5)"
   ]
  },
  {
   "cell_type": "code",
   "execution_count": 47,
   "metadata": {},
   "outputs": [],
   "source": [
    "# We calculate accuracy by comparing actual value with predicted value\n",
    "acc_treino = sum(1 * (y_pred_treino == y_treino)) / len(y_pred_treino) * 100"
   ]
  },
  {
   "cell_type": "code",
   "execution_count": 48,
   "metadata": {},
   "outputs": [
    {
     "name": "stdout",
     "output_type": "stream",
     "text": [
      "Accuracy in training data: 91.92546583850931\n"
     ]
    }
   ],
   "source": [
    "print(\"Accuracy in training data: \" + str(acc_treino))"
   ]
  },
  {
   "cell_type": "code",
   "execution_count": 49,
   "metadata": {},
   "outputs": [
    {
     "name": "stdout",
     "output_type": "stream",
     "text": [
      "              precision    recall  f1-score   support\n",
      "\n",
      "     Maligno       0.96      0.82      0.88       179\n",
      "     Benigno       0.90      0.98      0.94       304\n",
      "\n",
      "    accuracy                           0.92       483\n",
      "   macro avg       0.93      0.90      0.91       483\n",
      "weighted avg       0.92      0.92      0.92       483\n",
      "\n"
     ]
    }
   ],
   "source": [
    "print(classification_report(y_treino, y_pred_treino, target_names = ['Maligno', 'Benigno']))"
   ]
  },
  {
   "cell_type": "code",
   "execution_count": 50,
   "metadata": {},
   "outputs": [],
   "source": [
    "# Predictions with the model using test data\n",
    "y_pred_teste = predict(X_teste, parametros)"
   ]
  },
  {
   "cell_type": "code",
   "execution_count": 51,
   "metadata": {},
   "outputs": [],
   "source": [
    "# Adjust the shapes\n",
    "y_pred_teste = y_pred_teste.reshape(-1)\n",
    "y_teste = y_teste.reshape(-1)"
   ]
  },
  {
   "cell_type": "code",
   "execution_count": 52,
   "metadata": {},
   "outputs": [],
   "source": [
    "# Convert predictions to class binary value\n",
    "y_pred_teste = 1 * (y_pred_teste > 0.5)"
   ]
  },
  {
   "cell_type": "code",
   "execution_count": 53,
   "metadata": {},
   "outputs": [
    {
     "data": {
      "text/plain": [
       "array([0, 1, 1, 1, 0, 1, 1, 1, 0, 0, 1, 1, 1, 1, 1, 1, 1, 0, 1, 1, 1, 1,\n",
       "       0, 0, 0, 1, 1, 1, 1, 1, 1, 0, 0, 0, 0, 1, 0, 1, 1, 1, 0, 0, 0, 1,\n",
       "       1, 1, 1, 1, 1, 1, 1, 1, 1, 0, 1, 1, 1, 1, 0, 1, 0, 1, 0, 1, 1, 1,\n",
       "       1, 1, 1, 0, 0, 0, 0, 0, 1, 1, 1, 1, 0, 1, 0, 0, 1, 1, 1, 1])"
      ]
     },
     "execution_count": 53,
     "metadata": {},
     "output_type": "execute_result"
    }
   ],
   "source": [
    "# Visualize the predictions\n",
    "y_pred_teste"
   ]
  },
  {
   "cell_type": "code",
   "execution_count": 54,
   "metadata": {},
   "outputs": [],
   "source": [
    "# Calculate the accuracy\n",
    "acuracia = sum(1 * (y_pred_teste == y_teste)) / len(y_pred_teste) * 100"
   ]
  },
  {
   "cell_type": "code",
   "execution_count": 55,
   "metadata": {},
   "outputs": [
    {
     "name": "stdout",
     "output_type": "stream",
     "text": [
      "Accuracy in test data: 94.18604651162791\n"
     ]
    }
   ],
   "source": [
    "print(\"Accuracy in test data: \" + str(acuracia))"
   ]
  },
  {
   "cell_type": "code",
   "execution_count": 56,
   "metadata": {},
   "outputs": [
    {
     "name": "stdout",
     "output_type": "stream",
     "text": [
      "              precision    recall  f1-score   support\n",
      "\n",
      "     Maligno       1.00      0.85      0.92        33\n",
      "     Benigno       0.91      1.00      0.95        53\n",
      "\n",
      "    accuracy                           0.94        86\n",
      "   macro avg       0.96      0.92      0.94        86\n",
      "weighted avg       0.95      0.94      0.94        86\n",
      "\n"
     ]
    }
   ],
   "source": [
    "print(classification_report(y_teste, y_pred_teste, target_names = ['Maligno', 'Benigno']))"
   ]
  },
  {
   "cell_type": "markdown",
   "metadata": {},
   "source": [
    "We can already conclude the project here, because we already have a model to Predict the Occurrence of Cancer with 91% of acurracy."
   ]
  }
 ],
 "metadata": {
  "kernelspec": {
   "display_name": "Python 3 (ipykernel)",
   "language": "python",
   "name": "python3"
  },
  "language_info": {
   "codemirror_mode": {
    "name": "ipython",
    "version": 3
   },
   "file_extension": ".py",
   "mimetype": "text/x-python",
   "name": "python",
   "nbconvert_exporter": "python",
   "pygments_lexer": "ipython3",
   "version": "3.9.13"
  }
 },
 "nbformat": 4,
 "nbformat_minor": 4
}
