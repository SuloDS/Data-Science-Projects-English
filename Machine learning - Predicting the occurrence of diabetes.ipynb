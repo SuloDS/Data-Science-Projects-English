{
 "cells": [
  {
   "cell_type": "markdown",
   "id": "e3597c09",
   "metadata": {},
   "source": [
    "### <font color='blue'>Context</font>\n",
    "\n",
    "**Diabetes** is one of the fastest growing life-threatening chronic diseases and has already affected 422 million people worldwide according to the World Health Organization (WHO) report in 2018. a relatively long asymptomatic phase, early detection of diabetes is always desired for a clinically meaningful outcome. Around 50% of all people suffering from diabetes go undiagnosed due to its long-term asymptomatic phase.\n",
    "\n",
    "This dataset contains 520 observations with 17 characteristics, collected using direct questionnaires and diagnostic results from patients at Sylhet Diabetes Hospital in Sylhet, Bangladesh.\n",
    "\n",
    "\n",
    "### <font color='blue'>Objective of Analysis</font>\n",
    "\n",
    "\n",
    "* **Create a classification model to predict diabetes.**\n",
    "\n",
    "* **Explore the most common features associated with diabetic risk.**\n",
    "\n",
    "\n",
    "### <font color='blue'>Description of Predictive Variables</font>\n",
    "\n",
    "* **Polyuria** - If the patient is having an excessive volume of urine\n",
    "or not.\n",
    "\n",
    "* **Polydipsia** - Whether the patient is experiencing excessive thirst or not.\n",
    "\n",
    "* **Perda_peso_repentina**- If the patient had an episode of sudden weight loss or not.\n",
    "\n",
    "* **Weakness**- If the patient has had an episode of feeling weak.\n",
    "\n",
    "* **Polyphagia**- Whether the patient had an episode of excessive/extreme hunger or not.\n",
    "\n",
    "* **candidiasis_genital**- Whether the patient had a yeast infection or not.\n",
    "\n",
    "* **visual_blur**- If the patient had an episode of blurred vision.\n",
    "\n",
    "* **itching**- If the patient has had an episode of excessive itching.\n",
    "\n",
    "* **irritability**- If the patient had an episode of irritability.\n",
    "\n",
    "* **delayed_healing**- If the patient had a late healing noted when injured.\n",
    "\n",
    "* **partial_paresis**- Whether the patient has had an episode of weakening of a muscle/group of muscles or not.\n",
    "\n",
    "* **muscle stiffness**- If the patient has had an episode of muscle stiffness.\n",
    "\n",
    "* **baldness**- If the patient had hair loss or not.\n",
    "\n",
    "* **obesity**- Whether the patient can be considered obese or not using their body mass index.\n",
    "\n",
    "* **Result** - whether the patient was diagnosed with diabetes or not, *1* corresponds to *YES* and 0 corresponds to *NO*."
   ]
  },
  {
   "cell_type": "markdown",
   "id": "5fbdbe71",
   "metadata": {},
   "source": [
    "### <font color='blue'> Importing the libraries that will be used in the analysis </font>"
   ]
  },
  {
   "cell_type": "code",
   "execution_count": 1,
   "id": "6389091c",
   "metadata": {},
   "outputs": [],
   "source": [
    "import numpy as np\n",
    "import pandas as pd\n",
    "import joblib\n",
    "import pickle\n",
    "import numpy as np\n",
    "import pandas as pd\n",
    "import seaborn as sns\n",
    "from matplotlib import pyplot as plt\n",
    "import sklearn\n",
    "from sklearn.model_selection import train_test_split\n",
    "from sklearn.model_selection import GridSearchCV\n",
    "from sklearn.model_selection import cross_val_score\n",
    "from sklearn.model_selection import RandomizedSearchCV\n",
    "from sklearn.linear_model import LogisticRegression\n",
    "from sklearn.ensemble import RandomForestClassifier\n",
    "from sklearn.neighbors import KNeighborsClassifier\n",
    "from sklearn.tree import DecisionTreeClassifier\n",
    "from sklearn.svm import SVC\n",
    "from sklearn.metrics import roc_curve, auc, roc_auc_score, confusion_matrix\n",
    "from sklearn.metrics import accuracy_score\n",
    "%matplotlib inline \n",
    "import warnings\n",
    "warnings.filterwarnings(\"ignore\")\n",
    "from sklearn.preprocessing import StandardScaler"
   ]
  },
  {
   "cell_type": "markdown",
   "id": "6070a108",
   "metadata": {},
   "source": [
    "loading the data"
   ]
  },
  {
   "cell_type": "code",
   "execution_count": 2,
   "id": "78c15912",
   "metadata": {},
   "outputs": [],
   "source": [
    "df=pd.read_excel('diabete.xlsx')"
   ]
  },
  {
   "cell_type": "code",
   "execution_count": 3,
   "id": "df7b6216",
   "metadata": {},
   "outputs": [
    {
     "data": {
      "text/html": [
       "<div>\n",
       "<style scoped>\n",
       "    .dataframe tbody tr th:only-of-type {\n",
       "        vertical-align: middle;\n",
       "    }\n",
       "\n",
       "    .dataframe tbody tr th {\n",
       "        vertical-align: top;\n",
       "    }\n",
       "\n",
       "    .dataframe thead th {\n",
       "        text-align: right;\n",
       "    }\n",
       "</style>\n",
       "<table border=\"1\" class=\"dataframe\">\n",
       "  <thead>\n",
       "    <tr style=\"text-align: right;\">\n",
       "      <th></th>\n",
       "      <th>id</th>\n",
       "      <th>idade</th>\n",
       "      <th>genero</th>\n",
       "      <th>poliúria</th>\n",
       "      <th>polidipsia</th>\n",
       "      <th>Perda_peso_repentina</th>\n",
       "      <th>fraqueza</th>\n",
       "      <th>polifagia</th>\n",
       "      <th>candidiase_genital</th>\n",
       "      <th>desfoque_visual</th>\n",
       "      <th>coceira</th>\n",
       "      <th>irritabilidade</th>\n",
       "      <th>cura_atrasada</th>\n",
       "      <th>partial_paresis</th>\n",
       "      <th>rigidez_muscular</th>\n",
       "      <th>calvicie</th>\n",
       "      <th>obesidade</th>\n",
       "      <th>Resultado</th>\n",
       "    </tr>\n",
       "  </thead>\n",
       "  <tbody>\n",
       "    <tr>\n",
       "      <th>0</th>\n",
       "      <td>1</td>\n",
       "      <td>40</td>\n",
       "      <td>Masculino</td>\n",
       "      <td>Nao</td>\n",
       "      <td>Sim</td>\n",
       "      <td>Nao</td>\n",
       "      <td>Sim</td>\n",
       "      <td>Nao</td>\n",
       "      <td>Nao</td>\n",
       "      <td>Nao</td>\n",
       "      <td>Sim</td>\n",
       "      <td>Nao</td>\n",
       "      <td>Sim</td>\n",
       "      <td>Nao</td>\n",
       "      <td>Sim</td>\n",
       "      <td>Sim</td>\n",
       "      <td>Sim</td>\n",
       "      <td>1</td>\n",
       "    </tr>\n",
       "    <tr>\n",
       "      <th>1</th>\n",
       "      <td>2</td>\n",
       "      <td>58</td>\n",
       "      <td>Masculino</td>\n",
       "      <td>Nao</td>\n",
       "      <td>Nao</td>\n",
       "      <td>Nao</td>\n",
       "      <td>Sim</td>\n",
       "      <td>Nao</td>\n",
       "      <td>Nao</td>\n",
       "      <td>Sim</td>\n",
       "      <td>Nao</td>\n",
       "      <td>Nao</td>\n",
       "      <td>Nao</td>\n",
       "      <td>Sim</td>\n",
       "      <td>Nao</td>\n",
       "      <td>Sim</td>\n",
       "      <td>Nao</td>\n",
       "      <td>1</td>\n",
       "    </tr>\n",
       "    <tr>\n",
       "      <th>2</th>\n",
       "      <td>3</td>\n",
       "      <td>41</td>\n",
       "      <td>Masculino</td>\n",
       "      <td>Sim</td>\n",
       "      <td>Nao</td>\n",
       "      <td>Nao</td>\n",
       "      <td>Sim</td>\n",
       "      <td>Sim</td>\n",
       "      <td>Nao</td>\n",
       "      <td>Nao</td>\n",
       "      <td>Sim</td>\n",
       "      <td>Nao</td>\n",
       "      <td>Sim</td>\n",
       "      <td>Nao</td>\n",
       "      <td>Sim</td>\n",
       "      <td>Sim</td>\n",
       "      <td>Nao</td>\n",
       "      <td>1</td>\n",
       "    </tr>\n",
       "    <tr>\n",
       "      <th>3</th>\n",
       "      <td>4</td>\n",
       "      <td>45</td>\n",
       "      <td>Masculino</td>\n",
       "      <td>Nao</td>\n",
       "      <td>Nao</td>\n",
       "      <td>Sim</td>\n",
       "      <td>Sim</td>\n",
       "      <td>Sim</td>\n",
       "      <td>Sim</td>\n",
       "      <td>Nao</td>\n",
       "      <td>Sim</td>\n",
       "      <td>Nao</td>\n",
       "      <td>Sim</td>\n",
       "      <td>Nao</td>\n",
       "      <td>Nao</td>\n",
       "      <td>Nao</td>\n",
       "      <td>Nao</td>\n",
       "      <td>1</td>\n",
       "    </tr>\n",
       "    <tr>\n",
       "      <th>4</th>\n",
       "      <td>5</td>\n",
       "      <td>60</td>\n",
       "      <td>Masculino</td>\n",
       "      <td>Sim</td>\n",
       "      <td>Sim</td>\n",
       "      <td>Sim</td>\n",
       "      <td>Sim</td>\n",
       "      <td>Sim</td>\n",
       "      <td>Nao</td>\n",
       "      <td>Sim</td>\n",
       "      <td>Sim</td>\n",
       "      <td>Sim</td>\n",
       "      <td>Sim</td>\n",
       "      <td>Sim</td>\n",
       "      <td>Sim</td>\n",
       "      <td>Sim</td>\n",
       "      <td>Sim</td>\n",
       "      <td>1</td>\n",
       "    </tr>\n",
       "    <tr>\n",
       "      <th>5</th>\n",
       "      <td>6</td>\n",
       "      <td>55</td>\n",
       "      <td>Masculino</td>\n",
       "      <td>Sim</td>\n",
       "      <td>Sim</td>\n",
       "      <td>Nao</td>\n",
       "      <td>Sim</td>\n",
       "      <td>Sim</td>\n",
       "      <td>Nao</td>\n",
       "      <td>Sim</td>\n",
       "      <td>Sim</td>\n",
       "      <td>Nao</td>\n",
       "      <td>Sim</td>\n",
       "      <td>Nao</td>\n",
       "      <td>Sim</td>\n",
       "      <td>Sim</td>\n",
       "      <td>Sim</td>\n",
       "      <td>1</td>\n",
       "    </tr>\n",
       "    <tr>\n",
       "      <th>6</th>\n",
       "      <td>7</td>\n",
       "      <td>57</td>\n",
       "      <td>Masculino</td>\n",
       "      <td>Sim</td>\n",
       "      <td>Sim</td>\n",
       "      <td>Nao</td>\n",
       "      <td>Sim</td>\n",
       "      <td>Sim</td>\n",
       "      <td>Sim</td>\n",
       "      <td>Nao</td>\n",
       "      <td>Nao</td>\n",
       "      <td>Nao</td>\n",
       "      <td>Sim</td>\n",
       "      <td>Sim</td>\n",
       "      <td>Nao</td>\n",
       "      <td>Nao</td>\n",
       "      <td>Nao</td>\n",
       "      <td>1</td>\n",
       "    </tr>\n",
       "    <tr>\n",
       "      <th>7</th>\n",
       "      <td>8</td>\n",
       "      <td>66</td>\n",
       "      <td>Masculino</td>\n",
       "      <td>Sim</td>\n",
       "      <td>Sim</td>\n",
       "      <td>Sim</td>\n",
       "      <td>Sim</td>\n",
       "      <td>Nao</td>\n",
       "      <td>Nao</td>\n",
       "      <td>Sim</td>\n",
       "      <td>Sim</td>\n",
       "      <td>Sim</td>\n",
       "      <td>Nao</td>\n",
       "      <td>Sim</td>\n",
       "      <td>Sim</td>\n",
       "      <td>Nao</td>\n",
       "      <td>Nao</td>\n",
       "      <td>1</td>\n",
       "    </tr>\n",
       "    <tr>\n",
       "      <th>8</th>\n",
       "      <td>9</td>\n",
       "      <td>67</td>\n",
       "      <td>Masculino</td>\n",
       "      <td>Sim</td>\n",
       "      <td>Sim</td>\n",
       "      <td>Nao</td>\n",
       "      <td>Sim</td>\n",
       "      <td>Sim</td>\n",
       "      <td>Sim</td>\n",
       "      <td>Nao</td>\n",
       "      <td>Sim</td>\n",
       "      <td>Sim</td>\n",
       "      <td>Nao</td>\n",
       "      <td>Sim</td>\n",
       "      <td>Sim</td>\n",
       "      <td>Nao</td>\n",
       "      <td>Sim</td>\n",
       "      <td>1</td>\n",
       "    </tr>\n",
       "    <tr>\n",
       "      <th>9</th>\n",
       "      <td>10</td>\n",
       "      <td>70</td>\n",
       "      <td>Masculino</td>\n",
       "      <td>Nao</td>\n",
       "      <td>Sim</td>\n",
       "      <td>Sim</td>\n",
       "      <td>Sim</td>\n",
       "      <td>Sim</td>\n",
       "      <td>Nao</td>\n",
       "      <td>Sim</td>\n",
       "      <td>Sim</td>\n",
       "      <td>Sim</td>\n",
       "      <td>Nao</td>\n",
       "      <td>Nao</td>\n",
       "      <td>Nao</td>\n",
       "      <td>Sim</td>\n",
       "      <td>Nao</td>\n",
       "      <td>1</td>\n",
       "    </tr>\n",
       "  </tbody>\n",
       "</table>\n",
       "</div>"
      ],
      "text/plain": [
       "   id  idade     genero poliúria polidipsia Perda_peso_repentina fraqueza  \\\n",
       "0   1     40  Masculino      Nao        Sim                  Nao      Sim   \n",
       "1   2     58  Masculino      Nao        Nao                  Nao      Sim   \n",
       "2   3     41  Masculino      Sim        Nao                  Nao      Sim   \n",
       "3   4     45  Masculino      Nao        Nao                  Sim      Sim   \n",
       "4   5     60  Masculino      Sim        Sim                  Sim      Sim   \n",
       "5   6     55  Masculino      Sim        Sim                  Nao      Sim   \n",
       "6   7     57  Masculino      Sim        Sim                  Nao      Sim   \n",
       "7   8     66  Masculino      Sim        Sim                  Sim      Sim   \n",
       "8   9     67  Masculino      Sim        Sim                  Nao      Sim   \n",
       "9  10     70  Masculino      Nao        Sim                  Sim      Sim   \n",
       "\n",
       "  polifagia candidiase_genital desfoque_visual coceira irritabilidade  \\\n",
       "0       Nao                Nao             Nao     Sim            Nao   \n",
       "1       Nao                Nao             Sim     Nao            Nao   \n",
       "2       Sim                Nao             Nao     Sim            Nao   \n",
       "3       Sim                Sim             Nao     Sim            Nao   \n",
       "4       Sim                Nao             Sim     Sim            Sim   \n",
       "5       Sim                Nao             Sim     Sim            Nao   \n",
       "6       Sim                Sim             Nao     Nao            Nao   \n",
       "7       Nao                Nao             Sim     Sim            Sim   \n",
       "8       Sim                Sim             Nao     Sim            Sim   \n",
       "9       Sim                Nao             Sim     Sim            Sim   \n",
       "\n",
       "  cura_atrasada partial_paresis rigidez_muscular calvicie obesidade  Resultado  \n",
       "0           Sim             Nao              Sim      Sim       Sim          1  \n",
       "1           Nao             Sim              Nao      Sim       Nao          1  \n",
       "2           Sim             Nao              Sim      Sim       Nao          1  \n",
       "3           Sim             Nao              Nao      Nao       Nao          1  \n",
       "4           Sim             Sim              Sim      Sim       Sim          1  \n",
       "5           Sim             Nao              Sim      Sim       Sim          1  \n",
       "6           Sim             Sim              Nao      Nao       Nao          1  \n",
       "7           Nao             Sim              Sim      Nao       Nao          1  \n",
       "8           Nao             Sim              Sim      Nao       Sim          1  \n",
       "9           Nao             Nao              Nao      Sim       Nao          1  "
      ]
     },
     "execution_count": 3,
     "metadata": {},
     "output_type": "execute_result"
    }
   ],
   "source": [
    "df.head(10)"
   ]
  },
  {
   "cell_type": "code",
   "execution_count": 4,
   "id": "b35b5877",
   "metadata": {},
   "outputs": [
    {
     "data": {
      "text/plain": [
       "(500, 18)"
      ]
     },
     "execution_count": 4,
     "metadata": {},
     "output_type": "execute_result"
    }
   ],
   "source": [
    "df.shape"
   ]
  },
  {
   "cell_type": "markdown",
   "id": "47e961bb",
   "metadata": {},
   "source": [
    "# <font color='blue'> Exploratory Data Analysis </font>"
   ]
  },
  {
   "cell_type": "code",
   "execution_count": 5,
   "id": "e9b3a4c7",
   "metadata": {},
   "outputs": [
    {
     "data": {
      "text/plain": [
       "id                       int64\n",
       "idade                    int64\n",
       "genero                  object\n",
       "poliúria                object\n",
       "polidipsia              object\n",
       "Perda_peso_repentina    object\n",
       "fraqueza                object\n",
       "polifagia               object\n",
       "candidiase_genital      object\n",
       "desfoque_visual         object\n",
       "coceira                 object\n",
       "irritabilidade          object\n",
       "cura_atrasada           object\n",
       "partial_paresis         object\n",
       "rigidez_muscular        object\n",
       "calvicie                object\n",
       "obesidade               object\n",
       "Resultado                int64\n",
       "dtype: object"
      ]
     },
     "execution_count": 5,
     "metadata": {},
     "output_type": "execute_result"
    }
   ],
   "source": [
    "df.dtypes"
   ]
  },
  {
   "cell_type": "code",
   "execution_count": 6,
   "id": "19e84830",
   "metadata": {},
   "outputs": [
    {
     "data": {
      "image/png": "[encoded data removed]",
      "text/plain": [
       "<Figure size 800x500 with 1 Axes>"
      ]
     },
     "metadata": {},
     "output_type": "display_data"
    }
   ],
   "source": [
    "# Plot \n",
    "df['idade'].hist(figsize = (8,5), bins = 10) \n",
    "plt.show()"
   ]
  },
  {
   "cell_type": "markdown",
   "id": "4b32abf0",
   "metadata": {},
   "source": [
    "## Exploring Categorical Variables"
   ]
  },
  {
   "cell_type": "code",
   "execution_count": 7,
   "id": "65a6f6f4",
   "metadata": {
    "scrolled": true
   },
   "outputs": [
    {
     "data": {
      "text/html": [
       "<div>\n",
       "<style scoped>\n",
       "    .dataframe tbody tr th:only-of-type {\n",
       "        vertical-align: middle;\n",
       "    }\n",
       "\n",
       "    .dataframe tbody tr th {\n",
       "        vertical-align: top;\n",
       "    }\n",
       "\n",
       "    .dataframe thead th {\n",
       "        text-align: right;\n",
       "    }\n",
       "</style>\n",
       "<table border=\"1\" class=\"dataframe\">\n",
       "  <thead>\n",
       "    <tr style=\"text-align: right;\">\n",
       "      <th></th>\n",
       "      <th>genero</th>\n",
       "      <th>poliúria</th>\n",
       "      <th>polidipsia</th>\n",
       "      <th>Perda_peso_repentina</th>\n",
       "      <th>fraqueza</th>\n",
       "      <th>polifagia</th>\n",
       "      <th>candidiase_genital</th>\n",
       "      <th>desfoque_visual</th>\n",
       "      <th>coceira</th>\n",
       "      <th>irritabilidade</th>\n",
       "      <th>cura_atrasada</th>\n",
       "      <th>partial_paresis</th>\n",
       "      <th>rigidez_muscular</th>\n",
       "      <th>calvicie</th>\n",
       "      <th>obesidade</th>\n",
       "    </tr>\n",
       "  </thead>\n",
       "  <tbody>\n",
       "    <tr>\n",
       "      <th>count</th>\n",
       "      <td>500</td>\n",
       "      <td>500</td>\n",
       "      <td>500</td>\n",
       "      <td>500</td>\n",
       "      <td>500</td>\n",
       "      <td>500</td>\n",
       "      <td>500</td>\n",
       "      <td>500</td>\n",
       "      <td>500</td>\n",
       "      <td>500</td>\n",
       "      <td>500</td>\n",
       "      <td>500</td>\n",
       "      <td>500</td>\n",
       "      <td>500</td>\n",
       "      <td>500</td>\n",
       "    </tr>\n",
       "    <tr>\n",
       "      <th>unique</th>\n",
       "      <td>2</td>\n",
       "      <td>2</td>\n",
       "      <td>2</td>\n",
       "      <td>2</td>\n",
       "      <td>2</td>\n",
       "      <td>2</td>\n",
       "      <td>2</td>\n",
       "      <td>2</td>\n",
       "      <td>2</td>\n",
       "      <td>2</td>\n",
       "      <td>2</td>\n",
       "      <td>2</td>\n",
       "      <td>2</td>\n",
       "      <td>2</td>\n",
       "      <td>2</td>\n",
       "    </tr>\n",
       "    <tr>\n",
       "      <th>top</th>\n",
       "      <td>Masculino</td>\n",
       "      <td>Sim</td>\n",
       "      <td>Nao</td>\n",
       "      <td>Nao</td>\n",
       "      <td>Sim</td>\n",
       "      <td>Nao</td>\n",
       "      <td>Nao</td>\n",
       "      <td>Nao</td>\n",
       "      <td>Nao</td>\n",
       "      <td>Nao</td>\n",
       "      <td>Nao</td>\n",
       "      <td>Nao</td>\n",
       "      <td>Nao</td>\n",
       "      <td>Nao</td>\n",
       "      <td>Nao</td>\n",
       "    </tr>\n",
       "    <tr>\n",
       "      <th>freq</th>\n",
       "      <td>314</td>\n",
       "      <td>251</td>\n",
       "      <td>272</td>\n",
       "      <td>290</td>\n",
       "      <td>296</td>\n",
       "      <td>270</td>\n",
       "      <td>386</td>\n",
       "      <td>273</td>\n",
       "      <td>256</td>\n",
       "      <td>376</td>\n",
       "      <td>269</td>\n",
       "      <td>283</td>\n",
       "      <td>310</td>\n",
       "      <td>329</td>\n",
       "      <td>415</td>\n",
       "    </tr>\n",
       "  </tbody>\n",
       "</table>\n",
       "</div>"
      ],
      "text/plain": [
       "           genero poliúria polidipsia Perda_peso_repentina fraqueza polifagia  \\\n",
       "count         500      500        500                  500      500       500   \n",
       "unique          2        2          2                    2        2         2   \n",
       "top     Masculino      Sim        Nao                  Nao      Sim       Nao   \n",
       "freq          314      251        272                  290      296       270   \n",
       "\n",
       "       candidiase_genital desfoque_visual coceira irritabilidade  \\\n",
       "count                 500             500     500            500   \n",
       "unique                  2               2       2              2   \n",
       "top                   Nao             Nao     Nao            Nao   \n",
       "freq                  386             273     256            376   \n",
       "\n",
       "       cura_atrasada partial_paresis rigidez_muscular calvicie obesidade  \n",
       "count            500             500              500      500       500  \n",
       "unique             2               2                2        2         2  \n",
       "top              Nao             Nao              Nao      Nao       Nao  \n",
       "freq             269             283              310      329       415  "
      ]
     },
     "execution_count": 7,
     "metadata": {},
     "output_type": "execute_result"
    }
   ],
   "source": [
    "df.describe(include = ['object'])"
   ]
  },
  {
   "cell_type": "markdown",
   "id": "42c525f8",
   "metadata": {},
   "source": [
    "## Categorical Columns x Variable Target(Result)"
   ]
  },
  {
   "cell_type": "code",
   "execution_count": 8,
   "id": "2aeac132",
   "metadata": {},
   "outputs": [
    {
     "data": {
      "image/png": "[encoded data removed]",
      "text/plain": [
       "<Figure size 1000x600 with 1 Axes>"
      ]
     },
     "metadata": {},
     "output_type": "display_data"
    }
   ],
   "source": [
    "df_group1 = df.groupby(['Resultado', 'poliúria']).agg({'id' : 'nunique'}).reset_index()\n",
    "df_group2 = df.groupby('poliúria').agg({'id' : 'nunique'}).reset_index() \n",
    "df_group3 = df_group1.merge(df_group2, on = 'poliúria')\n",
    "df_group3['Percentual(%)'] = df_group3['id_x'] / df_group3['id_y'] * 100\n",
    "df_group3.columns = ['Diabetes Outcome', \n",
    "                     'Poliúria', \n",
    "                     'Total Por Resultado', \n",
    "                     'Total Geral', \n",
    "                     'Percentual(%)']\n",
    "\n",
    "plt.figure(figsize = (10,6))\n",
    "\n",
    "chart = sns.barplot(x = 'Poliúria', \n",
    "                    y = 'Percentual(%)', \n",
    "                    data = df_group3, \n",
    "                    hue = 'Diabetes Outcome',\n",
    "                    palette = [\"orange\",\"green\"])\n",
    "\n",
    "\n",
    "sns.set(font_scale = 1.5)\n",
    "sns.set_style('whitegrid')\n",
    "sns.set_palette('prism')\n",
    "chart.set_xlabel(\"\\n If the patient is having an excessive volume of urine\", fontsize = 14)\n",
    "chart.set_ylabel(\"Percentual (%)\", fontsize = 14)\n",
    "\n",
    "\n",
    "plt.legend(loc = 'upper left', \n",
    "           borderpad = 1.5, \n",
    "           labelspacing = 1.5, \n",
    "           fontsize = 9, \n",
    "           title = 'Outcome')\n",
    "\n",
    "\n",
    "chart.text(x = -0.5, \n",
    "           y = 70, \n",
    "           s = \"\",\n",
    "           fontsize = 25, \n",
    "           weight = 'bold', \n",
    "           alpha = .75)\n",
    "\n",
    "\n",
    "chart.text(x = -0.5, \n",
    "           y = 64,\n",
    "           s = '',\n",
    "           fontsize = 16, \n",
    "           alpha = .85);"
   ]
  },
  {
   "cell_type": "code",
   "execution_count": 9,
   "id": "73f96426",
   "metadata": {},
   "outputs": [
    {
     "data": {
      "image/png": "[encoded data removed]",
      "text/plain": [
       "<Figure size 1000x600 with 1 Axes>"
      ]
     },
     "metadata": {},
     "output_type": "display_data"
    }
   ],
   "source": [
    "df_group4 = df.groupby(['Resultado', 'polidipsia']).agg({'id' : 'nunique'}).reset_index()\n",
    "df_group5 = df.groupby('polidipsia').agg({'id' : 'nunique'}).reset_index() \n",
    "df_group6 = df_group4.merge(df_group5, on = 'polidipsia')\n",
    "df_group6['Percentual(%)'] = df_group6['id_x'] / df_group6['id_y'] * 100\n",
    "df_group6.columns = ['Diabetes Outcome', \n",
    "                     'polidipsia', \n",
    "                     'Total Por Resultado', \n",
    "                     'Total Geral', \n",
    "                     'Percentual(%)']\n",
    "# Tamanho da figura\n",
    "plt.figure(figsize = (10,6))\n",
    "\n",
    "# Chart\n",
    "chart = sns.barplot(x = 'polidipsia', \n",
    "                    y = 'Percentual(%)', \n",
    "                    data = df_group6, \n",
    "                    hue = 'Diabetes Outcome',\n",
    "                    palette = [\"orange\",\"green\"])\n",
    "\n",
    "# Estilo e labels\n",
    "sns.set(font_scale = 1.5)\n",
    "sns.set_style('whitegrid')\n",
    "sns.set_palette('prism')\n",
    "chart.set_xlabel(\"\\n If the patient is experiencing excessive thirst\", fontsize = 14)\n",
    "chart.set_ylabel(\"Percentual (%)\", fontsize = 14)\n",
    "\n",
    "# Legenda\n",
    "plt.legend(loc = 'upper left', \n",
    "           borderpad = 1.5, \n",
    "           labelspacing = 1.5, \n",
    "           fontsize = 9, \n",
    "           title = 'Outcome')\n",
    "\n",
    "# Título\n",
    "chart.text(x = -0.5, \n",
    "           y = 70, \n",
    "           s = \"\",\n",
    "           fontsize = 25, \n",
    "           weight = 'bold', \n",
    "           alpha = .75)\n",
    "\n",
    "# Sub-título\n",
    "chart.text(x = -0.5, \n",
    "           y = 64,\n",
    "           s = '',\n",
    "           fontsize = 16, \n",
    "           alpha = .85);\n"
   ]
  },
  {
   "cell_type": "code",
   "execution_count": 10,
   "id": "79eb61fd",
   "metadata": {},
   "outputs": [
    {
     "data": {
      "image/png": "[encoded data removed]",
      "text/plain": [
       "<Figure size 1000x600 with 1 Axes>"
      ]
     },
     "metadata": {},
     "output_type": "display_data"
    }
   ],
   "source": [
    "df_group7 = df.groupby(['Resultado', 'Perda_peso_repentina']).agg({'id' : 'nunique'}).reset_index()\n",
    "df_group8 = df.groupby('Perda_peso_repentina').agg({'id' : 'nunique'}).reset_index() \n",
    "df_group9 = df_group7.merge(df_group8, on = 'Perda_peso_repentina')\n",
    "df_group9['Percentual(%)'] = df_group9['id_x'] / df_group9['id_y'] * 100\n",
    "df_group9.columns = ['Diabetes Outcome', \n",
    "                     'Perda_peso_repentina', \n",
    "                     'Total Por Resultado', \n",
    "                     'Total Geral', \n",
    "                     'Percentual(%)']\n",
    "# Tamanho da figura\n",
    "plt.figure(figsize = (10,6))\n",
    "\n",
    "# Chart\n",
    "chart = sns.barplot(x = 'Perda_peso_repentina', \n",
    "                    y = 'Percentual(%)', \n",
    "                    data = df_group9, \n",
    "                    hue = 'Diabetes Outcome',\n",
    "                    palette = [\"orange\",\"green\"])\n",
    "\n",
    "# Estilo e labels\n",
    "sns.set(font_scale = 1.5)\n",
    "sns.set_style('whitegrid')\n",
    "sns.set_palette('prism')\n",
    "chart.set_xlabel(\"\\n Whether the patient has had a sudden weight loss episode\", fontsize = 14)\n",
    "chart.set_ylabel(\"Percentual (%)\", fontsize = 14)\n",
    "\n",
    "# Legenda\n",
    "plt.legend(loc = 'upper left', \n",
    "           borderpad = 1.5, \n",
    "           labelspacing = 1.5, \n",
    "           fontsize = 9, \n",
    "           title = 'Outcome')\n",
    "\n",
    "# Título\n",
    "chart.text(x = -0.5, \n",
    "           y = 70, \n",
    "           s = \"\",\n",
    "           fontsize = 25, \n",
    "           weight = 'bold', \n",
    "           alpha = .75)\n",
    "\n",
    "# Sub-título\n",
    "chart.text(x = -0.5, \n",
    "           y = 64,\n",
    "           s = '',\n",
    "           fontsize = 16, \n",
    "           alpha = .85);\n"
   ]
  },
  {
   "cell_type": "code",
   "execution_count": 11,
   "id": "58999636",
   "metadata": {},
   "outputs": [
    {
     "data": {
      "image/png": "[encoded data removed]",
      "text/plain": [
       "<Figure size 1000x600 with 1 Axes>"
      ]
     },
     "metadata": {},
     "output_type": "display_data"
    }
   ],
   "source": [
    "df_group10 = df.groupby(['Resultado', 'cura_atrasada']).agg({'id' : 'nunique'}).reset_index()\n",
    "df_group11 = df.groupby('cura_atrasada').agg({'id' : 'nunique'}).reset_index() \n",
    "df_group12 = df_group10.merge(df_group11, on = 'cura_atrasada')\n",
    "df_group12['Percentual(%)'] = df_group12['id_x'] / df_group12['id_y'] * 100\n",
    "df_group12.columns = ['Diabetes Outcome', \n",
    "                     'cura_atrasada', \n",
    "                     'Total Por Resultado', \n",
    "                     'Total Geral', \n",
    "                     'Percentual(%)']\n",
    "# Tamanho da figura\n",
    "plt.figure(figsize = (10,6))\n",
    "\n",
    "# Chart\n",
    "chart = sns.barplot(x = 'cura_atrasada', \n",
    "                    y = 'Percentual(%)', \n",
    "                    data = df_group12, \n",
    "                    hue = 'Diabetes Outcome',\n",
    "                    palette = [\"orange\",\"green\"])\n",
    "\n",
    "# Estilo e labels\n",
    "sns.set(font_scale = 1.5)\n",
    "sns.set_style('whitegrid')\n",
    "sns.set_palette('prism')\n",
    "chart.set_xlabel(\"\\n Whether the patient had a noticeable delay in healing when injured\", fontsize = 14)\n",
    "chart.set_ylabel(\"Percentual (%)\", fontsize = 14)\n",
    "\n",
    "# Legenda\n",
    "plt.legend(loc = 'upper left', \n",
    "           borderpad = 1.5, \n",
    "           labelspacing = 1.5, \n",
    "           fontsize = 9, \n",
    "           title = 'Outcome')\n",
    "\n",
    "# Título\n",
    "chart.text(x = -0.5, \n",
    "           y = 70, \n",
    "           s = \"\",\n",
    "           fontsize = 25, \n",
    "           weight = 'bold', \n",
    "           alpha = .75)\n",
    "\n",
    "# Sub-título\n",
    "chart.text(x = -0.5, \n",
    "           y = 64,\n",
    "           s = '',\n",
    "           fontsize = 16, \n",
    "           alpha = .85);\n"
   ]
  },
  {
   "cell_type": "code",
   "execution_count": 12,
   "id": "bfb5943c",
   "metadata": {},
   "outputs": [
    {
     "data": {
      "image/png": "[encoded data removed]",
      "text/plain": [
       "<Figure size 1000x600 with 1 Axes>"
      ]
     },
     "metadata": {},
     "output_type": "display_data"
    }
   ],
   "source": [
    "df_group13 = df.groupby(['Resultado', 'desfoque_visual']).agg({'id' : 'nunique'}).reset_index()\n",
    "df_group14 = df.groupby('desfoque_visual').agg({'id' : 'nunique'}).reset_index() \n",
    "df_group15 = df_group13.merge(df_group14, on = 'desfoque_visual')\n",
    "df_group15['Percentual(%)'] = df_group15['id_x'] / df_group15['id_y'] * 100\n",
    "df_group15.columns = ['Diabetes Outcome', \n",
    "                     'desfoque_visual', \n",
    "                     'Total Por Resultado', \n",
    "                     'Total Geral', \n",
    "                     'Percentual(%)']\n",
    "# Tamanho da figura\n",
    "plt.figure(figsize = (10,6))\n",
    "\n",
    "# Chart\n",
    "chart = sns.barplot(x = 'desfoque_visual', \n",
    "                    y = 'Percentual(%)', \n",
    "                    data = df_group15, \n",
    "                    hue = 'Diabetes Outcome',\n",
    "                    palette = [\"orange\",\"green\"])\n",
    "\n",
    "# Estilo e labels\n",
    "sns.set(font_scale = 1.5)\n",
    "sns.set_style('whitegrid')\n",
    "sns.set_palette('prism')\n",
    "chart.set_xlabel(\"\\n  Whether the patient has had an episode of blurred vision\", fontsize = 14)\n",
    "chart.set_ylabel(\"Percentual (%)\", fontsize = 14)\n",
    "\n",
    "# Legenda\n",
    "plt.legend(loc = 'upper left', \n",
    "           borderpad = 1.5, \n",
    "           labelspacing = 1.5, \n",
    "           fontsize = 9, \n",
    "           title = 'Outcome')\n",
    "\n",
    "# Título\n",
    "chart.text(x = -0.5, \n",
    "           y = 70, \n",
    "           s = \"\",\n",
    "           fontsize = 25, \n",
    "           weight = 'bold', \n",
    "           alpha = .75)\n",
    "\n",
    "# Sub-título\n",
    "chart.text(x = -0.5, \n",
    "           y = 64,\n",
    "           s = '',\n",
    "           fontsize = 16, \n",
    "           alpha = .85);"
   ]
  },
  {
   "cell_type": "code",
   "execution_count": 13,
   "id": "187ef513",
   "metadata": {},
   "outputs": [],
   "source": [
    "df['Faixa_Etaria'] = np.where(\n",
    "        (df['idade'] >= 16) & (df['idade'] < 36 ), \"16-35\", \n",
    "    np.where(\n",
    "        (df['idade'] >= 36) & (df['idade'] < 51 ),\"36-50\", \n",
    "    np.where(\n",
    "        (df['idade'] >= 51) &  (df['idade'] < 91 ), \"51-90\" , 'x')))"
   ]
  },
  {
   "cell_type": "code",
   "execution_count": 14,
   "id": "a2575793",
   "metadata": {},
   "outputs": [
    {
     "data": {
      "image/png": "[encoded data removed]",
      "text/plain": [
       "<Figure size 1000x600 with 1 Axes>"
      ]
     },
     "metadata": {},
     "output_type": "display_data"
    }
   ],
   "source": [
    "df_group16 = df.groupby(['Resultado', 'Faixa_Etaria']).agg({'id' : 'nunique'}).reset_index()\n",
    "df_group17 = df.groupby('Faixa_Etaria').agg({'id' : 'nunique'}).reset_index() \n",
    "df_group18 = df_group16.merge(df_group17, on = 'Faixa_Etaria')\n",
    "df_group18['Percentual(%)'] = df_group18['id_x'] / df_group18['id_y'] * 100\n",
    "df_group18.columns = ['Resultado de Diabetes', \n",
    "                     'Faixa_Etaria', \n",
    "                     'Total Por Resultado', \n",
    "                     'Total Geral', \n",
    "                     'Percentual(%)']\n",
    "# Tamanho da figura\n",
    "plt.figure(figsize = (10,6))\n",
    "\n",
    "# Chart\n",
    "chart = sns.barplot(x = 'Faixa_Etaria', \n",
    "                    y = 'Percentual(%)', \n",
    "                    data = df_group18, \n",
    "                    hue = 'Resultado de Diabetes',\n",
    "                    palette = [\"orange\",\"green\"])\n",
    "\n",
    "# Estilo e labels\n",
    "sns.set(font_scale = 1.5)\n",
    "sns.set_style('whitegrid')\n",
    "sns.set_palette('prism')\n",
    "chart.set_xlabel(\"\\n  Patient age range\", fontsize = 14)\n",
    "chart.set_ylabel(\"Percentual (%)\", fontsize = 14)\n",
    "\n",
    "# Legenda\n",
    "plt.legend(loc = 'upper left', \n",
    "           borderpad = 1.5, \n",
    "           labelspacing = 1.5, \n",
    "           fontsize = 9, \n",
    "           title = 'Outcome')\n",
    "\n",
    "# Título\n",
    "chart.text(x = -0.5, \n",
    "           y = 70, \n",
    "           s = \"\",\n",
    "           fontsize = 25, \n",
    "           weight = 'bold', \n",
    "           alpha = .75)\n",
    "\n",
    "# Sub-título\n",
    "chart.text(x = -0.5, \n",
    "           y = 64,\n",
    "           s = '',\n",
    "           fontsize = 16, \n",
    "           alpha = .85);"
   ]
  },
  {
   "cell_type": "markdown",
   "id": "94f35020",
   "metadata": {},
   "source": [
    "# From the graphs illustrated above we can see that:\n",
    "\n",
    "* *89%* of patients who reported having *excessive urine volume* were diagnosed with diabetes.\n",
    "* *95%* of patients who reported having *excessive thirst* were diagnosed with diabetes.\n",
    "* *84%* of patients who presented with a *sudden weight loss episode* were diagnosed with diabetes.\n",
    "* *63%* of patients who reported having *a delayed healing noted when injured* were diagnosed with diabetes.\n",
    "* *75%* of patients who reported having *an episode of blurred vision* were diagnosed with diabetes.\n",
    "* *68%* of patients who are in the age group of *51-90* years have been diagnosed with diabetes.\n",
    "* *62%* of patients who are in the age group of *36-50* years have been diagnosed with diabetes.\n",
    "* *55%* of patients who are in the age group of *16-35* years have been diagnosed with diabetes."
   ]
  },
  {
   "cell_type": "markdown",
   "id": "fb2ebec9",
   "metadata": {},
   "source": [
    "## <font color='blue'> Pre-Processing Data for Building Machine Learning Models </font>"
   ]
  },
  {
   "cell_type": "code",
   "execution_count": 15,
   "id": "420a8450",
   "metadata": {},
   "outputs": [
    {
     "data": {
      "text/plain": [
       "Index(['id', 'idade', 'genero', 'poliúria', 'polidipsia',\n",
       "       'Perda_peso_repentina', 'fraqueza', 'polifagia', 'candidiase_genital',\n",
       "       'desfoque_visual', 'coceira', 'irritabilidade', 'cura_atrasada',\n",
       "       'partial_paresis', 'rigidez_muscular', 'calvicie', 'obesidade',\n",
       "       'Resultado', 'Faixa_Etaria'],\n",
       "      dtype='object')"
      ]
     },
     "execution_count": 15,
     "metadata": {},
     "output_type": "execute_result"
    }
   ],
   "source": [
    "df.columns"
   ]
  },
  {
   "cell_type": "markdown",
   "id": "b5351fe8",
   "metadata": {},
   "source": [
    "### Transforming categorical variable values ​​to numerical values"
   ]
  },
  {
   "cell_type": "code",
   "execution_count": 16,
   "id": "75edded6",
   "metadata": {},
   "outputs": [],
   "source": [
    "df['genero'] = np.where(\n",
    "        (df['genero'] == 'Masculino'), 1, \n",
    "    np.where(\n",
    "        (df['genero'] == 'Femenino'), 0 , 'x'))"
   ]
  },
  {
   "cell_type": "code",
   "execution_count": 17,
   "id": "a3c77cb0",
   "metadata": {},
   "outputs": [],
   "source": [
    "df['poliúria'] = np.where(\n",
    "        (df['poliúria'] == 'Sim'), 1, \n",
    "    np.where(\n",
    "        (df['poliúria'] == 'Nao'), 0 , 'x'))"
   ]
  },
  {
   "cell_type": "code",
   "execution_count": 18,
   "id": "a0f80659",
   "metadata": {},
   "outputs": [],
   "source": [
    "df['polidipsia'] = np.where(\n",
    "        (df['polidipsia'] == 'Sim'), 1, \n",
    "    np.where(\n",
    "        (df['polidipsia'] == 'Nao'), 0 , 'x'))"
   ]
  },
  {
   "cell_type": "code",
   "execution_count": 19,
   "id": "610e2dba",
   "metadata": {},
   "outputs": [],
   "source": [
    "df['Perda_peso_repentina'] = np.where(\n",
    "        (df['Perda_peso_repentina'] == 'Sim'), 1, \n",
    "    np.where(\n",
    "        (df['Perda_peso_repentina'] == 'Nao'), 0 , 'x'))"
   ]
  },
  {
   "cell_type": "code",
   "execution_count": 20,
   "id": "1b9f4343",
   "metadata": {},
   "outputs": [],
   "source": [
    "df['fraqueza'] = np.where(\n",
    "        (df['fraqueza'] == 'Sim'), 1, \n",
    "    np.where(\n",
    "        (df['fraqueza'] == 'Nao'), 0 , 'x'))"
   ]
  },
  {
   "cell_type": "code",
   "execution_count": 21,
   "id": "0373fbdb",
   "metadata": {},
   "outputs": [],
   "source": [
    "df['polifagia'] = np.where(\n",
    "        (df['polifagia'] == 'Sim'), 1, \n",
    "    np.where(\n",
    "        (df['polifagia'] == 'Nao'), 0 , 'x'))"
   ]
  },
  {
   "cell_type": "code",
   "execution_count": 22,
   "id": "f771cdad",
   "metadata": {},
   "outputs": [],
   "source": [
    "df['candidiase_genital'] = np.where(\n",
    "        (df['candidiase_genital'] == 'Sim'), 1, \n",
    "    np.where(\n",
    "        (df['candidiase_genital'] == 'Nao'), 0 , 'x'))"
   ]
  },
  {
   "cell_type": "code",
   "execution_count": 23,
   "id": "7fb146fe",
   "metadata": {},
   "outputs": [],
   "source": [
    "df['desfoque_visual'] = np.where(\n",
    "        (df['desfoque_visual'] == 'Sim'), 1, \n",
    "    np.where(\n",
    "        (df['desfoque_visual'] == 'Nao'), 0 , 'x'))"
   ]
  },
  {
   "cell_type": "code",
   "execution_count": 24,
   "id": "477ffadc",
   "metadata": {},
   "outputs": [],
   "source": [
    "df['coceira'] = np.where(\n",
    "        (df['coceira'] == 'Sim'), 1, \n",
    "    np.where(\n",
    "        (df['coceira'] == 'Nao'), 0 , 'x'))"
   ]
  },
  {
   "cell_type": "code",
   "execution_count": 25,
   "id": "08874f63",
   "metadata": {},
   "outputs": [],
   "source": [
    "df['irritabilidade'] = np.where(\n",
    "        (df['irritabilidade'] == 'Sim'), 1, \n",
    "    np.where(\n",
    "        (df['irritabilidade'] == 'Nao'), 0 , 'x'))"
   ]
  },
  {
   "cell_type": "code",
   "execution_count": 26,
   "id": "1395ac96",
   "metadata": {},
   "outputs": [],
   "source": [
    "df['cura_atrasada'] = np.where(\n",
    "        (df['cura_atrasada'] == 'Sim'), 1, \n",
    "    np.where(\n",
    "        (df['cura_atrasada'] == 'Nao'), 0 , 'x'))"
   ]
  },
  {
   "cell_type": "code",
   "execution_count": 27,
   "id": "299678fe",
   "metadata": {},
   "outputs": [],
   "source": [
    "df['partial_paresis'] = np.where(\n",
    "        (df['partial_paresis'] == 'Sim'), 1, \n",
    "    np.where(\n",
    "        (df['partial_paresis'] == 'Nao'), 0 , 'x'))"
   ]
  },
  {
   "cell_type": "code",
   "execution_count": 28,
   "id": "ad05aa5b",
   "metadata": {},
   "outputs": [],
   "source": [
    "df['rigidez_muscular'] = np.where(\n",
    "        (df['rigidez_muscular'] == 'Sim'), 1, \n",
    "    np.where(\n",
    "        (df['rigidez_muscular'] == 'Nao'), 0 , 'x'))"
   ]
  },
  {
   "cell_type": "code",
   "execution_count": 29,
   "id": "c731c962",
   "metadata": {},
   "outputs": [],
   "source": [
    "df['calvicie'] = np.where(\n",
    "        (df['calvicie'] == 'Sim'), 1, \n",
    "    np.where(\n",
    "        (df['calvicie'] == 'Nao'), 0 , 'x'))"
   ]
  },
  {
   "cell_type": "code",
   "execution_count": 30,
   "id": "c839f652",
   "metadata": {},
   "outputs": [],
   "source": [
    "df['obesidade'] = np.where(\n",
    "        (df['obesidade'] == 'Sim'), 1, \n",
    "    np.where(\n",
    "        (df['obesidade'] == 'Nao'), 0 , 'x'))"
   ]
  },
  {
   "cell_type": "code",
   "execution_count": 31,
   "id": "6674c797",
   "metadata": {},
   "outputs": [],
   "source": [
    "df['genero'] = df['genero'].astype(int)\n",
    "df['poliúria'] = df['poliúria'].astype(int)\n",
    "df['polidipsia'] = df['polidipsia'].astype(int)\n",
    "df['Perda_peso_repentina'] = df['Perda_peso_repentina'].astype(int)\n",
    "df['fraqueza'] = df['fraqueza'].astype(int)\n",
    "df['polifagia'] = df['polifagia'].astype(int)\n",
    "df['candidiase_genital'] = df['candidiase_genital'].astype(int)\n",
    "df['desfoque_visual'] = df['desfoque_visual'].astype(int)\n",
    "df['coceira'] = df['coceira'].astype(int)\n",
    "df['irritabilidade'] = df['irritabilidade'].astype(int)\n",
    "df['cura_atrasada'] = df['cura_atrasada'].astype(int)\n",
    "df['partial_paresis'] = df['partial_paresis'].astype(int)\n",
    "df['rigidez_muscular'] = df['rigidez_muscular'].astype(int)\n",
    "df['calvicie'] = df['calvicie'].astype(int)\n",
    "df['obesidade'] = df['obesidade'].astype(int)"
   ]
  },
  {
   "cell_type": "code",
   "execution_count": 32,
   "id": "1089b6e3",
   "metadata": {},
   "outputs": [
    {
     "data": {
      "text/plain": [
       "id                       int64\n",
       "idade                    int64\n",
       "genero                   int32\n",
       "poliúria                 int32\n",
       "polidipsia               int32\n",
       "Perda_peso_repentina     int32\n",
       "fraqueza                 int32\n",
       "polifagia                int32\n",
       "candidiase_genital       int32\n",
       "desfoque_visual          int32\n",
       "coceira                  int32\n",
       "irritabilidade           int32\n",
       "cura_atrasada            int32\n",
       "partial_paresis          int32\n",
       "rigidez_muscular         int32\n",
       "calvicie                 int32\n",
       "obesidade                int32\n",
       "Resultado                int64\n",
       "Faixa_Etaria            object\n",
       "dtype: object"
      ]
     },
     "execution_count": 32,
     "metadata": {},
     "output_type": "execute_result"
    }
   ],
   "source": [
    "df.dtypes"
   ]
  },
  {
   "cell_type": "markdown",
   "id": "4074c234",
   "metadata": {},
   "source": [
    "# <font color='blue'> Feature Selection </font>"
   ]
  },
  {
   "cell_type": "markdown",
   "id": "a6628265",
   "metadata": {},
   "source": [
    "### Eliminating the variables that will not be used in the creation of the Predictive Model"
   ]
  },
  {
   "cell_type": "code",
   "execution_count": 33,
   "id": "23ca425a",
   "metadata": {},
   "outputs": [],
   "source": [
    "df = df.drop('id', axis = 1)"
   ]
  },
  {
   "cell_type": "code",
   "execution_count": 34,
   "id": "5c55f0b6",
   "metadata": {},
   "outputs": [],
   "source": [
    "df = df.drop('Faixa_Etaria', axis = 1)"
   ]
  },
  {
   "cell_type": "code",
   "execution_count": 35,
   "id": "8db549cb",
   "metadata": {},
   "outputs": [
    {
     "data": {
      "text/html": [
       "<div>\n",
       "<style scoped>\n",
       "    .dataframe tbody tr th:only-of-type {\n",
       "        vertical-align: middle;\n",
       "    }\n",
       "\n",
       "    .dataframe tbody tr th {\n",
       "        vertical-align: top;\n",
       "    }\n",
       "\n",
       "    .dataframe thead th {\n",
       "        text-align: right;\n",
       "    }\n",
       "</style>\n",
       "<table border=\"1\" class=\"dataframe\">\n",
       "  <thead>\n",
       "    <tr style=\"text-align: right;\">\n",
       "      <th></th>\n",
       "      <th>idade</th>\n",
       "      <th>genero</th>\n",
       "      <th>poliúria</th>\n",
       "      <th>polidipsia</th>\n",
       "      <th>Perda_peso_repentina</th>\n",
       "      <th>fraqueza</th>\n",
       "      <th>polifagia</th>\n",
       "      <th>candidiase_genital</th>\n",
       "      <th>desfoque_visual</th>\n",
       "      <th>coceira</th>\n",
       "      <th>irritabilidade</th>\n",
       "      <th>cura_atrasada</th>\n",
       "      <th>partial_paresis</th>\n",
       "      <th>rigidez_muscular</th>\n",
       "      <th>calvicie</th>\n",
       "      <th>obesidade</th>\n",
       "      <th>Resultado</th>\n",
       "    </tr>\n",
       "  </thead>\n",
       "  <tbody>\n",
       "    <tr>\n",
       "      <th>0</th>\n",
       "      <td>40</td>\n",
       "      <td>1</td>\n",
       "      <td>0</td>\n",
       "      <td>1</td>\n",
       "      <td>0</td>\n",
       "      <td>1</td>\n",
       "      <td>0</td>\n",
       "      <td>0</td>\n",
       "      <td>0</td>\n",
       "      <td>1</td>\n",
       "      <td>0</td>\n",
       "      <td>1</td>\n",
       "      <td>0</td>\n",
       "      <td>1</td>\n",
       "      <td>1</td>\n",
       "      <td>1</td>\n",
       "      <td>1</td>\n",
       "    </tr>\n",
       "    <tr>\n",
       "      <th>1</th>\n",
       "      <td>58</td>\n",
       "      <td>1</td>\n",
       "      <td>0</td>\n",
       "      <td>0</td>\n",
       "      <td>0</td>\n",
       "      <td>1</td>\n",
       "      <td>0</td>\n",
       "      <td>0</td>\n",
       "      <td>1</td>\n",
       "      <td>0</td>\n",
       "      <td>0</td>\n",
       "      <td>0</td>\n",
       "      <td>1</td>\n",
       "      <td>0</td>\n",
       "      <td>1</td>\n",
       "      <td>0</td>\n",
       "      <td>1</td>\n",
       "    </tr>\n",
       "    <tr>\n",
       "      <th>2</th>\n",
       "      <td>41</td>\n",
       "      <td>1</td>\n",
       "      <td>1</td>\n",
       "      <td>0</td>\n",
       "      <td>0</td>\n",
       "      <td>1</td>\n",
       "      <td>1</td>\n",
       "      <td>0</td>\n",
       "      <td>0</td>\n",
       "      <td>1</td>\n",
       "      <td>0</td>\n",
       "      <td>1</td>\n",
       "      <td>0</td>\n",
       "      <td>1</td>\n",
       "      <td>1</td>\n",
       "      <td>0</td>\n",
       "      <td>1</td>\n",
       "    </tr>\n",
       "    <tr>\n",
       "      <th>3</th>\n",
       "      <td>45</td>\n",
       "      <td>1</td>\n",
       "      <td>0</td>\n",
       "      <td>0</td>\n",
       "      <td>1</td>\n",
       "      <td>1</td>\n",
       "      <td>1</td>\n",
       "      <td>1</td>\n",
       "      <td>0</td>\n",
       "      <td>1</td>\n",
       "      <td>0</td>\n",
       "      <td>1</td>\n",
       "      <td>0</td>\n",
       "      <td>0</td>\n",
       "      <td>0</td>\n",
       "      <td>0</td>\n",
       "      <td>1</td>\n",
       "    </tr>\n",
       "    <tr>\n",
       "      <th>4</th>\n",
       "      <td>60</td>\n",
       "      <td>1</td>\n",
       "      <td>1</td>\n",
       "      <td>1</td>\n",
       "      <td>1</td>\n",
       "      <td>1</td>\n",
       "      <td>1</td>\n",
       "      <td>0</td>\n",
       "      <td>1</td>\n",
       "      <td>1</td>\n",
       "      <td>1</td>\n",
       "      <td>1</td>\n",
       "      <td>1</td>\n",
       "      <td>1</td>\n",
       "      <td>1</td>\n",
       "      <td>1</td>\n",
       "      <td>1</td>\n",
       "    </tr>\n",
       "    <tr>\n",
       "      <th>5</th>\n",
       "      <td>55</td>\n",
       "      <td>1</td>\n",
       "      <td>1</td>\n",
       "      <td>1</td>\n",
       "      <td>0</td>\n",
       "      <td>1</td>\n",
       "      <td>1</td>\n",
       "      <td>0</td>\n",
       "      <td>1</td>\n",
       "      <td>1</td>\n",
       "      <td>0</td>\n",
       "      <td>1</td>\n",
       "      <td>0</td>\n",
       "      <td>1</td>\n",
       "      <td>1</td>\n",
       "      <td>1</td>\n",
       "      <td>1</td>\n",
       "    </tr>\n",
       "    <tr>\n",
       "      <th>6</th>\n",
       "      <td>57</td>\n",
       "      <td>1</td>\n",
       "      <td>1</td>\n",
       "      <td>1</td>\n",
       "      <td>0</td>\n",
       "      <td>1</td>\n",
       "      <td>1</td>\n",
       "      <td>1</td>\n",
       "      <td>0</td>\n",
       "      <td>0</td>\n",
       "      <td>0</td>\n",
       "      <td>1</td>\n",
       "      <td>1</td>\n",
       "      <td>0</td>\n",
       "      <td>0</td>\n",
       "      <td>0</td>\n",
       "      <td>1</td>\n",
       "    </tr>\n",
       "    <tr>\n",
       "      <th>7</th>\n",
       "      <td>66</td>\n",
       "      <td>1</td>\n",
       "      <td>1</td>\n",
       "      <td>1</td>\n",
       "      <td>1</td>\n",
       "      <td>1</td>\n",
       "      <td>0</td>\n",
       "      <td>0</td>\n",
       "      <td>1</td>\n",
       "      <td>1</td>\n",
       "      <td>1</td>\n",
       "      <td>0</td>\n",
       "      <td>1</td>\n",
       "      <td>1</td>\n",
       "      <td>0</td>\n",
       "      <td>0</td>\n",
       "      <td>1</td>\n",
       "    </tr>\n",
       "    <tr>\n",
       "      <th>8</th>\n",
       "      <td>67</td>\n",
       "      <td>1</td>\n",
       "      <td>1</td>\n",
       "      <td>1</td>\n",
       "      <td>0</td>\n",
       "      <td>1</td>\n",
       "      <td>1</td>\n",
       "      <td>1</td>\n",
       "      <td>0</td>\n",
       "      <td>1</td>\n",
       "      <td>1</td>\n",
       "      <td>0</td>\n",
       "      <td>1</td>\n",
       "      <td>1</td>\n",
       "      <td>0</td>\n",
       "      <td>1</td>\n",
       "      <td>1</td>\n",
       "    </tr>\n",
       "    <tr>\n",
       "      <th>9</th>\n",
       "      <td>70</td>\n",
       "      <td>1</td>\n",
       "      <td>0</td>\n",
       "      <td>1</td>\n",
       "      <td>1</td>\n",
       "      <td>1</td>\n",
       "      <td>1</td>\n",
       "      <td>0</td>\n",
       "      <td>1</td>\n",
       "      <td>1</td>\n",
       "      <td>1</td>\n",
       "      <td>0</td>\n",
       "      <td>0</td>\n",
       "      <td>0</td>\n",
       "      <td>1</td>\n",
       "      <td>0</td>\n",
       "      <td>1</td>\n",
       "    </tr>\n",
       "  </tbody>\n",
       "</table>\n",
       "</div>"
      ],
      "text/plain": [
       "   idade  genero  poliúria  polidipsia  Perda_peso_repentina  fraqueza  \\\n",
       "0     40       1         0           1                     0         1   \n",
       "1     58       1         0           0                     0         1   \n",
       "2     41       1         1           0                     0         1   \n",
       "3     45       1         0           0                     1         1   \n",
       "4     60       1         1           1                     1         1   \n",
       "5     55       1         1           1                     0         1   \n",
       "6     57       1         1           1                     0         1   \n",
       "7     66       1         1           1                     1         1   \n",
       "8     67       1         1           1                     0         1   \n",
       "9     70       1         0           1                     1         1   \n",
       "\n",
       "   polifagia  candidiase_genital  desfoque_visual  coceira  irritabilidade  \\\n",
       "0          0                   0                0        1               0   \n",
       "1          0                   0                1        0               0   \n",
       "2          1                   0                0        1               0   \n",
       "3          1                   1                0        1               0   \n",
       "4          1                   0                1        1               1   \n",
       "5          1                   0                1        1               0   \n",
       "6          1                   1                0        0               0   \n",
       "7          0                   0                1        1               1   \n",
       "8          1                   1                0        1               1   \n",
       "9          1                   0                1        1               1   \n",
       "\n",
       "   cura_atrasada  partial_paresis  rigidez_muscular  calvicie  obesidade  \\\n",
       "0              1                0                 1         1          1   \n",
       "1              0                1                 0         1          0   \n",
       "2              1                0                 1         1          0   \n",
       "3              1                0                 0         0          0   \n",
       "4              1                1                 1         1          1   \n",
       "5              1                0                 1         1          1   \n",
       "6              1                1                 0         0          0   \n",
       "7              0                1                 1         0          0   \n",
       "8              0                1                 1         0          1   \n",
       "9              0                0                 0         1          0   \n",
       "\n",
       "   Resultado  \n",
       "0          1  \n",
       "1          1  \n",
       "2          1  \n",
       "3          1  \n",
       "4          1  \n",
       "5          1  \n",
       "6          1  \n",
       "7          1  \n",
       "8          1  \n",
       "9          1  "
      ]
     },
     "execution_count": 35,
     "metadata": {},
     "output_type": "execute_result"
    }
   ],
   "source": [
    "df.head(10)"
   ]
  },
  {
   "cell_type": "markdown",
   "id": "045340f7",
   "metadata": {},
   "source": [
    "### <font color='blue'> Splitting the data into Training and Testing </font>"
   ]
  },
  {
   "cell_type": "code",
   "execution_count": 36,
   "id": "71043a13",
   "metadata": {},
   "outputs": [],
   "source": [
    "# Create a separate object for the target variable\n",
    "y = df.Resultado"
   ]
  },
  {
   "cell_type": "code",
   "execution_count": 37,
   "id": "5017cab8",
   "metadata": {},
   "outputs": [],
   "source": [
    "# Create a separate object for input variables\n",
    "X = df.drop('Resultado', axis = 1)"
   ]
  },
  {
   "cell_type": "code",
   "execution_count": 38,
   "id": "dec5496e",
   "metadata": {},
   "outputs": [],
   "source": [
    "# Split into training and test data with stratified sampling\n",
    "X_treino, X_teste, y_treino, y_teste = train_test_split(X, \n",
    "                                                        y, \n",
    "                                                        test_size = 0.25, \n",
    "                                                        random_state = 1234,\n",
    "                                                        stratify = df.Resultado)"
   ]
  },
  {
   "cell_type": "code",
   "execution_count": 39,
   "id": "cf5c0894",
   "metadata": {},
   "outputs": [
    {
     "data": {
      "text/plain": [
       "375"
      ]
     },
     "execution_count": 39,
     "metadata": {},
     "output_type": "execute_result"
    }
   ],
   "source": [
    "len(X_treino)"
   ]
  },
  {
   "cell_type": "code",
   "execution_count": 40,
   "id": "1c4239b0",
   "metadata": {},
   "outputs": [
    {
     "data": {
      "text/plain": [
       "125"
      ]
     },
     "execution_count": 40,
     "metadata": {},
     "output_type": "execute_result"
    }
   ],
   "source": [
    "len(X_teste)"
   ]
  },
  {
   "cell_type": "code",
   "execution_count": 41,
   "id": "21d9b141",
   "metadata": {},
   "outputs": [
    {
     "name": "stdout",
     "output_type": "stream",
     "text": [
      "(375, 16) (125, 16) (375,) (125,)\n"
     ]
    }
   ],
   "source": [
    "# Print do shape\n",
    "print(X_treino.shape, X_teste.shape, y_treino.shape, y_teste.shape)"
   ]
  },
  {
   "cell_type": "code",
   "execution_count": 42,
   "id": "2d21ed11",
   "metadata": {},
   "outputs": [
    {
     "data": {
      "text/plain": [
       "1    235\n",
       "0    140\n",
       "Name: Resultado, dtype: int64"
      ]
     },
     "execution_count": 42,
     "metadata": {},
     "output_type": "execute_result"
    }
   ],
   "source": [
    "y_treino.value_counts()"
   ]
  },
  {
   "cell_type": "markdown",
   "id": "d79c5449",
   "metadata": {},
   "source": [
    "### <font color='blue'> Data Standardization </font>"
   ]
  },
  {
   "cell_type": "code",
   "execution_count": 43,
   "id": "4928364a",
   "metadata": {},
   "outputs": [
    {
     "data": {
      "text/html": [
       "<div>\n",
       "<style scoped>\n",
       "    .dataframe tbody tr th:only-of-type {\n",
       "        vertical-align: middle;\n",
       "    }\n",
       "\n",
       "    .dataframe tbody tr th {\n",
       "        vertical-align: top;\n",
       "    }\n",
       "\n",
       "    .dataframe thead th {\n",
       "        text-align: right;\n",
       "    }\n",
       "</style>\n",
       "<table border=\"1\" class=\"dataframe\">\n",
       "  <thead>\n",
       "    <tr style=\"text-align: right;\">\n",
       "      <th></th>\n",
       "      <th>idade</th>\n",
       "      <th>genero</th>\n",
       "      <th>poliúria</th>\n",
       "      <th>polidipsia</th>\n",
       "      <th>Perda_peso_repentina</th>\n",
       "      <th>fraqueza</th>\n",
       "      <th>polifagia</th>\n",
       "      <th>candidiase_genital</th>\n",
       "      <th>desfoque_visual</th>\n",
       "      <th>coceira</th>\n",
       "      <th>irritabilidade</th>\n",
       "      <th>cura_atrasada</th>\n",
       "      <th>partial_paresis</th>\n",
       "      <th>rigidez_muscular</th>\n",
       "      <th>calvicie</th>\n",
       "      <th>obesidade</th>\n",
       "    </tr>\n",
       "  </thead>\n",
       "  <tbody>\n",
       "    <tr>\n",
       "      <th>271</th>\n",
       "      <td>57</td>\n",
       "      <td>1</td>\n",
       "      <td>1</td>\n",
       "      <td>1</td>\n",
       "      <td>1</td>\n",
       "      <td>1</td>\n",
       "      <td>1</td>\n",
       "      <td>0</td>\n",
       "      <td>1</td>\n",
       "      <td>0</td>\n",
       "      <td>0</td>\n",
       "      <td>0</td>\n",
       "      <td>1</td>\n",
       "      <td>0</td>\n",
       "      <td>0</td>\n",
       "      <td>0</td>\n",
       "    </tr>\n",
       "    <tr>\n",
       "      <th>469</th>\n",
       "      <td>47</td>\n",
       "      <td>1</td>\n",
       "      <td>0</td>\n",
       "      <td>0</td>\n",
       "      <td>0</td>\n",
       "      <td>0</td>\n",
       "      <td>0</td>\n",
       "      <td>0</td>\n",
       "      <td>0</td>\n",
       "      <td>1</td>\n",
       "      <td>0</td>\n",
       "      <td>0</td>\n",
       "      <td>0</td>\n",
       "      <td>0</td>\n",
       "      <td>1</td>\n",
       "      <td>0</td>\n",
       "    </tr>\n",
       "    <tr>\n",
       "      <th>385</th>\n",
       "      <td>38</td>\n",
       "      <td>1</td>\n",
       "      <td>1</td>\n",
       "      <td>0</td>\n",
       "      <td>0</td>\n",
       "      <td>0</td>\n",
       "      <td>0</td>\n",
       "      <td>1</td>\n",
       "      <td>0</td>\n",
       "      <td>1</td>\n",
       "      <td>0</td>\n",
       "      <td>0</td>\n",
       "      <td>0</td>\n",
       "      <td>1</td>\n",
       "      <td>0</td>\n",
       "      <td>1</td>\n",
       "    </tr>\n",
       "    <tr>\n",
       "      <th>392</th>\n",
       "      <td>56</td>\n",
       "      <td>1</td>\n",
       "      <td>0</td>\n",
       "      <td>0</td>\n",
       "      <td>1</td>\n",
       "      <td>1</td>\n",
       "      <td>1</td>\n",
       "      <td>0</td>\n",
       "      <td>1</td>\n",
       "      <td>1</td>\n",
       "      <td>0</td>\n",
       "      <td>1</td>\n",
       "      <td>0</td>\n",
       "      <td>1</td>\n",
       "      <td>1</td>\n",
       "      <td>0</td>\n",
       "    </tr>\n",
       "    <tr>\n",
       "      <th>204</th>\n",
       "      <td>30</td>\n",
       "      <td>1</td>\n",
       "      <td>0</td>\n",
       "      <td>0</td>\n",
       "      <td>0</td>\n",
       "      <td>0</td>\n",
       "      <td>0</td>\n",
       "      <td>0</td>\n",
       "      <td>0</td>\n",
       "      <td>0</td>\n",
       "      <td>0</td>\n",
       "      <td>0</td>\n",
       "      <td>0</td>\n",
       "      <td>0</td>\n",
       "      <td>0</td>\n",
       "      <td>0</td>\n",
       "    </tr>\n",
       "  </tbody>\n",
       "</table>\n",
       "</div>"
      ],
      "text/plain": [
       "     idade  genero  poliúria  polidipsia  Perda_peso_repentina  fraqueza  \\\n",
       "271     57       1         1           1                     1         1   \n",
       "469     47       1         0           0                     0         0   \n",
       "385     38       1         1           0                     0         0   \n",
       "392     56       1         0           0                     1         1   \n",
       "204     30       1         0           0                     0         0   \n",
       "\n",
       "     polifagia  candidiase_genital  desfoque_visual  coceira  irritabilidade  \\\n",
       "271          1                   0                1        0               0   \n",
       "469          0                   0                0        1               0   \n",
       "385          0                   1                0        1               0   \n",
       "392          1                   0                1        1               0   \n",
       "204          0                   0                0        0               0   \n",
       "\n",
       "     cura_atrasada  partial_paresis  rigidez_muscular  calvicie  obesidade  \n",
       "271              0                1                 0         0          0  \n",
       "469              0                0                 0         1          0  \n",
       "385              0                0                 1         0          1  \n",
       "392              1                0                 1         1          0  \n",
       "204              0                0                 0         0          0  "
      ]
     },
     "execution_count": 43,
     "metadata": {},
     "output_type": "execute_result"
    }
   ],
   "source": [
    "X_treino.head()"
   ]
  },
  {
   "cell_type": "markdown",
   "id": "d9436ab1",
   "metadata": {},
   "source": [
    "Calculate mean and standard deviation of training data"
   ]
  },
  {
   "cell_type": "code",
   "execution_count": 44,
   "id": "0cdd9e24",
   "metadata": {},
   "outputs": [
    {
     "name": "stdout",
     "output_type": "stream",
     "text": [
      "idade                   47.557333\n",
      "genero                   0.621333\n",
      "poliúria                 0.506667\n",
      "polidipsia               0.456000\n",
      "Perda_peso_repentina     0.408000\n",
      "fraqueza                 0.592000\n",
      "polifagia                0.445333\n",
      "candidiase_genital       0.208000\n",
      "desfoque_visual          0.461333\n",
      "coceira                  0.469333\n",
      "irritabilidade           0.245333\n",
      "cura_atrasada            0.437333\n",
      "partial_paresis          0.442667\n",
      "rigidez_muscular         0.378667\n",
      "calvicie                 0.344000\n",
      "obesidade                0.176000\n",
      "dtype: float64\n",
      "idade                   11.931457\n",
      "genero                   0.485703\n",
      "poliúria                 0.500623\n",
      "polidipsia               0.498726\n",
      "Perda_peso_repentina     0.492120\n",
      "fraqueza                 0.492120\n",
      "polifagia                0.497667\n",
      "candidiase_genital       0.406419\n",
      "desfoque_visual          0.499169\n",
      "coceira                  0.499725\n",
      "irritabilidade           0.430860\n",
      "cura_atrasada            0.496720\n",
      "partial_paresis          0.497366\n",
      "rigidez_muscular         0.485703\n",
      "calvicie                 0.475676\n",
      "obesidade                0.381329\n",
      "dtype: float64\n"
     ]
    }
   ],
   "source": [
    "treino_mean = X_treino.mean()\n",
    "treino_std = X_treino.std()\n",
    "print(treino_mean)\n",
    "print(treino_std)"
   ]
  },
  {
   "cell_type": "markdown",
   "id": "2dfe59b7",
   "metadata": {},
   "source": [
    "### Standardization: Putting the data on the same scale"
   ]
  },
  {
   "cell_type": "code",
   "execution_count": 45,
   "id": "b875be2c",
   "metadata": {},
   "outputs": [],
   "source": [
    "X_treino = (X_treino - treino_mean) / treino_std"
   ]
  },
  {
   "cell_type": "code",
   "execution_count": 46,
   "id": "661a7557",
   "metadata": {},
   "outputs": [
    {
     "data": {
      "text/html": [
       "<div>\n",
       "<style scoped>\n",
       "    .dataframe tbody tr th:only-of-type {\n",
       "        vertical-align: middle;\n",
       "    }\n",
       "\n",
       "    .dataframe tbody tr th {\n",
       "        vertical-align: top;\n",
       "    }\n",
       "\n",
       "    .dataframe thead th {\n",
       "        text-align: right;\n",
       "    }\n",
       "</style>\n",
       "<table border=\"1\" class=\"dataframe\">\n",
       "  <thead>\n",
       "    <tr style=\"text-align: right;\">\n",
       "      <th></th>\n",
       "      <th>idade</th>\n",
       "      <th>genero</th>\n",
       "      <th>poliúria</th>\n",
       "      <th>polidipsia</th>\n",
       "      <th>Perda_peso_repentina</th>\n",
       "      <th>fraqueza</th>\n",
       "      <th>polifagia</th>\n",
       "      <th>candidiase_genital</th>\n",
       "      <th>desfoque_visual</th>\n",
       "      <th>coceira</th>\n",
       "      <th>irritabilidade</th>\n",
       "      <th>cura_atrasada</th>\n",
       "      <th>partial_paresis</th>\n",
       "      <th>rigidez_muscular</th>\n",
       "      <th>calvicie</th>\n",
       "      <th>obesidade</th>\n",
       "    </tr>\n",
       "  </thead>\n",
       "  <tbody>\n",
       "    <tr>\n",
       "      <th>271</th>\n",
       "      <td>0.791409</td>\n",
       "      <td>0.779626</td>\n",
       "      <td>0.985438</td>\n",
       "      <td>1.09078</td>\n",
       "      <td>1.202959</td>\n",
       "      <td>0.829067</td>\n",
       "      <td>1.114535</td>\n",
       "      <td>-0.511787</td>\n",
       "      <td>1.079128</td>\n",
       "      <td>-0.939182</td>\n",
       "      <td>-0.569404</td>\n",
       "      <td>-0.880442</td>\n",
       "      <td>1.120571</td>\n",
       "      <td>-0.779626</td>\n",
       "      <td>-0.723182</td>\n",
       "      <td>-0.461544</td>\n",
       "    </tr>\n",
       "    <tr>\n",
       "      <th>469</th>\n",
       "      <td>-0.046711</td>\n",
       "      <td>0.779626</td>\n",
       "      <td>-1.012071</td>\n",
       "      <td>-0.91433</td>\n",
       "      <td>-0.829067</td>\n",
       "      <td>-1.202959</td>\n",
       "      <td>-0.894843</td>\n",
       "      <td>-0.511787</td>\n",
       "      <td>-0.924203</td>\n",
       "      <td>1.061917</td>\n",
       "      <td>-0.569404</td>\n",
       "      <td>-0.880442</td>\n",
       "      <td>-0.890023</td>\n",
       "      <td>-0.779626</td>\n",
       "      <td>1.379091</td>\n",
       "      <td>-0.461544</td>\n",
       "    </tr>\n",
       "    <tr>\n",
       "      <th>385</th>\n",
       "      <td>-0.801020</td>\n",
       "      <td>0.779626</td>\n",
       "      <td>0.985438</td>\n",
       "      <td>-0.91433</td>\n",
       "      <td>-0.829067</td>\n",
       "      <td>-1.202959</td>\n",
       "      <td>-0.894843</td>\n",
       "      <td>1.948727</td>\n",
       "      <td>-0.924203</td>\n",
       "      <td>1.061917</td>\n",
       "      <td>-0.569404</td>\n",
       "      <td>-0.880442</td>\n",
       "      <td>-0.890023</td>\n",
       "      <td>1.279246</td>\n",
       "      <td>-0.723182</td>\n",
       "      <td>2.160864</td>\n",
       "    </tr>\n",
       "    <tr>\n",
       "      <th>392</th>\n",
       "      <td>0.707597</td>\n",
       "      <td>0.779626</td>\n",
       "      <td>-1.012071</td>\n",
       "      <td>-0.91433</td>\n",
       "      <td>1.202959</td>\n",
       "      <td>0.829067</td>\n",
       "      <td>1.114535</td>\n",
       "      <td>-0.511787</td>\n",
       "      <td>1.079128</td>\n",
       "      <td>1.061917</td>\n",
       "      <td>-0.569404</td>\n",
       "      <td>1.132764</td>\n",
       "      <td>-0.890023</td>\n",
       "      <td>1.279246</td>\n",
       "      <td>1.379091</td>\n",
       "      <td>-0.461544</td>\n",
       "    </tr>\n",
       "    <tr>\n",
       "      <th>204</th>\n",
       "      <td>-1.471516</td>\n",
       "      <td>0.779626</td>\n",
       "      <td>-1.012071</td>\n",
       "      <td>-0.91433</td>\n",
       "      <td>-0.829067</td>\n",
       "      <td>-1.202959</td>\n",
       "      <td>-0.894843</td>\n",
       "      <td>-0.511787</td>\n",
       "      <td>-0.924203</td>\n",
       "      <td>-0.939182</td>\n",
       "      <td>-0.569404</td>\n",
       "      <td>-0.880442</td>\n",
       "      <td>-0.890023</td>\n",
       "      <td>-0.779626</td>\n",
       "      <td>-0.723182</td>\n",
       "      <td>-0.461544</td>\n",
       "    </tr>\n",
       "  </tbody>\n",
       "</table>\n",
       "</div>"
      ],
      "text/plain": [
       "        idade    genero  poliúria  polidipsia  Perda_peso_repentina  fraqueza  \\\n",
       "271  0.791409  0.779626  0.985438     1.09078              1.202959  0.829067   \n",
       "469 -0.046711  0.779626 -1.012071    -0.91433             -0.829067 -1.202959   \n",
       "385 -0.801020  0.779626  0.985438    -0.91433             -0.829067 -1.202959   \n",
       "392  0.707597  0.779626 -1.012071    -0.91433              1.202959  0.829067   \n",
       "204 -1.471516  0.779626 -1.012071    -0.91433             -0.829067 -1.202959   \n",
       "\n",
       "     polifagia  candidiase_genital  desfoque_visual   coceira  irritabilidade  \\\n",
       "271   1.114535           -0.511787         1.079128 -0.939182       -0.569404   \n",
       "469  -0.894843           -0.511787        -0.924203  1.061917       -0.569404   \n",
       "385  -0.894843            1.948727        -0.924203  1.061917       -0.569404   \n",
       "392   1.114535           -0.511787         1.079128  1.061917       -0.569404   \n",
       "204  -0.894843           -0.511787        -0.924203 -0.939182       -0.569404   \n",
       "\n",
       "     cura_atrasada  partial_paresis  rigidez_muscular  calvicie  obesidade  \n",
       "271      -0.880442         1.120571         -0.779626 -0.723182  -0.461544  \n",
       "469      -0.880442        -0.890023         -0.779626  1.379091  -0.461544  \n",
       "385      -0.880442        -0.890023          1.279246 -0.723182   2.160864  \n",
       "392       1.132764        -0.890023          1.279246  1.379091  -0.461544  \n",
       "204      -0.880442        -0.890023         -0.779626 -0.723182  -0.461544  "
      ]
     },
     "execution_count": 46,
     "metadata": {},
     "output_type": "execute_result"
    }
   ],
   "source": [
    "X_treino.head()"
   ]
  },
  {
   "cell_type": "code",
   "execution_count": 47,
   "id": "bab500e6",
   "metadata": {},
   "outputs": [
    {
     "data": {
      "text/html": [
       "<div>\n",
       "<style scoped>\n",
       "    .dataframe tbody tr th:only-of-type {\n",
       "        vertical-align: middle;\n",
       "    }\n",
       "\n",
       "    .dataframe tbody tr th {\n",
       "        vertical-align: top;\n",
       "    }\n",
       "\n",
       "    .dataframe thead th {\n",
       "        text-align: right;\n",
       "    }\n",
       "</style>\n",
       "<table border=\"1\" class=\"dataframe\">\n",
       "  <thead>\n",
       "    <tr style=\"text-align: right;\">\n",
       "      <th></th>\n",
       "      <th>idade</th>\n",
       "      <th>genero</th>\n",
       "      <th>poliúria</th>\n",
       "      <th>polidipsia</th>\n",
       "      <th>Perda_peso_repentina</th>\n",
       "      <th>fraqueza</th>\n",
       "      <th>polifagia</th>\n",
       "      <th>candidiase_genital</th>\n",
       "      <th>desfoque_visual</th>\n",
       "      <th>coceira</th>\n",
       "      <th>irritabilidade</th>\n",
       "      <th>cura_atrasada</th>\n",
       "      <th>partial_paresis</th>\n",
       "      <th>rigidez_muscular</th>\n",
       "      <th>calvicie</th>\n",
       "      <th>obesidade</th>\n",
       "    </tr>\n",
       "  </thead>\n",
       "  <tbody>\n",
       "    <tr>\n",
       "      <th>count</th>\n",
       "      <td>3.750000e+02</td>\n",
       "      <td>3.750000e+02</td>\n",
       "      <td>3.750000e+02</td>\n",
       "      <td>3.750000e+02</td>\n",
       "      <td>3.750000e+02</td>\n",
       "      <td>3.750000e+02</td>\n",
       "      <td>3.750000e+02</td>\n",
       "      <td>3.750000e+02</td>\n",
       "      <td>3.750000e+02</td>\n",
       "      <td>3.750000e+02</td>\n",
       "      <td>3.750000e+02</td>\n",
       "      <td>3.750000e+02</td>\n",
       "      <td>3.750000e+02</td>\n",
       "      <td>3.750000e+02</td>\n",
       "      <td>3.750000e+02</td>\n",
       "      <td>3.750000e+02</td>\n",
       "    </tr>\n",
       "    <tr>\n",
       "      <th>mean</th>\n",
       "      <td>9.000208e-17</td>\n",
       "      <td>7.401487e-17</td>\n",
       "      <td>-1.382598e-16</td>\n",
       "      <td>-6.987004e-17</td>\n",
       "      <td>1.622406e-16</td>\n",
       "      <td>-2.427688e-17</td>\n",
       "      <td>4.766558e-17</td>\n",
       "      <td>-1.894781e-17</td>\n",
       "      <td>2.948752e-16</td>\n",
       "      <td>-1.065814e-17</td>\n",
       "      <td>-1.480297e-18</td>\n",
       "      <td>-9.621933e-17</td>\n",
       "      <td>1.693460e-16</td>\n",
       "      <td>-1.373716e-16</td>\n",
       "      <td>-4.440892e-17</td>\n",
       "      <td>-1.435888e-17</td>\n",
       "    </tr>\n",
       "    <tr>\n",
       "      <th>std</th>\n",
       "      <td>1.000000e+00</td>\n",
       "      <td>1.000000e+00</td>\n",
       "      <td>1.000000e+00</td>\n",
       "      <td>1.000000e+00</td>\n",
       "      <td>1.000000e+00</td>\n",
       "      <td>1.000000e+00</td>\n",
       "      <td>1.000000e+00</td>\n",
       "      <td>1.000000e+00</td>\n",
       "      <td>1.000000e+00</td>\n",
       "      <td>1.000000e+00</td>\n",
       "      <td>1.000000e+00</td>\n",
       "      <td>1.000000e+00</td>\n",
       "      <td>1.000000e+00</td>\n",
       "      <td>1.000000e+00</td>\n",
       "      <td>1.000000e+00</td>\n",
       "      <td>1.000000e+00</td>\n",
       "    </tr>\n",
       "    <tr>\n",
       "      <th>min</th>\n",
       "      <td>-2.644885e+00</td>\n",
       "      <td>-1.279246e+00</td>\n",
       "      <td>-1.012071e+00</td>\n",
       "      <td>-9.143304e-01</td>\n",
       "      <td>-8.290666e-01</td>\n",
       "      <td>-1.202959e+00</td>\n",
       "      <td>-8.948428e-01</td>\n",
       "      <td>-5.117870e-01</td>\n",
       "      <td>-9.242033e-01</td>\n",
       "      <td>-9.391824e-01</td>\n",
       "      <td>-5.694045e-01</td>\n",
       "      <td>-8.804422e-01</td>\n",
       "      <td>-8.900227e-01</td>\n",
       "      <td>-7.796261e-01</td>\n",
       "      <td>-7.231818e-01</td>\n",
       "      <td>-4.615438e-01</td>\n",
       "    </tr>\n",
       "    <tr>\n",
       "      <th>25%</th>\n",
       "      <td>-7.172077e-01</td>\n",
       "      <td>-1.279246e+00</td>\n",
       "      <td>-1.012071e+00</td>\n",
       "      <td>-9.143304e-01</td>\n",
       "      <td>-8.290666e-01</td>\n",
       "      <td>-1.202959e+00</td>\n",
       "      <td>-8.948428e-01</td>\n",
       "      <td>-5.117870e-01</td>\n",
       "      <td>-9.242033e-01</td>\n",
       "      <td>-9.391824e-01</td>\n",
       "      <td>-5.694045e-01</td>\n",
       "      <td>-8.804422e-01</td>\n",
       "      <td>-8.900227e-01</td>\n",
       "      <td>-7.796261e-01</td>\n",
       "      <td>-7.231818e-01</td>\n",
       "      <td>-4.615438e-01</td>\n",
       "    </tr>\n",
       "    <tr>\n",
       "      <th>50%</th>\n",
       "      <td>-4.671125e-02</td>\n",
       "      <td>7.796261e-01</td>\n",
       "      <td>9.854378e-01</td>\n",
       "      <td>-9.143304e-01</td>\n",
       "      <td>-8.290666e-01</td>\n",
       "      <td>8.290666e-01</td>\n",
       "      <td>-8.948428e-01</td>\n",
       "      <td>-5.117870e-01</td>\n",
       "      <td>-9.242033e-01</td>\n",
       "      <td>-9.391824e-01</td>\n",
       "      <td>-5.694045e-01</td>\n",
       "      <td>-8.804422e-01</td>\n",
       "      <td>-8.900227e-01</td>\n",
       "      <td>-7.796261e-01</td>\n",
       "      <td>-7.231818e-01</td>\n",
       "      <td>-4.615438e-01</td>\n",
       "    </tr>\n",
       "    <tr>\n",
       "      <th>75%</th>\n",
       "      <td>6.237852e-01</td>\n",
       "      <td>7.796261e-01</td>\n",
       "      <td>9.854378e-01</td>\n",
       "      <td>1.090780e+00</td>\n",
       "      <td>1.202959e+00</td>\n",
       "      <td>8.290666e-01</td>\n",
       "      <td>1.114535e+00</td>\n",
       "      <td>-5.117870e-01</td>\n",
       "      <td>1.079128e+00</td>\n",
       "      <td>1.061917e+00</td>\n",
       "      <td>-5.694045e-01</td>\n",
       "      <td>1.132764e+00</td>\n",
       "      <td>1.120571e+00</td>\n",
       "      <td>1.279246e+00</td>\n",
       "      <td>1.379091e+00</td>\n",
       "      <td>-4.615438e-01</td>\n",
       "    </tr>\n",
       "    <tr>\n",
       "      <th>max</th>\n",
       "      <td>3.557207e+00</td>\n",
       "      <td>7.796261e-01</td>\n",
       "      <td>9.854378e-01</td>\n",
       "      <td>1.090780e+00</td>\n",
       "      <td>1.202959e+00</td>\n",
       "      <td>8.290666e-01</td>\n",
       "      <td>1.114535e+00</td>\n",
       "      <td>1.948727e+00</td>\n",
       "      <td>1.079128e+00</td>\n",
       "      <td>1.061917e+00</td>\n",
       "      <td>1.751538e+00</td>\n",
       "      <td>1.132764e+00</td>\n",
       "      <td>1.120571e+00</td>\n",
       "      <td>1.279246e+00</td>\n",
       "      <td>1.379091e+00</td>\n",
       "      <td>2.160864e+00</td>\n",
       "    </tr>\n",
       "  </tbody>\n",
       "</table>\n",
       "</div>"
      ],
      "text/plain": [
       "              idade        genero      poliúria    polidipsia  \\\n",
       "count  3.750000e+02  3.750000e+02  3.750000e+02  3.750000e+02   \n",
       "mean   9.000208e-17  7.401487e-17 -1.382598e-16 -6.987004e-17   \n",
       "std    1.000000e+00  1.000000e+00  1.000000e+00  1.000000e+00   \n",
       "min   -2.644885e+00 -1.279246e+00 -1.012071e+00 -9.143304e-01   \n",
       "25%   -7.172077e-01 -1.279246e+00 -1.012071e+00 -9.143304e-01   \n",
       "50%   -4.671125e-02  7.796261e-01  9.854378e-01 -9.143304e-01   \n",
       "75%    6.237852e-01  7.796261e-01  9.854378e-01  1.090780e+00   \n",
       "max    3.557207e+00  7.796261e-01  9.854378e-01  1.090780e+00   \n",
       "\n",
       "       Perda_peso_repentina      fraqueza     polifagia  candidiase_genital  \\\n",
       "count          3.750000e+02  3.750000e+02  3.750000e+02        3.750000e+02   \n",
       "mean           1.622406e-16 -2.427688e-17  4.766558e-17       -1.894781e-17   \n",
       "std            1.000000e+00  1.000000e+00  1.000000e+00        1.000000e+00   \n",
       "min           -8.290666e-01 -1.202959e+00 -8.948428e-01       -5.117870e-01   \n",
       "25%           -8.290666e-01 -1.202959e+00 -8.948428e-01       -5.117870e-01   \n",
       "50%           -8.290666e-01  8.290666e-01 -8.948428e-01       -5.117870e-01   \n",
       "75%            1.202959e+00  8.290666e-01  1.114535e+00       -5.117870e-01   \n",
       "max            1.202959e+00  8.290666e-01  1.114535e+00        1.948727e+00   \n",
       "\n",
       "       desfoque_visual       coceira  irritabilidade  cura_atrasada  \\\n",
       "count     3.750000e+02  3.750000e+02    3.750000e+02   3.750000e+02   \n",
       "mean      2.948752e-16 -1.065814e-17   -1.480297e-18  -9.621933e-17   \n",
       "std       1.000000e+00  1.000000e+00    1.000000e+00   1.000000e+00   \n",
       "min      -9.242033e-01 -9.391824e-01   -5.694045e-01  -8.804422e-01   \n",
       "25%      -9.242033e-01 -9.391824e-01   -5.694045e-01  -8.804422e-01   \n",
       "50%      -9.242033e-01 -9.391824e-01   -5.694045e-01  -8.804422e-01   \n",
       "75%       1.079128e+00  1.061917e+00   -5.694045e-01   1.132764e+00   \n",
       "max       1.079128e+00  1.061917e+00    1.751538e+00   1.132764e+00   \n",
       "\n",
       "       partial_paresis  rigidez_muscular      calvicie     obesidade  \n",
       "count     3.750000e+02      3.750000e+02  3.750000e+02  3.750000e+02  \n",
       "mean      1.693460e-16     -1.373716e-16 -4.440892e-17 -1.435888e-17  \n",
       "std       1.000000e+00      1.000000e+00  1.000000e+00  1.000000e+00  \n",
       "min      -8.900227e-01     -7.796261e-01 -7.231818e-01 -4.615438e-01  \n",
       "25%      -8.900227e-01     -7.796261e-01 -7.231818e-01 -4.615438e-01  \n",
       "50%      -8.900227e-01     -7.796261e-01 -7.231818e-01 -4.615438e-01  \n",
       "75%       1.120571e+00      1.279246e+00  1.379091e+00 -4.615438e-01  \n",
       "max       1.120571e+00      1.279246e+00  1.379091e+00  2.160864e+00  "
      ]
     },
     "execution_count": 47,
     "metadata": {},
     "output_type": "execute_result"
    }
   ],
   "source": [
    "X_treino.describe()"
   ]
  },
  {
   "cell_type": "code",
   "execution_count": 48,
   "id": "25d33fcd",
   "metadata": {},
   "outputs": [],
   "source": [
    "X_teste = (X_teste - treino_mean) / treino_std"
   ]
  },
  {
   "cell_type": "code",
   "execution_count": 49,
   "id": "840b0205",
   "metadata": {},
   "outputs": [
    {
     "data": {
      "text/html": [
       "<div>\n",
       "<style scoped>\n",
       "    .dataframe tbody tr th:only-of-type {\n",
       "        vertical-align: middle;\n",
       "    }\n",
       "\n",
       "    .dataframe tbody tr th {\n",
       "        vertical-align: top;\n",
       "    }\n",
       "\n",
       "    .dataframe thead th {\n",
       "        text-align: right;\n",
       "    }\n",
       "</style>\n",
       "<table border=\"1\" class=\"dataframe\">\n",
       "  <thead>\n",
       "    <tr style=\"text-align: right;\">\n",
       "      <th></th>\n",
       "      <th>idade</th>\n",
       "      <th>genero</th>\n",
       "      <th>poliúria</th>\n",
       "      <th>polidipsia</th>\n",
       "      <th>Perda_peso_repentina</th>\n",
       "      <th>fraqueza</th>\n",
       "      <th>polifagia</th>\n",
       "      <th>candidiase_genital</th>\n",
       "      <th>desfoque_visual</th>\n",
       "      <th>coceira</th>\n",
       "      <th>irritabilidade</th>\n",
       "      <th>cura_atrasada</th>\n",
       "      <th>partial_paresis</th>\n",
       "      <th>rigidez_muscular</th>\n",
       "      <th>calvicie</th>\n",
       "      <th>obesidade</th>\n",
       "    </tr>\n",
       "  </thead>\n",
       "  <tbody>\n",
       "    <tr>\n",
       "      <th>308</th>\n",
       "      <td>-1.136268</td>\n",
       "      <td>0.779626</td>\n",
       "      <td>-1.012071</td>\n",
       "      <td>-0.91433</td>\n",
       "      <td>-0.829067</td>\n",
       "      <td>-1.202959</td>\n",
       "      <td>-0.894843</td>\n",
       "      <td>-0.511787</td>\n",
       "      <td>-0.924203</td>\n",
       "      <td>-0.939182</td>\n",
       "      <td>-0.569404</td>\n",
       "      <td>-0.880442</td>\n",
       "      <td>-0.890023</td>\n",
       "      <td>-0.779626</td>\n",
       "      <td>-0.723182</td>\n",
       "      <td>-0.461544</td>\n",
       "    </tr>\n",
       "    <tr>\n",
       "      <th>322</th>\n",
       "      <td>1.378094</td>\n",
       "      <td>0.779626</td>\n",
       "      <td>-1.012071</td>\n",
       "      <td>-0.91433</td>\n",
       "      <td>-0.829067</td>\n",
       "      <td>0.829067</td>\n",
       "      <td>1.114535</td>\n",
       "      <td>-0.511787</td>\n",
       "      <td>1.079128</td>\n",
       "      <td>1.061917</td>\n",
       "      <td>1.751538</td>\n",
       "      <td>1.132764</td>\n",
       "      <td>-0.890023</td>\n",
       "      <td>1.279246</td>\n",
       "      <td>1.379091</td>\n",
       "      <td>-0.461544</td>\n",
       "    </tr>\n",
       "    <tr>\n",
       "      <th>3</th>\n",
       "      <td>-0.214335</td>\n",
       "      <td>0.779626</td>\n",
       "      <td>-1.012071</td>\n",
       "      <td>-0.91433</td>\n",
       "      <td>1.202959</td>\n",
       "      <td>0.829067</td>\n",
       "      <td>1.114535</td>\n",
       "      <td>1.948727</td>\n",
       "      <td>-0.924203</td>\n",
       "      <td>1.061917</td>\n",
       "      <td>-0.569404</td>\n",
       "      <td>1.132764</td>\n",
       "      <td>-0.890023</td>\n",
       "      <td>-0.779626</td>\n",
       "      <td>-0.723182</td>\n",
       "      <td>-0.461544</td>\n",
       "    </tr>\n",
       "    <tr>\n",
       "      <th>313</th>\n",
       "      <td>0.539973</td>\n",
       "      <td>0.779626</td>\n",
       "      <td>-1.012071</td>\n",
       "      <td>-0.91433</td>\n",
       "      <td>1.202959</td>\n",
       "      <td>0.829067</td>\n",
       "      <td>-0.894843</td>\n",
       "      <td>1.948727</td>\n",
       "      <td>-0.924203</td>\n",
       "      <td>-0.939182</td>\n",
       "      <td>-0.569404</td>\n",
       "      <td>1.132764</td>\n",
       "      <td>-0.890023</td>\n",
       "      <td>-0.779626</td>\n",
       "      <td>1.379091</td>\n",
       "      <td>-0.461544</td>\n",
       "    </tr>\n",
       "    <tr>\n",
       "      <th>461</th>\n",
       "      <td>-0.214335</td>\n",
       "      <td>0.779626</td>\n",
       "      <td>-1.012071</td>\n",
       "      <td>-0.91433</td>\n",
       "      <td>-0.829067</td>\n",
       "      <td>-1.202959</td>\n",
       "      <td>1.114535</td>\n",
       "      <td>1.948727</td>\n",
       "      <td>-0.924203</td>\n",
       "      <td>-0.939182</td>\n",
       "      <td>-0.569404</td>\n",
       "      <td>-0.880442</td>\n",
       "      <td>-0.890023</td>\n",
       "      <td>-0.779626</td>\n",
       "      <td>-0.723182</td>\n",
       "      <td>-0.461544</td>\n",
       "    </tr>\n",
       "  </tbody>\n",
       "</table>\n",
       "</div>"
      ],
      "text/plain": [
       "        idade    genero  poliúria  polidipsia  Perda_peso_repentina  fraqueza  \\\n",
       "308 -1.136268  0.779626 -1.012071    -0.91433             -0.829067 -1.202959   \n",
       "322  1.378094  0.779626 -1.012071    -0.91433             -0.829067  0.829067   \n",
       "3   -0.214335  0.779626 -1.012071    -0.91433              1.202959  0.829067   \n",
       "313  0.539973  0.779626 -1.012071    -0.91433              1.202959  0.829067   \n",
       "461 -0.214335  0.779626 -1.012071    -0.91433             -0.829067 -1.202959   \n",
       "\n",
       "     polifagia  candidiase_genital  desfoque_visual   coceira  irritabilidade  \\\n",
       "308  -0.894843           -0.511787        -0.924203 -0.939182       -0.569404   \n",
       "322   1.114535           -0.511787         1.079128  1.061917        1.751538   \n",
       "3     1.114535            1.948727        -0.924203  1.061917       -0.569404   \n",
       "313  -0.894843            1.948727        -0.924203 -0.939182       -0.569404   \n",
       "461   1.114535            1.948727        -0.924203 -0.939182       -0.569404   \n",
       "\n",
       "     cura_atrasada  partial_paresis  rigidez_muscular  calvicie  obesidade  \n",
       "308      -0.880442        -0.890023         -0.779626 -0.723182  -0.461544  \n",
       "322       1.132764        -0.890023          1.279246  1.379091  -0.461544  \n",
       "3         1.132764        -0.890023         -0.779626 -0.723182  -0.461544  \n",
       "313       1.132764        -0.890023         -0.779626  1.379091  -0.461544  \n",
       "461      -0.880442        -0.890023         -0.779626 -0.723182  -0.461544  "
      ]
     },
     "execution_count": 49,
     "metadata": {},
     "output_type": "execute_result"
    }
   ],
   "source": [
    "X_teste.head()"
   ]
  },
  {
   "cell_type": "markdown",
   "id": "328c0215",
   "metadata": {},
   "source": [
    "### <font color='blue'> Construction, Training and Evaluation of Model 1 with Logistic Regression (Benchmark) </font>"
   ]
  },
  {
   "cell_type": "markdown",
   "id": "f5c5e0bf",
   "metadata": {},
   "source": [
    "For the first version of the model, the ideal is to choose a simple, easy-to-understand algorithm that will be used as a benchmark."
   ]
  },
  {
   "cell_type": "markdown",
   "id": "adc263ae",
   "metadata": {},
   "source": [
    "Define list of hyperparameters"
   ]
  },
  {
   "cell_type": "code",
   "execution_count": 50,
   "id": "61a7e995",
   "metadata": {},
   "outputs": [],
   "source": [
    "tuned_params_v1 = {'C': [0.0001, 0.001, 0.01, 0.1, 1, 10, 100, 1000, 10000], \n",
    "                   'penalty': ['l1', 'l2']}"
   ]
  },
  {
   "cell_type": "markdown",
   "id": "38287a23",
   "metadata": {},
   "source": [
    "We will create the model with GridSearch, Several models will be created with different combinations of hyperparameters"
   ]
  },
  {
   "cell_type": "code",
   "execution_count": 51,
   "id": "e01b02ec",
   "metadata": {},
   "outputs": [],
   "source": [
    "modelo_v1 = GridSearchCV(LogisticRegression(), \n",
    "                         tuned_params_v1, \n",
    "                         scoring = 'roc_auc', \n",
    "                         n_jobs = -1)"
   ]
  },
  {
   "cell_type": "markdown",
   "id": "3659cc20",
   "metadata": {},
   "source": [
    "model training"
   ]
  },
  {
   "cell_type": "code",
   "execution_count": 52,
   "id": "b6a8ae96",
   "metadata": {},
   "outputs": [
    {
     "data": {
      "text/html": [
       "<style>#sk-container-id-1 {color: black;background-color: white;}#sk-container-id-1 pre{padding: 0;}#sk-container-id-1 div.sk-toggleable {background-color: white;}#sk-container-id-1 label.sk-toggleable__label {cursor: pointer;display: block;width: 100%;margin-bottom: 0;padding: 0.3em;box-sizing: border-box;text-align: center;}#sk-container-id-1 label.sk-toggleable__label-arrow:before {content: \"▸\";float: left;margin-right: 0.25em;color: #696969;}#sk-container-id-1 label.sk-toggleable__label-arrow:hover:before {color: black;}#sk-container-id-1 div.sk-estimator:hover label.sk-toggleable__label-arrow:before {color: black;}#sk-container-id-1 div.sk-toggleable__content {max-height: 0;max-width: 0;overflow: hidden;text-align: left;background-color: #f0f8ff;}#sk-container-id-1 div.sk-toggleable__content pre {margin: 0.2em;color: black;border-radius: 0.25em;background-color: #f0f8ff;}#sk-container-id-1 input.sk-toggleable__control:checked~div.sk-toggleable__content {max-height: 200px;max-width: 100%;overflow: auto;}#sk-container-id-1 input.sk-toggleable__control:checked~label.sk-toggleable__label-arrow:before {content: \"▾\";}#sk-container-id-1 div.sk-estimator input.sk-toggleable__control:checked~label.sk-toggleable__label {background-color: #d4ebff;}#sk-container-id-1 div.sk-label input.sk-toggleable__control:checked~label.sk-toggleable__label {background-color: #d4ebff;}#sk-container-id-1 input.sk-hidden--visually {border: 0;clip: rect(1px 1px 1px 1px);clip: rect(1px, 1px, 1px, 1px);height: 1px;margin: -1px;overflow: hidden;padding: 0;position: absolute;width: 1px;}#sk-container-id-1 div.sk-estimator {font-family: monospace;background-color: #f0f8ff;border: 1px dotted black;border-radius: 0.25em;box-sizing: border-box;margin-bottom: 0.5em;}#sk-container-id-1 div.sk-estimator:hover {background-color: #d4ebff;}#sk-container-id-1 div.sk-parallel-item::after {content: \"\";width: 100%;border-bottom: 1px solid gray;flex-grow: 1;}#sk-container-id-1 div.sk-label:hover label.sk-toggleable__label {background-color: #d4ebff;}#sk-container-id-1 div.sk-serial::before {content: \"\";position: absolute;border-left: 1px solid gray;box-sizing: border-box;top: 0;bottom: 0;left: 50%;z-index: 0;}#sk-container-id-1 div.sk-serial {display: flex;flex-direction: column;align-items: center;background-color: white;padding-right: 0.2em;padding-left: 0.2em;position: relative;}#sk-container-id-1 div.sk-item {position: relative;z-index: 1;}#sk-container-id-1 div.sk-parallel {display: flex;align-items: stretch;justify-content: center;background-color: white;position: relative;}#sk-container-id-1 div.sk-item::before, #sk-container-id-1 div.sk-parallel-item::before {content: \"\";position: absolute;border-left: 1px solid gray;box-sizing: border-box;top: 0;bottom: 0;left: 50%;z-index: -1;}#sk-container-id-1 div.sk-parallel-item {display: flex;flex-direction: column;z-index: 1;position: relative;background-color: white;}#sk-container-id-1 div.sk-parallel-item:first-child::after {align-self: flex-end;width: 50%;}#sk-container-id-1 div.sk-parallel-item:last-child::after {align-self: flex-start;width: 50%;}#sk-container-id-1 div.sk-parallel-item:only-child::after {width: 0;}#sk-container-id-1 div.sk-dashed-wrapped {border: 1px dashed gray;margin: 0 0.4em 0.5em 0.4em;box-sizing: border-box;padding-bottom: 0.4em;background-color: white;}#sk-container-id-1 div.sk-label label {font-family: monospace;font-weight: bold;display: inline-block;line-height: 1.2em;}#sk-container-id-1 div.sk-label-container {text-align: center;}#sk-container-id-1 div.sk-container {/* jupyter's `normalize.less` sets `[hidden] { display: none; }` but bootstrap.min.css set `[hidden] { display: none !important; }` so we also need the `!important` here to be able to override the default hidden behavior on the sphinx rendered scikit-learn.org. See: https://github.com/scikit-learn/scikit-learn/issues/21755 */display: inline-block !important;position: relative;}#sk-container-id-1 div.sk-text-repr-fallback {display: none;}</style><div id=\"sk-container-id-1\" class=\"sk-top-container\"><div class=\"sk-text-repr-fallback\"><pre>GridSearchCV(estimator=LogisticRegression(), n_jobs=-1,\n",
       "             param_grid={&#x27;C&#x27;: [0.0001, 0.001, 0.01, 0.1, 1, 10, 100, 1000,\n",
       "                               10000],\n",
       "                         &#x27;penalty&#x27;: [&#x27;l1&#x27;, &#x27;l2&#x27;]},\n",
       "             scoring=&#x27;roc_auc&#x27;)</pre><b>In a Jupyter environment, please rerun this cell to show the HTML representation or trust the notebook. <br />On GitHub, the HTML representation is unable to render, please try loading this page with nbviewer.org.</b></div><div class=\"sk-container\" hidden><div class=\"sk-item sk-dashed-wrapped\"><div class=\"sk-label-container\"><div class=\"sk-label sk-toggleable\"><input class=\"sk-toggleable__control sk-hidden--visually\" id=\"sk-estimator-id-1\" type=\"checkbox\" ><label for=\"sk-estimator-id-1\" class=\"sk-toggleable__label sk-toggleable__label-arrow\">GridSearchCV</label><div class=\"sk-toggleable__content\"><pre>GridSearchCV(estimator=LogisticRegression(), n_jobs=-1,\n",
       "             param_grid={&#x27;C&#x27;: [0.0001, 0.001, 0.01, 0.1, 1, 10, 100, 1000,\n",
       "                               10000],\n",
       "                         &#x27;penalty&#x27;: [&#x27;l1&#x27;, &#x27;l2&#x27;]},\n",
       "             scoring=&#x27;roc_auc&#x27;)</pre></div></div></div><div class=\"sk-parallel\"><div class=\"sk-parallel-item\"><div class=\"sk-item\"><div class=\"sk-label-container\"><div class=\"sk-label sk-toggleable\"><input class=\"sk-toggleable__control sk-hidden--visually\" id=\"sk-estimator-id-2\" type=\"checkbox\" ><label for=\"sk-estimator-id-2\" class=\"sk-toggleable__label sk-toggleable__label-arrow\">estimator: LogisticRegression</label><div class=\"sk-toggleable__content\"><pre>LogisticRegression()</pre></div></div></div><div class=\"sk-serial\"><div class=\"sk-item\"><div class=\"sk-estimator sk-toggleable\"><input class=\"sk-toggleable__control sk-hidden--visually\" id=\"sk-estimator-id-3\" type=\"checkbox\" ><label for=\"sk-estimator-id-3\" class=\"sk-toggleable__label sk-toggleable__label-arrow\">LogisticRegression</label><div class=\"sk-toggleable__content\"><pre>LogisticRegression()</pre></div></div></div></div></div></div></div></div></div></div>"
      ],
      "text/plain": [
       "GridSearchCV(estimator=LogisticRegression(), n_jobs=-1,\n",
       "             param_grid={'C': [0.0001, 0.001, 0.01, 0.1, 1, 10, 100, 1000,\n",
       "                               10000],\n",
       "                         'penalty': ['l1', 'l2']},\n",
       "             scoring='roc_auc')"
      ]
     },
     "execution_count": 52,
     "metadata": {},
     "output_type": "execute_result"
    }
   ],
   "source": [
    "modelo_v1.fit(X_treino, y_treino)"
   ]
  },
  {
   "cell_type": "code",
   "execution_count": 53,
   "id": "23171505",
   "metadata": {},
   "outputs": [
    {
     "data": {
      "text/html": [
       "<style>#sk-container-id-2 {color: black;background-color: white;}#sk-container-id-2 pre{padding: 0;}#sk-container-id-2 div.sk-toggleable {background-color: white;}#sk-container-id-2 label.sk-toggleable__label {cursor: pointer;display: block;width: 100%;margin-bottom: 0;padding: 0.3em;box-sizing: border-box;text-align: center;}#sk-container-id-2 label.sk-toggleable__label-arrow:before {content: \"▸\";float: left;margin-right: 0.25em;color: #696969;}#sk-container-id-2 label.sk-toggleable__label-arrow:hover:before {color: black;}#sk-container-id-2 div.sk-estimator:hover label.sk-toggleable__label-arrow:before {color: black;}#sk-container-id-2 div.sk-toggleable__content {max-height: 0;max-width: 0;overflow: hidden;text-align: left;background-color: #f0f8ff;}#sk-container-id-2 div.sk-toggleable__content pre {margin: 0.2em;color: black;border-radius: 0.25em;background-color: #f0f8ff;}#sk-container-id-2 input.sk-toggleable__control:checked~div.sk-toggleable__content {max-height: 200px;max-width: 100%;overflow: auto;}#sk-container-id-2 input.sk-toggleable__control:checked~label.sk-toggleable__label-arrow:before {content: \"▾\";}#sk-container-id-2 div.sk-estimator input.sk-toggleable__control:checked~label.sk-toggleable__label {background-color: #d4ebff;}#sk-container-id-2 div.sk-label input.sk-toggleable__control:checked~label.sk-toggleable__label {background-color: #d4ebff;}#sk-container-id-2 input.sk-hidden--visually {border: 0;clip: rect(1px 1px 1px 1px);clip: rect(1px, 1px, 1px, 1px);height: 1px;margin: -1px;overflow: hidden;padding: 0;position: absolute;width: 1px;}#sk-container-id-2 div.sk-estimator {font-family: monospace;background-color: #f0f8ff;border: 1px dotted black;border-radius: 0.25em;box-sizing: border-box;margin-bottom: 0.5em;}#sk-container-id-2 div.sk-estimator:hover {background-color: #d4ebff;}#sk-container-id-2 div.sk-parallel-item::after {content: \"\";width: 100%;border-bottom: 1px solid gray;flex-grow: 1;}#sk-container-id-2 div.sk-label:hover label.sk-toggleable__label {background-color: #d4ebff;}#sk-container-id-2 div.sk-serial::before {content: \"\";position: absolute;border-left: 1px solid gray;box-sizing: border-box;top: 0;bottom: 0;left: 50%;z-index: 0;}#sk-container-id-2 div.sk-serial {display: flex;flex-direction: column;align-items: center;background-color: white;padding-right: 0.2em;padding-left: 0.2em;position: relative;}#sk-container-id-2 div.sk-item {position: relative;z-index: 1;}#sk-container-id-2 div.sk-parallel {display: flex;align-items: stretch;justify-content: center;background-color: white;position: relative;}#sk-container-id-2 div.sk-item::before, #sk-container-id-2 div.sk-parallel-item::before {content: \"\";position: absolute;border-left: 1px solid gray;box-sizing: border-box;top: 0;bottom: 0;left: 50%;z-index: -1;}#sk-container-id-2 div.sk-parallel-item {display: flex;flex-direction: column;z-index: 1;position: relative;background-color: white;}#sk-container-id-2 div.sk-parallel-item:first-child::after {align-self: flex-end;width: 50%;}#sk-container-id-2 div.sk-parallel-item:last-child::after {align-self: flex-start;width: 50%;}#sk-container-id-2 div.sk-parallel-item:only-child::after {width: 0;}#sk-container-id-2 div.sk-dashed-wrapped {border: 1px dashed gray;margin: 0 0.4em 0.5em 0.4em;box-sizing: border-box;padding-bottom: 0.4em;background-color: white;}#sk-container-id-2 div.sk-label label {font-family: monospace;font-weight: bold;display: inline-block;line-height: 1.2em;}#sk-container-id-2 div.sk-label-container {text-align: center;}#sk-container-id-2 div.sk-container {/* jupyter's `normalize.less` sets `[hidden] { display: none; }` but bootstrap.min.css set `[hidden] { display: none !important; }` so we also need the `!important` here to be able to override the default hidden behavior on the sphinx rendered scikit-learn.org. See: https://github.com/scikit-learn/scikit-learn/issues/21755 */display: inline-block !important;position: relative;}#sk-container-id-2 div.sk-text-repr-fallback {display: none;}</style><div id=\"sk-container-id-2\" class=\"sk-top-container\"><div class=\"sk-text-repr-fallback\"><pre>LogisticRegression(C=0.1)</pre><b>In a Jupyter environment, please rerun this cell to show the HTML representation or trust the notebook. <br />On GitHub, the HTML representation is unable to render, please try loading this page with nbviewer.org.</b></div><div class=\"sk-container\" hidden><div class=\"sk-item\"><div class=\"sk-estimator sk-toggleable\"><input class=\"sk-toggleable__control sk-hidden--visually\" id=\"sk-estimator-id-4\" type=\"checkbox\" checked><label for=\"sk-estimator-id-4\" class=\"sk-toggleable__label sk-toggleable__label-arrow\">LogisticRegression</label><div class=\"sk-toggleable__content\"><pre>LogisticRegression(C=0.1)</pre></div></div></div></div></div>"
      ],
      "text/plain": [
       "LogisticRegression(C=0.1)"
      ]
     },
     "execution_count": 53,
     "metadata": {},
     "output_type": "execute_result"
    }
   ],
   "source": [
    "modelo_v1.best_estimator_"
   ]
  },
  {
   "cell_type": "code",
   "execution_count": 54,
   "id": "9732a3be",
   "metadata": {},
   "outputs": [],
   "source": [
    "y_pred_v1 = modelo_v1.predict(X_teste)"
   ]
  },
  {
   "cell_type": "markdown",
   "id": "1ec164be",
   "metadata": {},
   "source": [
    "Shows the first 10 predictions"
   ]
  },
  {
   "cell_type": "code",
   "execution_count": 55,
   "id": "060eb225",
   "metadata": {},
   "outputs": [
    {
     "data": {
      "text/plain": [
       "array([0, 0, 0, 0, 0, 0, 1, 0, 1, 1], dtype=int64)"
      ]
     },
     "execution_count": 55,
     "metadata": {},
     "output_type": "execute_result"
    }
   ],
   "source": [
    "y_pred_v1[:10]"
   ]
  },
  {
   "cell_type": "markdown",
   "id": "d672a7d1",
   "metadata": {},
   "source": [
    "We get predictions in probability format for each class"
   ]
  },
  {
   "cell_type": "code",
   "execution_count": 56,
   "id": "359eb199",
   "metadata": {},
   "outputs": [],
   "source": [
    "y_pred_proba_v1 = modelo_v1.predict_proba(X_teste)"
   ]
  },
  {
   "cell_type": "code",
   "execution_count": 57,
   "id": "073ab6ae",
   "metadata": {},
   "outputs": [
    {
     "data": {
      "text/plain": [
       "array([[0.8792223 , 0.1207777 ],\n",
       "       [0.86815056, 0.13184944],\n",
       "       [0.73761874, 0.26238126],\n",
       "       [0.80163337, 0.19836663],\n",
       "       [0.58877337, 0.41122663],\n",
       "       [0.96667096, 0.03332904],\n",
       "       [0.00804371, 0.99195629],\n",
       "       [0.96335072, 0.03664928],\n",
       "       [0.26310302, 0.73689698],\n",
       "       [0.02474842, 0.97525158]])"
      ]
     },
     "execution_count": 57,
     "metadata": {},
     "output_type": "execute_result"
    }
   ],
   "source": [
    "y_pred_proba_v1[:10]"
   ]
  },
  {
   "cell_type": "markdown",
   "id": "83ac8634",
   "metadata": {},
   "source": [
    "We get the predictions in probability format by filtering for the positive class,\n",
    "We need this to calculate the ROC Curve"
   ]
  },
  {
   "cell_type": "code",
   "execution_count": 58,
   "id": "f6b8d9a8",
   "metadata": {},
   "outputs": [],
   "source": [
    "y_pred_proba_v1 = modelo_v1.predict_proba(X_teste)[:,1]"
   ]
  },
  {
   "cell_type": "markdown",
   "id": "abfc5622",
   "metadata": {},
   "source": [
    "Shows the first 10 predictions"
   ]
  },
  {
   "cell_type": "code",
   "execution_count": 59,
   "id": "7ea1542d",
   "metadata": {},
   "outputs": [
    {
     "data": {
      "text/plain": [
       "array([0.1207777 , 0.13184944, 0.26238126, 0.19836663, 0.41122663,\n",
       "       0.03332904, 0.99195629, 0.03664928, 0.73689698, 0.97525158])"
      ]
     },
     "execution_count": 59,
     "metadata": {},
     "output_type": "execute_result"
    }
   ],
   "source": [
    "y_pred_proba_v1[:10]"
   ]
  },
  {
   "cell_type": "markdown",
   "id": "4a91a1b8",
   "metadata": {},
   "source": [
    "confusion matrix"
   ]
  },
  {
   "cell_type": "code",
   "execution_count": 60,
   "id": "d764ca35",
   "metadata": {},
   "outputs": [
    {
     "data": {
      "text/plain": [
       "array([[45,  1],\n",
       "       [ 8, 71]], dtype=int64)"
      ]
     },
     "execution_count": 60,
     "metadata": {},
     "output_type": "execute_result"
    }
   ],
   "source": [
    "confusion_matrix(y_teste, y_pred_v1)"
   ]
  },
  {
   "cell_type": "markdown",
   "id": "a9f8bfac",
   "metadata": {},
   "source": [
    "Extracting each value from the CM"
   ]
  },
  {
   "cell_type": "code",
   "execution_count": 61,
   "id": "0800cd49",
   "metadata": {},
   "outputs": [],
   "source": [
    "tn, fp, fn, tp = confusion_matrix(y_teste, y_pred_v1).ravel()"
   ]
  },
  {
   "cell_type": "code",
   "execution_count": 62,
   "id": "f60aa188",
   "metadata": {},
   "outputs": [
    {
     "name": "stdout",
     "output_type": "stream",
     "text": [
      "45 1 8 71\n"
     ]
    }
   ],
   "source": [
    "print(tn, fp, fn, tp)"
   ]
  },
  {
   "cell_type": "markdown",
   "id": "c8a6f0c9",
   "metadata": {},
   "source": [
    "Calculates the global AUC (Area Under The Curve) metric with real data and test predictions"
   ]
  },
  {
   "cell_type": "code",
   "execution_count": 63,
   "id": "39d1c075",
   "metadata": {},
   "outputs": [
    {
     "name": "stdout",
     "output_type": "stream",
     "text": [
      "0.9384975233902036\n"
     ]
    }
   ],
   "source": [
    "roc_auc_v1 = roc_auc_score(y_teste, y_pred_v1)\n",
    "print(roc_auc_v1)"
   ]
  },
  {
   "cell_type": "markdown",
   "id": "40040e4b",
   "metadata": {},
   "source": [
    "Calculates the ROC curve with test data and predictions"
   ]
  },
  {
   "cell_type": "code",
   "execution_count": 64,
   "id": "20d48e01",
   "metadata": {},
   "outputs": [],
   "source": [
    "fpr_v1, tpr_v1, thresholds = roc_curve(y_teste, y_pred_proba_v1)"
   ]
  },
  {
   "cell_type": "markdown",
   "id": "fb06df08",
   "metadata": {},
   "source": [
    "AUC under test"
   ]
  },
  {
   "cell_type": "code",
   "execution_count": 65,
   "id": "e216eea9",
   "metadata": {},
   "outputs": [
    {
     "name": "stdout",
     "output_type": "stream",
     "text": [
      "0.9518436984039627\n"
     ]
    }
   ],
   "source": [
    "auc_v1 = auc(fpr_v1, tpr_v1)\n",
    "print(auc_v1)"
   ]
  },
  {
   "cell_type": "markdown",
   "id": "c15e59e4",
   "metadata": {},
   "source": [
    "Accuracy under test"
   ]
  },
  {
   "cell_type": "code",
   "execution_count": 66,
   "id": "87d358a5",
   "metadata": {},
   "outputs": [
    {
     "name": "stdout",
     "output_type": "stream",
     "text": [
      "0.928\n"
     ]
    }
   ],
   "source": [
    "acuracia_v1 = accuracy_score(y_teste, y_pred_v1)\n",
    "print(acuracia_v1)"
   ]
  },
  {
   "cell_type": "markdown",
   "id": "a08eb562",
   "metadata": {},
   "source": [
    "### Feature Importance"
   ]
  },
  {
   "cell_type": "markdown",
   "id": "d37a4c94",
   "metadata": {},
   "source": [
    "Building the model again with the best hyperparameters, This is necessary as the final version must not have GridSearchCV"
   ]
  },
  {
   "cell_type": "code",
   "execution_count": 67,
   "id": "8ddfcfda",
   "metadata": {},
   "outputs": [
    {
     "data": {
      "text/html": [
       "<style>#sk-container-id-3 {color: black;background-color: white;}#sk-container-id-3 pre{padding: 0;}#sk-container-id-3 div.sk-toggleable {background-color: white;}#sk-container-id-3 label.sk-toggleable__label {cursor: pointer;display: block;width: 100%;margin-bottom: 0;padding: 0.3em;box-sizing: border-box;text-align: center;}#sk-container-id-3 label.sk-toggleable__label-arrow:before {content: \"▸\";float: left;margin-right: 0.25em;color: #696969;}#sk-container-id-3 label.sk-toggleable__label-arrow:hover:before {color: black;}#sk-container-id-3 div.sk-estimator:hover label.sk-toggleable__label-arrow:before {color: black;}#sk-container-id-3 div.sk-toggleable__content {max-height: 0;max-width: 0;overflow: hidden;text-align: left;background-color: #f0f8ff;}#sk-container-id-3 div.sk-toggleable__content pre {margin: 0.2em;color: black;border-radius: 0.25em;background-color: #f0f8ff;}#sk-container-id-3 input.sk-toggleable__control:checked~div.sk-toggleable__content {max-height: 200px;max-width: 100%;overflow: auto;}#sk-container-id-3 input.sk-toggleable__control:checked~label.sk-toggleable__label-arrow:before {content: \"▾\";}#sk-container-id-3 div.sk-estimator input.sk-toggleable__control:checked~label.sk-toggleable__label {background-color: #d4ebff;}#sk-container-id-3 div.sk-label input.sk-toggleable__control:checked~label.sk-toggleable__label {background-color: #d4ebff;}#sk-container-id-3 input.sk-hidden--visually {border: 0;clip: rect(1px 1px 1px 1px);clip: rect(1px, 1px, 1px, 1px);height: 1px;margin: -1px;overflow: hidden;padding: 0;position: absolute;width: 1px;}#sk-container-id-3 div.sk-estimator {font-family: monospace;background-color: #f0f8ff;border: 1px dotted black;border-radius: 0.25em;box-sizing: border-box;margin-bottom: 0.5em;}#sk-container-id-3 div.sk-estimator:hover {background-color: #d4ebff;}#sk-container-id-3 div.sk-parallel-item::after {content: \"\";width: 100%;border-bottom: 1px solid gray;flex-grow: 1;}#sk-container-id-3 div.sk-label:hover label.sk-toggleable__label {background-color: #d4ebff;}#sk-container-id-3 div.sk-serial::before {content: \"\";position: absolute;border-left: 1px solid gray;box-sizing: border-box;top: 0;bottom: 0;left: 50%;z-index: 0;}#sk-container-id-3 div.sk-serial {display: flex;flex-direction: column;align-items: center;background-color: white;padding-right: 0.2em;padding-left: 0.2em;position: relative;}#sk-container-id-3 div.sk-item {position: relative;z-index: 1;}#sk-container-id-3 div.sk-parallel {display: flex;align-items: stretch;justify-content: center;background-color: white;position: relative;}#sk-container-id-3 div.sk-item::before, #sk-container-id-3 div.sk-parallel-item::before {content: \"\";position: absolute;border-left: 1px solid gray;box-sizing: border-box;top: 0;bottom: 0;left: 50%;z-index: -1;}#sk-container-id-3 div.sk-parallel-item {display: flex;flex-direction: column;z-index: 1;position: relative;background-color: white;}#sk-container-id-3 div.sk-parallel-item:first-child::after {align-self: flex-end;width: 50%;}#sk-container-id-3 div.sk-parallel-item:last-child::after {align-self: flex-start;width: 50%;}#sk-container-id-3 div.sk-parallel-item:only-child::after {width: 0;}#sk-container-id-3 div.sk-dashed-wrapped {border: 1px dashed gray;margin: 0 0.4em 0.5em 0.4em;box-sizing: border-box;padding-bottom: 0.4em;background-color: white;}#sk-container-id-3 div.sk-label label {font-family: monospace;font-weight: bold;display: inline-block;line-height: 1.2em;}#sk-container-id-3 div.sk-label-container {text-align: center;}#sk-container-id-3 div.sk-container {/* jupyter's `normalize.less` sets `[hidden] { display: none; }` but bootstrap.min.css set `[hidden] { display: none !important; }` so we also need the `!important` here to be able to override the default hidden behavior on the sphinx rendered scikit-learn.org. See: https://github.com/scikit-learn/scikit-learn/issues/21755 */display: inline-block !important;position: relative;}#sk-container-id-3 div.sk-text-repr-fallback {display: none;}</style><div id=\"sk-container-id-3\" class=\"sk-top-container\"><div class=\"sk-text-repr-fallback\"><pre>LogisticRegression(C=1)</pre><b>In a Jupyter environment, please rerun this cell to show the HTML representation or trust the notebook. <br />On GitHub, the HTML representation is unable to render, please try loading this page with nbviewer.org.</b></div><div class=\"sk-container\" hidden><div class=\"sk-item\"><div class=\"sk-estimator sk-toggleable\"><input class=\"sk-toggleable__control sk-hidden--visually\" id=\"sk-estimator-id-5\" type=\"checkbox\" checked><label for=\"sk-estimator-id-5\" class=\"sk-toggleable__label sk-toggleable__label-arrow\">LogisticRegression</label><div class=\"sk-toggleable__content\"><pre>LogisticRegression(C=1)</pre></div></div></div></div></div>"
      ],
      "text/plain": [
       "LogisticRegression(C=1)"
      ]
     },
     "execution_count": 67,
     "metadata": {},
     "output_type": "execute_result"
    }
   ],
   "source": [
    "modelo_v1 = LogisticRegression(C = 1)\n",
    "modelo_v1.fit(X_treino, y_treino)"
   ]
  },
  {
   "cell_type": "code",
   "execution_count": 68,
   "id": "8d11da0a",
   "metadata": {},
   "outputs": [],
   "source": [
    "indices = np.argsort(-abs(modelo_v1.coef_[0,:]))"
   ]
  },
  {
   "cell_type": "code",
   "execution_count": 69,
   "id": "f05987ce",
   "metadata": {},
   "outputs": [
    {
     "name": "stdout",
     "output_type": "stream",
     "text": [
      "Most important variables for the result of model_v1:\n",
      "--------------------------------------------------\n",
      "polidipsia\n",
      "genero\n",
      "poliúria\n",
      "irritabilidade\n",
      "coceira\n",
      "candidiase_genital\n",
      "cura_atrasada\n",
      "desfoque_visual\n",
      "partial_paresis\n",
      "polifagia\n",
      "Perda_peso_repentina\n",
      "idade\n",
      "calvicie\n",
      "rigidez_muscular\n",
      "obesidade\n",
      "fraqueza\n"
     ]
    }
   ],
   "source": [
    "print(\"Most important variables for the result of model_v1:\")\n",
    "print(50*'-')\n",
    "for feature in X.columns[indices]:\n",
    "    print(feature)"
   ]
  },
  {
   "cell_type": "markdown",
   "id": "6e7f0176",
   "metadata": {},
   "source": [
    "Saving the model to disk"
   ]
  },
  {
   "cell_type": "code",
   "execution_count": 70,
   "id": "ad851105",
   "metadata": {},
   "outputs": [],
   "source": [
    "with open('modelos/modelo_v1.pkl', 'wb') as pickle_file:\n",
    "      joblib.dump(modelo_v1, 'modelos/modelo_v1.pkl') "
   ]
  },
  {
   "cell_type": "markdown",
   "id": "693b4378",
   "metadata": {},
   "source": [
    "Creates a dataframe to receive metrics from each model"
   ]
  },
  {
   "cell_type": "code",
   "execution_count": 71,
   "id": "d838b7a1",
   "metadata": {},
   "outputs": [],
   "source": [
    "df_modelos = pd.DataFrame()"
   ]
  },
  {
   "cell_type": "markdown",
   "id": "b2b1d841",
   "metadata": {},
   "source": [
    "Dictionary with model_v1 metrics"
   ]
  },
  {
   "cell_type": "code",
   "execution_count": 72,
   "id": "b87d3835",
   "metadata": {},
   "outputs": [],
   "source": [
    "dict_modelo_v1 = {'Nome': 'modelo_v1', \n",
    "                  'Algoritmo': 'Regressão Logística', \n",
    "                  'ROC_AUC Score': roc_auc_v1,\n",
    "                  'AUC Score': auc_v1,\n",
    "                  'Acurácia': acuracia_v1}"
   ]
  },
  {
   "cell_type": "markdown",
   "id": "25918f0a",
   "metadata": {},
   "source": [
    "Add the dict to the dataframe"
   ]
  },
  {
   "cell_type": "code",
   "execution_count": 73,
   "id": "4a899ad0",
   "metadata": {},
   "outputs": [],
   "source": [
    "df_modelos = df_modelos.append(dict_modelo_v1, ignore_index = True)"
   ]
  },
  {
   "cell_type": "code",
   "execution_count": 74,
   "id": "fbc092ff",
   "metadata": {},
   "outputs": [
    {
     "data": {
      "text/html": [
       "<div>\n",
       "<style scoped>\n",
       "    .dataframe tbody tr th:only-of-type {\n",
       "        vertical-align: middle;\n",
       "    }\n",
       "\n",
       "    .dataframe tbody tr th {\n",
       "        vertical-align: top;\n",
       "    }\n",
       "\n",
       "    .dataframe thead th {\n",
       "        text-align: right;\n",
       "    }\n",
       "</style>\n",
       "<table border=\"1\" class=\"dataframe\">\n",
       "  <thead>\n",
       "    <tr style=\"text-align: right;\">\n",
       "      <th></th>\n",
       "      <th>Nome</th>\n",
       "      <th>Algoritmo</th>\n",
       "      <th>ROC_AUC Score</th>\n",
       "      <th>AUC Score</th>\n",
       "      <th>Acurácia</th>\n",
       "    </tr>\n",
       "  </thead>\n",
       "  <tbody>\n",
       "    <tr>\n",
       "      <th>0</th>\n",
       "      <td>modelo_v1</td>\n",
       "      <td>Regressão Logística</td>\n",
       "      <td>0.938498</td>\n",
       "      <td>0.951844</td>\n",
       "      <td>0.928</td>\n",
       "    </tr>\n",
       "  </tbody>\n",
       "</table>\n",
       "</div>"
      ],
      "text/plain": [
       "        Nome            Algoritmo  ROC_AUC Score  AUC Score  Acurácia\n",
       "0  modelo_v1  Regressão Logística       0.938498   0.951844     0.928"
      ]
     },
     "metadata": {},
     "output_type": "display_data"
    }
   ],
   "source": [
    "display(df_modelos)"
   ]
  },
  {
   "cell_type": "markdown",
   "id": "f535fb5d",
   "metadata": {},
   "source": [
    "### <font color='blue'> Construction, Training and Evaluation of Model 2 with Random Forest </font>"
   ]
  },
  {
   "cell_type": "markdown",
   "id": "8417a1b9",
   "metadata": {},
   "source": [
    "The objective now is to try to get a better model than version 1. I will try the Random Forest algorithm."
   ]
  },
  {
   "cell_type": "code",
   "execution_count": 75,
   "id": "ba661c38",
   "metadata": {},
   "outputs": [],
   "source": [
    "tuned_params_v2 = {'n_estimators': [100, 200, 300, 400, 500], \n",
    "                   'min_samples_split': [2, 5, 10], \n",
    "                   'min_samples_leaf': [1, 2, 4]}"
   ]
  },
  {
   "cell_type": "code",
   "execution_count": 76,
   "id": "1d332968",
   "metadata": {},
   "outputs": [],
   "source": [
    "modelo_v2 = RandomizedSearchCV(RandomForestClassifier(), \n",
    "                               tuned_params_v2, \n",
    "                               n_iter = 15, \n",
    "                               scoring = 'roc_auc', \n",
    "                               n_jobs  = -1)"
   ]
  },
  {
   "cell_type": "code",
   "execution_count": 77,
   "id": "200c192f",
   "metadata": {},
   "outputs": [
    {
     "data": {
      "text/html": [
       "<style>#sk-container-id-4 {color: black;background-color: white;}#sk-container-id-4 pre{padding: 0;}#sk-container-id-4 div.sk-toggleable {background-color: white;}#sk-container-id-4 label.sk-toggleable__label {cursor: pointer;display: block;width: 100%;margin-bottom: 0;padding: 0.3em;box-sizing: border-box;text-align: center;}#sk-container-id-4 label.sk-toggleable__label-arrow:before {content: \"▸\";float: left;margin-right: 0.25em;color: #696969;}#sk-container-id-4 label.sk-toggleable__label-arrow:hover:before {color: black;}#sk-container-id-4 div.sk-estimator:hover label.sk-toggleable__label-arrow:before {color: black;}#sk-container-id-4 div.sk-toggleable__content {max-height: 0;max-width: 0;overflow: hidden;text-align: left;background-color: #f0f8ff;}#sk-container-id-4 div.sk-toggleable__content pre {margin: 0.2em;color: black;border-radius: 0.25em;background-color: #f0f8ff;}#sk-container-id-4 input.sk-toggleable__control:checked~div.sk-toggleable__content {max-height: 200px;max-width: 100%;overflow: auto;}#sk-container-id-4 input.sk-toggleable__control:checked~label.sk-toggleable__label-arrow:before {content: \"▾\";}#sk-container-id-4 div.sk-estimator input.sk-toggleable__control:checked~label.sk-toggleable__label {background-color: #d4ebff;}#sk-container-id-4 div.sk-label input.sk-toggleable__control:checked~label.sk-toggleable__label {background-color: #d4ebff;}#sk-container-id-4 input.sk-hidden--visually {border: 0;clip: rect(1px 1px 1px 1px);clip: rect(1px, 1px, 1px, 1px);height: 1px;margin: -1px;overflow: hidden;padding: 0;position: absolute;width: 1px;}#sk-container-id-4 div.sk-estimator {font-family: monospace;background-color: #f0f8ff;border: 1px dotted black;border-radius: 0.25em;box-sizing: border-box;margin-bottom: 0.5em;}#sk-container-id-4 div.sk-estimator:hover {background-color: #d4ebff;}#sk-container-id-4 div.sk-parallel-item::after {content: \"\";width: 100%;border-bottom: 1px solid gray;flex-grow: 1;}#sk-container-id-4 div.sk-label:hover label.sk-toggleable__label {background-color: #d4ebff;}#sk-container-id-4 div.sk-serial::before {content: \"\";position: absolute;border-left: 1px solid gray;box-sizing: border-box;top: 0;bottom: 0;left: 50%;z-index: 0;}#sk-container-id-4 div.sk-serial {display: flex;flex-direction: column;align-items: center;background-color: white;padding-right: 0.2em;padding-left: 0.2em;position: relative;}#sk-container-id-4 div.sk-item {position: relative;z-index: 1;}#sk-container-id-4 div.sk-parallel {display: flex;align-items: stretch;justify-content: center;background-color: white;position: relative;}#sk-container-id-4 div.sk-item::before, #sk-container-id-4 div.sk-parallel-item::before {content: \"\";position: absolute;border-left: 1px solid gray;box-sizing: border-box;top: 0;bottom: 0;left: 50%;z-index: -1;}#sk-container-id-4 div.sk-parallel-item {display: flex;flex-direction: column;z-index: 1;position: relative;background-color: white;}#sk-container-id-4 div.sk-parallel-item:first-child::after {align-self: flex-end;width: 50%;}#sk-container-id-4 div.sk-parallel-item:last-child::after {align-self: flex-start;width: 50%;}#sk-container-id-4 div.sk-parallel-item:only-child::after {width: 0;}#sk-container-id-4 div.sk-dashed-wrapped {border: 1px dashed gray;margin: 0 0.4em 0.5em 0.4em;box-sizing: border-box;padding-bottom: 0.4em;background-color: white;}#sk-container-id-4 div.sk-label label {font-family: monospace;font-weight: bold;display: inline-block;line-height: 1.2em;}#sk-container-id-4 div.sk-label-container {text-align: center;}#sk-container-id-4 div.sk-container {/* jupyter's `normalize.less` sets `[hidden] { display: none; }` but bootstrap.min.css set `[hidden] { display: none !important; }` so we also need the `!important` here to be able to override the default hidden behavior on the sphinx rendered scikit-learn.org. See: https://github.com/scikit-learn/scikit-learn/issues/21755 */display: inline-block !important;position: relative;}#sk-container-id-4 div.sk-text-repr-fallback {display: none;}</style><div id=\"sk-container-id-4\" class=\"sk-top-container\"><div class=\"sk-text-repr-fallback\"><pre>RandomizedSearchCV(estimator=RandomForestClassifier(), n_iter=15, n_jobs=-1,\n",
       "                   param_distributions={&#x27;min_samples_leaf&#x27;: [1, 2, 4],\n",
       "                                        &#x27;min_samples_split&#x27;: [2, 5, 10],\n",
       "                                        &#x27;n_estimators&#x27;: [100, 200, 300, 400,\n",
       "                                                         500]},\n",
       "                   scoring=&#x27;roc_auc&#x27;)</pre><b>In a Jupyter environment, please rerun this cell to show the HTML representation or trust the notebook. <br />On GitHub, the HTML representation is unable to render, please try loading this page with nbviewer.org.</b></div><div class=\"sk-container\" hidden><div class=\"sk-item sk-dashed-wrapped\"><div class=\"sk-label-container\"><div class=\"sk-label sk-toggleable\"><input class=\"sk-toggleable__control sk-hidden--visually\" id=\"sk-estimator-id-6\" type=\"checkbox\" ><label for=\"sk-estimator-id-6\" class=\"sk-toggleable__label sk-toggleable__label-arrow\">RandomizedSearchCV</label><div class=\"sk-toggleable__content\"><pre>RandomizedSearchCV(estimator=RandomForestClassifier(), n_iter=15, n_jobs=-1,\n",
       "                   param_distributions={&#x27;min_samples_leaf&#x27;: [1, 2, 4],\n",
       "                                        &#x27;min_samples_split&#x27;: [2, 5, 10],\n",
       "                                        &#x27;n_estimators&#x27;: [100, 200, 300, 400,\n",
       "                                                         500]},\n",
       "                   scoring=&#x27;roc_auc&#x27;)</pre></div></div></div><div class=\"sk-parallel\"><div class=\"sk-parallel-item\"><div class=\"sk-item\"><div class=\"sk-label-container\"><div class=\"sk-label sk-toggleable\"><input class=\"sk-toggleable__control sk-hidden--visually\" id=\"sk-estimator-id-7\" type=\"checkbox\" ><label for=\"sk-estimator-id-7\" class=\"sk-toggleable__label sk-toggleable__label-arrow\">estimator: RandomForestClassifier</label><div class=\"sk-toggleable__content\"><pre>RandomForestClassifier()</pre></div></div></div><div class=\"sk-serial\"><div class=\"sk-item\"><div class=\"sk-estimator sk-toggleable\"><input class=\"sk-toggleable__control sk-hidden--visually\" id=\"sk-estimator-id-8\" type=\"checkbox\" ><label for=\"sk-estimator-id-8\" class=\"sk-toggleable__label sk-toggleable__label-arrow\">RandomForestClassifier</label><div class=\"sk-toggleable__content\"><pre>RandomForestClassifier()</pre></div></div></div></div></div></div></div></div></div></div>"
      ],
      "text/plain": [
       "RandomizedSearchCV(estimator=RandomForestClassifier(), n_iter=15, n_jobs=-1,\n",
       "                   param_distributions={'min_samples_leaf': [1, 2, 4],\n",
       "                                        'min_samples_split': [2, 5, 10],\n",
       "                                        'n_estimators': [100, 200, 300, 400,\n",
       "                                                         500]},\n",
       "                   scoring='roc_auc')"
      ]
     },
     "execution_count": 77,
     "metadata": {},
     "output_type": "execute_result"
    }
   ],
   "source": [
    "modelo_v2.fit(X_treino, y_treino)"
   ]
  },
  {
   "cell_type": "code",
   "execution_count": 78,
   "id": "7c7b4a8e",
   "metadata": {},
   "outputs": [
    {
     "data": {
      "text/html": [
       "<style>#sk-container-id-5 {color: black;background-color: white;}#sk-container-id-5 pre{padding: 0;}#sk-container-id-5 div.sk-toggleable {background-color: white;}#sk-container-id-5 label.sk-toggleable__label {cursor: pointer;display: block;width: 100%;margin-bottom: 0;padding: 0.3em;box-sizing: border-box;text-align: center;}#sk-container-id-5 label.sk-toggleable__label-arrow:before {content: \"▸\";float: left;margin-right: 0.25em;color: #696969;}#sk-container-id-5 label.sk-toggleable__label-arrow:hover:before {color: black;}#sk-container-id-5 div.sk-estimator:hover label.sk-toggleable__label-arrow:before {color: black;}#sk-container-id-5 div.sk-toggleable__content {max-height: 0;max-width: 0;overflow: hidden;text-align: left;background-color: #f0f8ff;}#sk-container-id-5 div.sk-toggleable__content pre {margin: 0.2em;color: black;border-radius: 0.25em;background-color: #f0f8ff;}#sk-container-id-5 input.sk-toggleable__control:checked~div.sk-toggleable__content {max-height: 200px;max-width: 100%;overflow: auto;}#sk-container-id-5 input.sk-toggleable__control:checked~label.sk-toggleable__label-arrow:before {content: \"▾\";}#sk-container-id-5 div.sk-estimator input.sk-toggleable__control:checked~label.sk-toggleable__label {background-color: #d4ebff;}#sk-container-id-5 div.sk-label input.sk-toggleable__control:checked~label.sk-toggleable__label {background-color: #d4ebff;}#sk-container-id-5 input.sk-hidden--visually {border: 0;clip: rect(1px 1px 1px 1px);clip: rect(1px, 1px, 1px, 1px);height: 1px;margin: -1px;overflow: hidden;padding: 0;position: absolute;width: 1px;}#sk-container-id-5 div.sk-estimator {font-family: monospace;background-color: #f0f8ff;border: 1px dotted black;border-radius: 0.25em;box-sizing: border-box;margin-bottom: 0.5em;}#sk-container-id-5 div.sk-estimator:hover {background-color: #d4ebff;}#sk-container-id-5 div.sk-parallel-item::after {content: \"\";width: 100%;border-bottom: 1px solid gray;flex-grow: 1;}#sk-container-id-5 div.sk-label:hover label.sk-toggleable__label {background-color: #d4ebff;}#sk-container-id-5 div.sk-serial::before {content: \"\";position: absolute;border-left: 1px solid gray;box-sizing: border-box;top: 0;bottom: 0;left: 50%;z-index: 0;}#sk-container-id-5 div.sk-serial {display: flex;flex-direction: column;align-items: center;background-color: white;padding-right: 0.2em;padding-left: 0.2em;position: relative;}#sk-container-id-5 div.sk-item {position: relative;z-index: 1;}#sk-container-id-5 div.sk-parallel {display: flex;align-items: stretch;justify-content: center;background-color: white;position: relative;}#sk-container-id-5 div.sk-item::before, #sk-container-id-5 div.sk-parallel-item::before {content: \"\";position: absolute;border-left: 1px solid gray;box-sizing: border-box;top: 0;bottom: 0;left: 50%;z-index: -1;}#sk-container-id-5 div.sk-parallel-item {display: flex;flex-direction: column;z-index: 1;position: relative;background-color: white;}#sk-container-id-5 div.sk-parallel-item:first-child::after {align-self: flex-end;width: 50%;}#sk-container-id-5 div.sk-parallel-item:last-child::after {align-self: flex-start;width: 50%;}#sk-container-id-5 div.sk-parallel-item:only-child::after {width: 0;}#sk-container-id-5 div.sk-dashed-wrapped {border: 1px dashed gray;margin: 0 0.4em 0.5em 0.4em;box-sizing: border-box;padding-bottom: 0.4em;background-color: white;}#sk-container-id-5 div.sk-label label {font-family: monospace;font-weight: bold;display: inline-block;line-height: 1.2em;}#sk-container-id-5 div.sk-label-container {text-align: center;}#sk-container-id-5 div.sk-container {/* jupyter's `normalize.less` sets `[hidden] { display: none; }` but bootstrap.min.css set `[hidden] { display: none !important; }` so we also need the `!important` here to be able to override the default hidden behavior on the sphinx rendered scikit-learn.org. See: https://github.com/scikit-learn/scikit-learn/issues/21755 */display: inline-block !important;position: relative;}#sk-container-id-5 div.sk-text-repr-fallback {display: none;}</style><div id=\"sk-container-id-5\" class=\"sk-top-container\"><div class=\"sk-text-repr-fallback\"><pre>RandomForestClassifier(n_estimators=300)</pre><b>In a Jupyter environment, please rerun this cell to show the HTML representation or trust the notebook. <br />On GitHub, the HTML representation is unable to render, please try loading this page with nbviewer.org.</b></div><div class=\"sk-container\" hidden><div class=\"sk-item\"><div class=\"sk-estimator sk-toggleable\"><input class=\"sk-toggleable__control sk-hidden--visually\" id=\"sk-estimator-id-9\" type=\"checkbox\" checked><label for=\"sk-estimator-id-9\" class=\"sk-toggleable__label sk-toggleable__label-arrow\">RandomForestClassifier</label><div class=\"sk-toggleable__content\"><pre>RandomForestClassifier(n_estimators=300)</pre></div></div></div></div></div>"
      ],
      "text/plain": [
       "RandomForestClassifier(n_estimators=300)"
      ]
     },
     "execution_count": 78,
     "metadata": {},
     "output_type": "execute_result"
    }
   ],
   "source": [
    "modelo_v2.best_estimator_"
   ]
  },
  {
   "cell_type": "code",
   "execution_count": 79,
   "id": "ba036ef4",
   "metadata": {},
   "outputs": [],
   "source": [
    "y_pred_v2 = modelo_v2.predict(X_teste)"
   ]
  },
  {
   "cell_type": "code",
   "execution_count": 80,
   "id": "5d126b58",
   "metadata": {},
   "outputs": [],
   "source": [
    "y_pred_proba_v2 = modelo_v2.predict_proba(X_teste)[:,1]"
   ]
  },
  {
   "cell_type": "code",
   "execution_count": 81,
   "id": "640376ac",
   "metadata": {},
   "outputs": [
    {
     "data": {
      "text/plain": [
       "array([[44,  2],\n",
       "       [ 5, 74]], dtype=int64)"
      ]
     },
     "execution_count": 81,
     "metadata": {},
     "output_type": "execute_result"
    }
   ],
   "source": [
    "confusion_matrix(y_teste, y_pred_v2)"
   ]
  },
  {
   "cell_type": "code",
   "execution_count": 82,
   "id": "5bd9abbb",
   "metadata": {},
   "outputs": [
    {
     "name": "stdout",
     "output_type": "stream",
     "text": [
      "0.9466152999449643\n"
     ]
    }
   ],
   "source": [
    "roc_auc_v2 = roc_auc_score(y_teste, y_pred_v2)\n",
    "print(roc_auc_v2)"
   ]
  },
  {
   "cell_type": "code",
   "execution_count": 83,
   "id": "501c1483",
   "metadata": {},
   "outputs": [],
   "source": [
    "fpr_v2, tpr_v2, thresholds = roc_curve(y_teste, y_pred_proba_v2)"
   ]
  },
  {
   "cell_type": "code",
   "execution_count": 84,
   "id": "fa5a0625",
   "metadata": {},
   "outputs": [
    {
     "name": "stdout",
     "output_type": "stream",
     "text": [
      "0.9939460649422124\n"
     ]
    }
   ],
   "source": [
    "auc_v2 = auc(fpr_v2, tpr_v2)\n",
    "print(auc_v2)"
   ]
  },
  {
   "cell_type": "code",
   "execution_count": 85,
   "id": "359335b6",
   "metadata": {},
   "outputs": [
    {
     "name": "stdout",
     "output_type": "stream",
     "text": [
      "0.944\n"
     ]
    }
   ],
   "source": [
    "acuracia_v2 = accuracy_score(y_teste, y_pred_v2)\n",
    "print(acuracia_v2)"
   ]
  },
  {
   "cell_type": "markdown",
   "id": "6f9c8917",
   "metadata": {},
   "source": [
    "### Feature Importance"
   ]
  },
  {
   "cell_type": "code",
   "execution_count": 86,
   "id": "c2e04be1",
   "metadata": {},
   "outputs": [
    {
     "data": {
      "text/html": [
       "<style>#sk-container-id-6 {color: black;background-color: white;}#sk-container-id-6 pre{padding: 0;}#sk-container-id-6 div.sk-toggleable {background-color: white;}#sk-container-id-6 label.sk-toggleable__label {cursor: pointer;display: block;width: 100%;margin-bottom: 0;padding: 0.3em;box-sizing: border-box;text-align: center;}#sk-container-id-6 label.sk-toggleable__label-arrow:before {content: \"▸\";float: left;margin-right: 0.25em;color: #696969;}#sk-container-id-6 label.sk-toggleable__label-arrow:hover:before {color: black;}#sk-container-id-6 div.sk-estimator:hover label.sk-toggleable__label-arrow:before {color: black;}#sk-container-id-6 div.sk-toggleable__content {max-height: 0;max-width: 0;overflow: hidden;text-align: left;background-color: #f0f8ff;}#sk-container-id-6 div.sk-toggleable__content pre {margin: 0.2em;color: black;border-radius: 0.25em;background-color: #f0f8ff;}#sk-container-id-6 input.sk-toggleable__control:checked~div.sk-toggleable__content {max-height: 200px;max-width: 100%;overflow: auto;}#sk-container-id-6 input.sk-toggleable__control:checked~label.sk-toggleable__label-arrow:before {content: \"▾\";}#sk-container-id-6 div.sk-estimator input.sk-toggleable__control:checked~label.sk-toggleable__label {background-color: #d4ebff;}#sk-container-id-6 div.sk-label input.sk-toggleable__control:checked~label.sk-toggleable__label {background-color: #d4ebff;}#sk-container-id-6 input.sk-hidden--visually {border: 0;clip: rect(1px 1px 1px 1px);clip: rect(1px, 1px, 1px, 1px);height: 1px;margin: -1px;overflow: hidden;padding: 0;position: absolute;width: 1px;}#sk-container-id-6 div.sk-estimator {font-family: monospace;background-color: #f0f8ff;border: 1px dotted black;border-radius: 0.25em;box-sizing: border-box;margin-bottom: 0.5em;}#sk-container-id-6 div.sk-estimator:hover {background-color: #d4ebff;}#sk-container-id-6 div.sk-parallel-item::after {content: \"\";width: 100%;border-bottom: 1px solid gray;flex-grow: 1;}#sk-container-id-6 div.sk-label:hover label.sk-toggleable__label {background-color: #d4ebff;}#sk-container-id-6 div.sk-serial::before {content: \"\";position: absolute;border-left: 1px solid gray;box-sizing: border-box;top: 0;bottom: 0;left: 50%;z-index: 0;}#sk-container-id-6 div.sk-serial {display: flex;flex-direction: column;align-items: center;background-color: white;padding-right: 0.2em;padding-left: 0.2em;position: relative;}#sk-container-id-6 div.sk-item {position: relative;z-index: 1;}#sk-container-id-6 div.sk-parallel {display: flex;align-items: stretch;justify-content: center;background-color: white;position: relative;}#sk-container-id-6 div.sk-item::before, #sk-container-id-6 div.sk-parallel-item::before {content: \"\";position: absolute;border-left: 1px solid gray;box-sizing: border-box;top: 0;bottom: 0;left: 50%;z-index: -1;}#sk-container-id-6 div.sk-parallel-item {display: flex;flex-direction: column;z-index: 1;position: relative;background-color: white;}#sk-container-id-6 div.sk-parallel-item:first-child::after {align-self: flex-end;width: 50%;}#sk-container-id-6 div.sk-parallel-item:last-child::after {align-self: flex-start;width: 50%;}#sk-container-id-6 div.sk-parallel-item:only-child::after {width: 0;}#sk-container-id-6 div.sk-dashed-wrapped {border: 1px dashed gray;margin: 0 0.4em 0.5em 0.4em;box-sizing: border-box;padding-bottom: 0.4em;background-color: white;}#sk-container-id-6 div.sk-label label {font-family: monospace;font-weight: bold;display: inline-block;line-height: 1.2em;}#sk-container-id-6 div.sk-label-container {text-align: center;}#sk-container-id-6 div.sk-container {/* jupyter's `normalize.less` sets `[hidden] { display: none; }` but bootstrap.min.css set `[hidden] { display: none !important; }` so we also need the `!important` here to be able to override the default hidden behavior on the sphinx rendered scikit-learn.org. See: https://github.com/scikit-learn/scikit-learn/issues/21755 */display: inline-block !important;position: relative;}#sk-container-id-6 div.sk-text-repr-fallback {display: none;}</style><div id=\"sk-container-id-6\" class=\"sk-top-container\"><div class=\"sk-text-repr-fallback\"><pre>RandomForestClassifier(min_samples_leaf=4, min_samples_split=5,\n",
       "                       n_estimators=200)</pre><b>In a Jupyter environment, please rerun this cell to show the HTML representation or trust the notebook. <br />On GitHub, the HTML representation is unable to render, please try loading this page with nbviewer.org.</b></div><div class=\"sk-container\" hidden><div class=\"sk-item\"><div class=\"sk-estimator sk-toggleable\"><input class=\"sk-toggleable__control sk-hidden--visually\" id=\"sk-estimator-id-10\" type=\"checkbox\" checked><label for=\"sk-estimator-id-10\" class=\"sk-toggleable__label sk-toggleable__label-arrow\">RandomForestClassifier</label><div class=\"sk-toggleable__content\"><pre>RandomForestClassifier(min_samples_leaf=4, min_samples_split=5,\n",
       "                       n_estimators=200)</pre></div></div></div></div></div>"
      ],
      "text/plain": [
       "RandomForestClassifier(min_samples_leaf=4, min_samples_split=5,\n",
       "                       n_estimators=200)"
      ]
     },
     "execution_count": 86,
     "metadata": {},
     "output_type": "execute_result"
    }
   ],
   "source": [
    "modelo_v2 = RandomForestClassifier(n_estimators = 200, min_samples_split = 5, min_samples_leaf = 4)\n",
    "modelo_v2.fit(X_treino, y_treino)"
   ]
  },
  {
   "cell_type": "code",
   "execution_count": 87,
   "id": "27ffcf77",
   "metadata": {},
   "outputs": [
    {
     "name": "stdout",
     "output_type": "stream",
     "text": [
      "Most important variables for the v2_model result:\n",
      "--------------------------------------------------\n",
      "poliúria\n",
      "polidipsia\n",
      "genero\n",
      "idade\n",
      "Perda_peso_repentina\n",
      "partial_paresis\n",
      "calvicie\n",
      "irritabilidade\n",
      "polifagia\n",
      "coceira\n",
      "cura_atrasada\n",
      "desfoque_visual\n",
      "rigidez_muscular\n",
      "fraqueza\n",
      "obesidade\n",
      "candidiase_genital\n"
     ]
    }
   ],
   "source": [
    "indices = np.argsort(-modelo_v2.feature_importances_)\n",
    "print(\"Most important variables for the v2_model result:\")\n",
    "print(50*'-')\n",
    "for feature in X.columns[indices]:\n",
    "    print(feature)"
   ]
  },
  {
   "cell_type": "code",
   "execution_count": 88,
   "id": "141db186",
   "metadata": {},
   "outputs": [],
   "source": [
    "with open('modelos/modelo_v2.pkl', 'wb') as pickle_file:\n",
    "      joblib.dump(modelo_v2, 'modelos/modelo_v2.pkl') "
   ]
  },
  {
   "cell_type": "code",
   "execution_count": 89,
   "id": "9fee2a22",
   "metadata": {},
   "outputs": [],
   "source": [
    "dict_modelo_v2 = {'Nome': 'modelo_v2', \n",
    "                  'Algoritmo': 'Random Forest', \n",
    "                  'ROC_AUC Score': roc_auc_v2,\n",
    "                  'AUC Score': auc_v2,\n",
    "                  'Acurácia': acuracia_v2}"
   ]
  },
  {
   "cell_type": "code",
   "execution_count": 90,
   "id": "e1653e84",
   "metadata": {},
   "outputs": [],
   "source": [
    "df_modelos = df_modelos.append(dict_modelo_v2, ignore_index = True)"
   ]
  },
  {
   "cell_type": "code",
   "execution_count": 91,
   "id": "b0b34ce6",
   "metadata": {},
   "outputs": [
    {
     "data": {
      "text/html": [
       "<div>\n",
       "<style scoped>\n",
       "    .dataframe tbody tr th:only-of-type {\n",
       "        vertical-align: middle;\n",
       "    }\n",
       "\n",
       "    .dataframe tbody tr th {\n",
       "        vertical-align: top;\n",
       "    }\n",
       "\n",
       "    .dataframe thead th {\n",
       "        text-align: right;\n",
       "    }\n",
       "</style>\n",
       "<table border=\"1\" class=\"dataframe\">\n",
       "  <thead>\n",
       "    <tr style=\"text-align: right;\">\n",
       "      <th></th>\n",
       "      <th>Nome</th>\n",
       "      <th>Algoritmo</th>\n",
       "      <th>ROC_AUC Score</th>\n",
       "      <th>AUC Score</th>\n",
       "      <th>Acurácia</th>\n",
       "    </tr>\n",
       "  </thead>\n",
       "  <tbody>\n",
       "    <tr>\n",
       "      <th>0</th>\n",
       "      <td>modelo_v1</td>\n",
       "      <td>Regressão Logística</td>\n",
       "      <td>0.938498</td>\n",
       "      <td>0.951844</td>\n",
       "      <td>0.928</td>\n",
       "    </tr>\n",
       "    <tr>\n",
       "      <th>1</th>\n",
       "      <td>modelo_v2</td>\n",
       "      <td>Random Forest</td>\n",
       "      <td>0.946615</td>\n",
       "      <td>0.993946</td>\n",
       "      <td>0.944</td>\n",
       "    </tr>\n",
       "  </tbody>\n",
       "</table>\n",
       "</div>"
      ],
      "text/plain": [
       "        Nome            Algoritmo  ROC_AUC Score  AUC Score  Acurácia\n",
       "0  modelo_v1  Regressão Logística       0.938498   0.951844     0.928\n",
       "1  modelo_v2        Random Forest       0.946615   0.993946     0.944"
      ]
     },
     "metadata": {},
     "output_type": "display_data"
    }
   ],
   "source": [
    "display(df_modelos)"
   ]
  },
  {
   "cell_type": "markdown",
   "id": "7152e59f",
   "metadata": {},
   "source": [
    "### <font color='blue'> Construction, Training and Evaluation of Model 3 with KNN </font>"
   ]
  },
  {
   "cell_type": "markdown",
   "id": "923688bb",
   "metadata": {},
   "source": [
    "Now I'm going to try a simpler algorithm, KNN. For this algorithm, I first need to define the value of K, which is the number of nearest neighbors."
   ]
  },
  {
   "cell_type": "code",
   "execution_count": 92,
   "id": "7c2b7d12",
   "metadata": {},
   "outputs": [],
   "source": [
    "vizinhos = list(range(1, 20, 2))"
   ]
  },
  {
   "cell_type": "code",
   "execution_count": 93,
   "id": "bc409d81",
   "metadata": {},
   "outputs": [],
   "source": [
    "cv_scores = []"
   ]
  },
  {
   "cell_type": "code",
   "execution_count": 94,
   "id": "d40cf68e",
   "metadata": {},
   "outputs": [],
   "source": [
    "for k in vizinhos:\n",
    "    knn = KNeighborsClassifier(n_neighbors = k)\n",
    "    scores = cross_val_score(knn, X_treino, y_treino, cv = 5, scoring = 'accuracy')\n",
    "    cv_scores.append(scores.mean())  "
   ]
  },
  {
   "cell_type": "code",
   "execution_count": 95,
   "id": "fcfa5565",
   "metadata": {},
   "outputs": [],
   "source": [
    "erro = [1 - x for x in cv_scores]"
   ]
  },
  {
   "cell_type": "code",
   "execution_count": 96,
   "id": "c75d8cc9",
   "metadata": {},
   "outputs": [
    {
     "name": "stdout",
     "output_type": "stream",
     "text": [
      "The optimal value of k is 1\n"
     ]
    }
   ],
   "source": [
    "optimal_k = vizinhos[erro.index(min(erro))]\n",
    "print('The optimal value of k is %d' % optimal_k)"
   ]
  },
  {
   "cell_type": "code",
   "execution_count": 97,
   "id": "c3bd6755",
   "metadata": {},
   "outputs": [],
   "source": [
    "modelo_v3 = KNeighborsClassifier(n_neighbors = optimal_k)"
   ]
  },
  {
   "cell_type": "code",
   "execution_count": 98,
   "id": "d7c1922d",
   "metadata": {},
   "outputs": [
    {
     "data": {
      "text/html": [
       "<style>#sk-container-id-7 {color: black;background-color: white;}#sk-container-id-7 pre{padding: 0;}#sk-container-id-7 div.sk-toggleable {background-color: white;}#sk-container-id-7 label.sk-toggleable__label {cursor: pointer;display: block;width: 100%;margin-bottom: 0;padding: 0.3em;box-sizing: border-box;text-align: center;}#sk-container-id-7 label.sk-toggleable__label-arrow:before {content: \"▸\";float: left;margin-right: 0.25em;color: #696969;}#sk-container-id-7 label.sk-toggleable__label-arrow:hover:before {color: black;}#sk-container-id-7 div.sk-estimator:hover label.sk-toggleable__label-arrow:before {color: black;}#sk-container-id-7 div.sk-toggleable__content {max-height: 0;max-width: 0;overflow: hidden;text-align: left;background-color: #f0f8ff;}#sk-container-id-7 div.sk-toggleable__content pre {margin: 0.2em;color: black;border-radius: 0.25em;background-color: #f0f8ff;}#sk-container-id-7 input.sk-toggleable__control:checked~div.sk-toggleable__content {max-height: 200px;max-width: 100%;overflow: auto;}#sk-container-id-7 input.sk-toggleable__control:checked~label.sk-toggleable__label-arrow:before {content: \"▾\";}#sk-container-id-7 div.sk-estimator input.sk-toggleable__control:checked~label.sk-toggleable__label {background-color: #d4ebff;}#sk-container-id-7 div.sk-label input.sk-toggleable__control:checked~label.sk-toggleable__label {background-color: #d4ebff;}#sk-container-id-7 input.sk-hidden--visually {border: 0;clip: rect(1px 1px 1px 1px);clip: rect(1px, 1px, 1px, 1px);height: 1px;margin: -1px;overflow: hidden;padding: 0;position: absolute;width: 1px;}#sk-container-id-7 div.sk-estimator {font-family: monospace;background-color: #f0f8ff;border: 1px dotted black;border-radius: 0.25em;box-sizing: border-box;margin-bottom: 0.5em;}#sk-container-id-7 div.sk-estimator:hover {background-color: #d4ebff;}#sk-container-id-7 div.sk-parallel-item::after {content: \"\";width: 100%;border-bottom: 1px solid gray;flex-grow: 1;}#sk-container-id-7 div.sk-label:hover label.sk-toggleable__label {background-color: #d4ebff;}#sk-container-id-7 div.sk-serial::before {content: \"\";position: absolute;border-left: 1px solid gray;box-sizing: border-box;top: 0;bottom: 0;left: 50%;z-index: 0;}#sk-container-id-7 div.sk-serial {display: flex;flex-direction: column;align-items: center;background-color: white;padding-right: 0.2em;padding-left: 0.2em;position: relative;}#sk-container-id-7 div.sk-item {position: relative;z-index: 1;}#sk-container-id-7 div.sk-parallel {display: flex;align-items: stretch;justify-content: center;background-color: white;position: relative;}#sk-container-id-7 div.sk-item::before, #sk-container-id-7 div.sk-parallel-item::before {content: \"\";position: absolute;border-left: 1px solid gray;box-sizing: border-box;top: 0;bottom: 0;left: 50%;z-index: -1;}#sk-container-id-7 div.sk-parallel-item {display: flex;flex-direction: column;z-index: 1;position: relative;background-color: white;}#sk-container-id-7 div.sk-parallel-item:first-child::after {align-self: flex-end;width: 50%;}#sk-container-id-7 div.sk-parallel-item:last-child::after {align-self: flex-start;width: 50%;}#sk-container-id-7 div.sk-parallel-item:only-child::after {width: 0;}#sk-container-id-7 div.sk-dashed-wrapped {border: 1px dashed gray;margin: 0 0.4em 0.5em 0.4em;box-sizing: border-box;padding-bottom: 0.4em;background-color: white;}#sk-container-id-7 div.sk-label label {font-family: monospace;font-weight: bold;display: inline-block;line-height: 1.2em;}#sk-container-id-7 div.sk-label-container {text-align: center;}#sk-container-id-7 div.sk-container {/* jupyter's `normalize.less` sets `[hidden] { display: none; }` but bootstrap.min.css set `[hidden] { display: none !important; }` so we also need the `!important` here to be able to override the default hidden behavior on the sphinx rendered scikit-learn.org. See: https://github.com/scikit-learn/scikit-learn/issues/21755 */display: inline-block !important;position: relative;}#sk-container-id-7 div.sk-text-repr-fallback {display: none;}</style><div id=\"sk-container-id-7\" class=\"sk-top-container\"><div class=\"sk-text-repr-fallback\"><pre>KNeighborsClassifier(n_neighbors=1)</pre><b>In a Jupyter environment, please rerun this cell to show the HTML representation or trust the notebook. <br />On GitHub, the HTML representation is unable to render, please try loading this page with nbviewer.org.</b></div><div class=\"sk-container\" hidden><div class=\"sk-item\"><div class=\"sk-estimator sk-toggleable\"><input class=\"sk-toggleable__control sk-hidden--visually\" id=\"sk-estimator-id-11\" type=\"checkbox\" checked><label for=\"sk-estimator-id-11\" class=\"sk-toggleable__label sk-toggleable__label-arrow\">KNeighborsClassifier</label><div class=\"sk-toggleable__content\"><pre>KNeighborsClassifier(n_neighbors=1)</pre></div></div></div></div></div>"
      ],
      "text/plain": [
       "KNeighborsClassifier(n_neighbors=1)"
      ]
     },
     "execution_count": 98,
     "metadata": {},
     "output_type": "execute_result"
    }
   ],
   "source": [
    "modelo_v3.fit(X_treino, y_treino)"
   ]
  },
  {
   "cell_type": "code",
   "execution_count": 99,
   "id": "bc44e066",
   "metadata": {},
   "outputs": [],
   "source": [
    "y_pred_v3 = modelo_v3.predict(X_teste)"
   ]
  },
  {
   "cell_type": "code",
   "execution_count": 100,
   "id": "35938cb2",
   "metadata": {},
   "outputs": [
    {
     "data": {
      "text/plain": [
       "array([[45,  1],\n",
       "       [ 7, 72]], dtype=int64)"
      ]
     },
     "execution_count": 100,
     "metadata": {},
     "output_type": "execute_result"
    }
   ],
   "source": [
    "confusion_matrix(y_teste, y_pred_v3)"
   ]
  },
  {
   "cell_type": "code",
   "execution_count": 101,
   "id": "92bf6b4f",
   "metadata": {},
   "outputs": [],
   "source": [
    "y_pred_proba_v3 = modelo_v3.predict_proba(X_teste)[:,1]"
   ]
  },
  {
   "cell_type": "code",
   "execution_count": 102,
   "id": "816d6854",
   "metadata": {},
   "outputs": [
    {
     "name": "stdout",
     "output_type": "stream",
     "text": [
      "0.9448266373142542\n"
     ]
    }
   ],
   "source": [
    "roc_auc_v3 = roc_auc_score(y_teste, y_pred_v3)\n",
    "print(roc_auc_v3)"
   ]
  },
  {
   "cell_type": "code",
   "execution_count": 103,
   "id": "548ffc6a",
   "metadata": {},
   "outputs": [],
   "source": [
    "fpr_v3, tpr_v3, thresholds = roc_curve(y_teste, y_pred_proba_v3)"
   ]
  },
  {
   "cell_type": "code",
   "execution_count": 104,
   "id": "23ea463d",
   "metadata": {},
   "outputs": [
    {
     "name": "stdout",
     "output_type": "stream",
     "text": [
      "0.9448266373142542\n"
     ]
    }
   ],
   "source": [
    "auc_v3 = auc(fpr_v3, tpr_v3)\n",
    "print(auc_v3)"
   ]
  },
  {
   "cell_type": "code",
   "execution_count": 105,
   "id": "78c88784",
   "metadata": {},
   "outputs": [
    {
     "name": "stdout",
     "output_type": "stream",
     "text": [
      "0.936\n"
     ]
    }
   ],
   "source": [
    "acuracia_v3 = accuracy_score(y_teste, y_pred_v3)\n",
    "print(acuracia_v3)"
   ]
  },
  {
   "cell_type": "markdown",
   "id": "e2ae7305",
   "metadata": {},
   "source": [
    "Note: With the KNN algorithm we did not extract the most important variables, because the concept of the algorithm is different."
   ]
  },
  {
   "cell_type": "code",
   "execution_count": 106,
   "id": "1a24d3d5",
   "metadata": {},
   "outputs": [],
   "source": [
    "with open('modelos/modelo_v3.pkl', 'wb') as pickle_file:\n",
    "      joblib.dump(modelo_v3, 'modelos/modelo_v3.pkl') "
   ]
  },
  {
   "cell_type": "code",
   "execution_count": 107,
   "id": "f4da35d0",
   "metadata": {},
   "outputs": [],
   "source": [
    "dict_modelo_v3 = {'Nome': 'modelo_v3', \n",
    "                  'Algoritmo': 'KNN', \n",
    "                  'ROC_AUC Score': roc_auc_v3,\n",
    "                  'AUC Score': auc_v3,\n",
    "                  'Acurácia': acuracia_v3}"
   ]
  },
  {
   "cell_type": "code",
   "execution_count": 108,
   "id": "3e8faf11",
   "metadata": {},
   "outputs": [],
   "source": [
    "df_modelos = df_modelos.append(dict_modelo_v3, ignore_index = True)"
   ]
  },
  {
   "cell_type": "code",
   "execution_count": 109,
   "id": "c506c03e",
   "metadata": {},
   "outputs": [
    {
     "data": {
      "text/html": [
       "<div>\n",
       "<style scoped>\n",
       "    .dataframe tbody tr th:only-of-type {\n",
       "        vertical-align: middle;\n",
       "    }\n",
       "\n",
       "    .dataframe tbody tr th {\n",
       "        vertical-align: top;\n",
       "    }\n",
       "\n",
       "    .dataframe thead th {\n",
       "        text-align: right;\n",
       "    }\n",
       "</style>\n",
       "<table border=\"1\" class=\"dataframe\">\n",
       "  <thead>\n",
       "    <tr style=\"text-align: right;\">\n",
       "      <th></th>\n",
       "      <th>Nome</th>\n",
       "      <th>Algoritmo</th>\n",
       "      <th>ROC_AUC Score</th>\n",
       "      <th>AUC Score</th>\n",
       "      <th>Acurácia</th>\n",
       "    </tr>\n",
       "  </thead>\n",
       "  <tbody>\n",
       "    <tr>\n",
       "      <th>0</th>\n",
       "      <td>modelo_v1</td>\n",
       "      <td>Regressão Logística</td>\n",
       "      <td>0.938498</td>\n",
       "      <td>0.951844</td>\n",
       "      <td>0.928</td>\n",
       "    </tr>\n",
       "    <tr>\n",
       "      <th>1</th>\n",
       "      <td>modelo_v2</td>\n",
       "      <td>Random Forest</td>\n",
       "      <td>0.946615</td>\n",
       "      <td>0.993946</td>\n",
       "      <td>0.944</td>\n",
       "    </tr>\n",
       "    <tr>\n",
       "      <th>2</th>\n",
       "      <td>modelo_v3</td>\n",
       "      <td>KNN</td>\n",
       "      <td>0.944827</td>\n",
       "      <td>0.944827</td>\n",
       "      <td>0.936</td>\n",
       "    </tr>\n",
       "  </tbody>\n",
       "</table>\n",
       "</div>"
      ],
      "text/plain": [
       "        Nome            Algoritmo  ROC_AUC Score  AUC Score  Acurácia\n",
       "0  modelo_v1  Regressão Logística       0.938498   0.951844     0.928\n",
       "1  modelo_v2        Random Forest       0.946615   0.993946     0.944\n",
       "2  modelo_v3                  KNN       0.944827   0.944827     0.936"
      ]
     },
     "metadata": {},
     "output_type": "display_data"
    }
   ],
   "source": [
    "display(df_modelos)"
   ]
  },
  {
   "cell_type": "markdown",
   "id": "9db619b7",
   "metadata": {},
   "source": [
    "### <font color='blue'> Building, Training and Evaluating Model 4 with Decision Tree </font>"
   ]
  },
  {
   "cell_type": "markdown",
   "id": "cd0f6802",
   "metadata": {},
   "source": [
    "In version 4 of the model I will use a decision tree model."
   ]
  },
  {
   "cell_type": "code",
   "execution_count": 110,
   "id": "f68a7242",
   "metadata": {},
   "outputs": [],
   "source": [
    "tuned_params_v4 = {'min_samples_split': [2, 3, 4, 5, 7], \n",
    "                   'min_samples_leaf': [1, 2, 3, 4, 6], \n",
    "                   'max_depth': [2, 3, 4, 5, 6, 7]}"
   ]
  },
  {
   "cell_type": "code",
   "execution_count": 111,
   "id": "ebe98dac",
   "metadata": {},
   "outputs": [],
   "source": [
    "modelo_v4 = RandomizedSearchCV(DecisionTreeClassifier(), \n",
    "                               tuned_params_v4, \n",
    "                               n_iter = 15, \n",
    "                               scoring = 'roc_auc', \n",
    "                               n_jobs = -1)"
   ]
  },
  {
   "cell_type": "code",
   "execution_count": 112,
   "id": "5c38a87c",
   "metadata": {},
   "outputs": [
    {
     "data": {
      "text/html": [
       "<style>#sk-container-id-8 {color: black;background-color: white;}#sk-container-id-8 pre{padding: 0;}#sk-container-id-8 div.sk-toggleable {background-color: white;}#sk-container-id-8 label.sk-toggleable__label {cursor: pointer;display: block;width: 100%;margin-bottom: 0;padding: 0.3em;box-sizing: border-box;text-align: center;}#sk-container-id-8 label.sk-toggleable__label-arrow:before {content: \"▸\";float: left;margin-right: 0.25em;color: #696969;}#sk-container-id-8 label.sk-toggleable__label-arrow:hover:before {color: black;}#sk-container-id-8 div.sk-estimator:hover label.sk-toggleable__label-arrow:before {color: black;}#sk-container-id-8 div.sk-toggleable__content {max-height: 0;max-width: 0;overflow: hidden;text-align: left;background-color: #f0f8ff;}#sk-container-id-8 div.sk-toggleable__content pre {margin: 0.2em;color: black;border-radius: 0.25em;background-color: #f0f8ff;}#sk-container-id-8 input.sk-toggleable__control:checked~div.sk-toggleable__content {max-height: 200px;max-width: 100%;overflow: auto;}#sk-container-id-8 input.sk-toggleable__control:checked~label.sk-toggleable__label-arrow:before {content: \"▾\";}#sk-container-id-8 div.sk-estimator input.sk-toggleable__control:checked~label.sk-toggleable__label {background-color: #d4ebff;}#sk-container-id-8 div.sk-label input.sk-toggleable__control:checked~label.sk-toggleable__label {background-color: #d4ebff;}#sk-container-id-8 input.sk-hidden--visually {border: 0;clip: rect(1px 1px 1px 1px);clip: rect(1px, 1px, 1px, 1px);height: 1px;margin: -1px;overflow: hidden;padding: 0;position: absolute;width: 1px;}#sk-container-id-8 div.sk-estimator {font-family: monospace;background-color: #f0f8ff;border: 1px dotted black;border-radius: 0.25em;box-sizing: border-box;margin-bottom: 0.5em;}#sk-container-id-8 div.sk-estimator:hover {background-color: #d4ebff;}#sk-container-id-8 div.sk-parallel-item::after {content: \"\";width: 100%;border-bottom: 1px solid gray;flex-grow: 1;}#sk-container-id-8 div.sk-label:hover label.sk-toggleable__label {background-color: #d4ebff;}#sk-container-id-8 div.sk-serial::before {content: \"\";position: absolute;border-left: 1px solid gray;box-sizing: border-box;top: 0;bottom: 0;left: 50%;z-index: 0;}#sk-container-id-8 div.sk-serial {display: flex;flex-direction: column;align-items: center;background-color: white;padding-right: 0.2em;padding-left: 0.2em;position: relative;}#sk-container-id-8 div.sk-item {position: relative;z-index: 1;}#sk-container-id-8 div.sk-parallel {display: flex;align-items: stretch;justify-content: center;background-color: white;position: relative;}#sk-container-id-8 div.sk-item::before, #sk-container-id-8 div.sk-parallel-item::before {content: \"\";position: absolute;border-left: 1px solid gray;box-sizing: border-box;top: 0;bottom: 0;left: 50%;z-index: -1;}#sk-container-id-8 div.sk-parallel-item {display: flex;flex-direction: column;z-index: 1;position: relative;background-color: white;}#sk-container-id-8 div.sk-parallel-item:first-child::after {align-self: flex-end;width: 50%;}#sk-container-id-8 div.sk-parallel-item:last-child::after {align-self: flex-start;width: 50%;}#sk-container-id-8 div.sk-parallel-item:only-child::after {width: 0;}#sk-container-id-8 div.sk-dashed-wrapped {border: 1px dashed gray;margin: 0 0.4em 0.5em 0.4em;box-sizing: border-box;padding-bottom: 0.4em;background-color: white;}#sk-container-id-8 div.sk-label label {font-family: monospace;font-weight: bold;display: inline-block;line-height: 1.2em;}#sk-container-id-8 div.sk-label-container {text-align: center;}#sk-container-id-8 div.sk-container {/* jupyter's `normalize.less` sets `[hidden] { display: none; }` but bootstrap.min.css set `[hidden] { display: none !important; }` so we also need the `!important` here to be able to override the default hidden behavior on the sphinx rendered scikit-learn.org. See: https://github.com/scikit-learn/scikit-learn/issues/21755 */display: inline-block !important;position: relative;}#sk-container-id-8 div.sk-text-repr-fallback {display: none;}</style><div id=\"sk-container-id-8\" class=\"sk-top-container\"><div class=\"sk-text-repr-fallback\"><pre>RandomizedSearchCV(estimator=DecisionTreeClassifier(), n_iter=15, n_jobs=-1,\n",
       "                   param_distributions={&#x27;max_depth&#x27;: [2, 3, 4, 5, 6, 7],\n",
       "                                        &#x27;min_samples_leaf&#x27;: [1, 2, 3, 4, 6],\n",
       "                                        &#x27;min_samples_split&#x27;: [2, 3, 4, 5, 7]},\n",
       "                   scoring=&#x27;roc_auc&#x27;)</pre><b>In a Jupyter environment, please rerun this cell to show the HTML representation or trust the notebook. <br />On GitHub, the HTML representation is unable to render, please try loading this page with nbviewer.org.</b></div><div class=\"sk-container\" hidden><div class=\"sk-item sk-dashed-wrapped\"><div class=\"sk-label-container\"><div class=\"sk-label sk-toggleable\"><input class=\"sk-toggleable__control sk-hidden--visually\" id=\"sk-estimator-id-12\" type=\"checkbox\" ><label for=\"sk-estimator-id-12\" class=\"sk-toggleable__label sk-toggleable__label-arrow\">RandomizedSearchCV</label><div class=\"sk-toggleable__content\"><pre>RandomizedSearchCV(estimator=DecisionTreeClassifier(), n_iter=15, n_jobs=-1,\n",
       "                   param_distributions={&#x27;max_depth&#x27;: [2, 3, 4, 5, 6, 7],\n",
       "                                        &#x27;min_samples_leaf&#x27;: [1, 2, 3, 4, 6],\n",
       "                                        &#x27;min_samples_split&#x27;: [2, 3, 4, 5, 7]},\n",
       "                   scoring=&#x27;roc_auc&#x27;)</pre></div></div></div><div class=\"sk-parallel\"><div class=\"sk-parallel-item\"><div class=\"sk-item\"><div class=\"sk-label-container\"><div class=\"sk-label sk-toggleable\"><input class=\"sk-toggleable__control sk-hidden--visually\" id=\"sk-estimator-id-13\" type=\"checkbox\" ><label for=\"sk-estimator-id-13\" class=\"sk-toggleable__label sk-toggleable__label-arrow\">estimator: DecisionTreeClassifier</label><div class=\"sk-toggleable__content\"><pre>DecisionTreeClassifier()</pre></div></div></div><div class=\"sk-serial\"><div class=\"sk-item\"><div class=\"sk-estimator sk-toggleable\"><input class=\"sk-toggleable__control sk-hidden--visually\" id=\"sk-estimator-id-14\" type=\"checkbox\" ><label for=\"sk-estimator-id-14\" class=\"sk-toggleable__label sk-toggleable__label-arrow\">DecisionTreeClassifier</label><div class=\"sk-toggleable__content\"><pre>DecisionTreeClassifier()</pre></div></div></div></div></div></div></div></div></div></div>"
      ],
      "text/plain": [
       "RandomizedSearchCV(estimator=DecisionTreeClassifier(), n_iter=15, n_jobs=-1,\n",
       "                   param_distributions={'max_depth': [2, 3, 4, 5, 6, 7],\n",
       "                                        'min_samples_leaf': [1, 2, 3, 4, 6],\n",
       "                                        'min_samples_split': [2, 3, 4, 5, 7]},\n",
       "                   scoring='roc_auc')"
      ]
     },
     "execution_count": 112,
     "metadata": {},
     "output_type": "execute_result"
    }
   ],
   "source": [
    "modelo_v4.fit(X_treino, y_treino)"
   ]
  },
  {
   "cell_type": "code",
   "execution_count": 113,
   "id": "d7bb3c6b",
   "metadata": {},
   "outputs": [
    {
     "data": {
      "text/html": [
       "<style>#sk-container-id-9 {color: black;background-color: white;}#sk-container-id-9 pre{padding: 0;}#sk-container-id-9 div.sk-toggleable {background-color: white;}#sk-container-id-9 label.sk-toggleable__label {cursor: pointer;display: block;width: 100%;margin-bottom: 0;padding: 0.3em;box-sizing: border-box;text-align: center;}#sk-container-id-9 label.sk-toggleable__label-arrow:before {content: \"▸\";float: left;margin-right: 0.25em;color: #696969;}#sk-container-id-9 label.sk-toggleable__label-arrow:hover:before {color: black;}#sk-container-id-9 div.sk-estimator:hover label.sk-toggleable__label-arrow:before {color: black;}#sk-container-id-9 div.sk-toggleable__content {max-height: 0;max-width: 0;overflow: hidden;text-align: left;background-color: #f0f8ff;}#sk-container-id-9 div.sk-toggleable__content pre {margin: 0.2em;color: black;border-radius: 0.25em;background-color: #f0f8ff;}#sk-container-id-9 input.sk-toggleable__control:checked~div.sk-toggleable__content {max-height: 200px;max-width: 100%;overflow: auto;}#sk-container-id-9 input.sk-toggleable__control:checked~label.sk-toggleable__label-arrow:before {content: \"▾\";}#sk-container-id-9 div.sk-estimator input.sk-toggleable__control:checked~label.sk-toggleable__label {background-color: #d4ebff;}#sk-container-id-9 div.sk-label input.sk-toggleable__control:checked~label.sk-toggleable__label {background-color: #d4ebff;}#sk-container-id-9 input.sk-hidden--visually {border: 0;clip: rect(1px 1px 1px 1px);clip: rect(1px, 1px, 1px, 1px);height: 1px;margin: -1px;overflow: hidden;padding: 0;position: absolute;width: 1px;}#sk-container-id-9 div.sk-estimator {font-family: monospace;background-color: #f0f8ff;border: 1px dotted black;border-radius: 0.25em;box-sizing: border-box;margin-bottom: 0.5em;}#sk-container-id-9 div.sk-estimator:hover {background-color: #d4ebff;}#sk-container-id-9 div.sk-parallel-item::after {content: \"\";width: 100%;border-bottom: 1px solid gray;flex-grow: 1;}#sk-container-id-9 div.sk-label:hover label.sk-toggleable__label {background-color: #d4ebff;}#sk-container-id-9 div.sk-serial::before {content: \"\";position: absolute;border-left: 1px solid gray;box-sizing: border-box;top: 0;bottom: 0;left: 50%;z-index: 0;}#sk-container-id-9 div.sk-serial {display: flex;flex-direction: column;align-items: center;background-color: white;padding-right: 0.2em;padding-left: 0.2em;position: relative;}#sk-container-id-9 div.sk-item {position: relative;z-index: 1;}#sk-container-id-9 div.sk-parallel {display: flex;align-items: stretch;justify-content: center;background-color: white;position: relative;}#sk-container-id-9 div.sk-item::before, #sk-container-id-9 div.sk-parallel-item::before {content: \"\";position: absolute;border-left: 1px solid gray;box-sizing: border-box;top: 0;bottom: 0;left: 50%;z-index: -1;}#sk-container-id-9 div.sk-parallel-item {display: flex;flex-direction: column;z-index: 1;position: relative;background-color: white;}#sk-container-id-9 div.sk-parallel-item:first-child::after {align-self: flex-end;width: 50%;}#sk-container-id-9 div.sk-parallel-item:last-child::after {align-self: flex-start;width: 50%;}#sk-container-id-9 div.sk-parallel-item:only-child::after {width: 0;}#sk-container-id-9 div.sk-dashed-wrapped {border: 1px dashed gray;margin: 0 0.4em 0.5em 0.4em;box-sizing: border-box;padding-bottom: 0.4em;background-color: white;}#sk-container-id-9 div.sk-label label {font-family: monospace;font-weight: bold;display: inline-block;line-height: 1.2em;}#sk-container-id-9 div.sk-label-container {text-align: center;}#sk-container-id-9 div.sk-container {/* jupyter's `normalize.less` sets `[hidden] { display: none; }` but bootstrap.min.css set `[hidden] { display: none !important; }` so we also need the `!important` here to be able to override the default hidden behavior on the sphinx rendered scikit-learn.org. See: https://github.com/scikit-learn/scikit-learn/issues/21755 */display: inline-block !important;position: relative;}#sk-container-id-9 div.sk-text-repr-fallback {display: none;}</style><div id=\"sk-container-id-9\" class=\"sk-top-container\"><div class=\"sk-text-repr-fallback\"><pre>DecisionTreeClassifier(max_depth=6, min_samples_leaf=3, min_samples_split=3)</pre><b>In a Jupyter environment, please rerun this cell to show the HTML representation or trust the notebook. <br />On GitHub, the HTML representation is unable to render, please try loading this page with nbviewer.org.</b></div><div class=\"sk-container\" hidden><div class=\"sk-item\"><div class=\"sk-estimator sk-toggleable\"><input class=\"sk-toggleable__control sk-hidden--visually\" id=\"sk-estimator-id-15\" type=\"checkbox\" checked><label for=\"sk-estimator-id-15\" class=\"sk-toggleable__label sk-toggleable__label-arrow\">DecisionTreeClassifier</label><div class=\"sk-toggleable__content\"><pre>DecisionTreeClassifier(max_depth=6, min_samples_leaf=3, min_samples_split=3)</pre></div></div></div></div></div>"
      ],
      "text/plain": [
       "DecisionTreeClassifier(max_depth=6, min_samples_leaf=3, min_samples_split=3)"
      ]
     },
     "execution_count": 113,
     "metadata": {},
     "output_type": "execute_result"
    }
   ],
   "source": [
    "modelo_v4.best_estimator_"
   ]
  },
  {
   "cell_type": "code",
   "execution_count": 114,
   "id": "d3c57909",
   "metadata": {},
   "outputs": [],
   "source": [
    "y_pred_v4 = modelo_v4.predict(X_teste)"
   ]
  },
  {
   "cell_type": "code",
   "execution_count": 115,
   "id": "c7fcb974",
   "metadata": {},
   "outputs": [],
   "source": [
    "y_pred_proba_v4 = modelo_v4.predict_proba(X_teste)[:,1]"
   ]
  },
  {
   "cell_type": "code",
   "execution_count": 116,
   "id": "d0f45f6a",
   "metadata": {},
   "outputs": [
    {
     "data": {
      "text/plain": [
       "array([[44,  2],\n",
       "       [ 7, 72]], dtype=int64)"
      ]
     },
     "execution_count": 116,
     "metadata": {},
     "output_type": "execute_result"
    }
   ],
   "source": [
    "confusion_matrix(y_teste, y_pred_v4)"
   ]
  },
  {
   "cell_type": "code",
   "execution_count": 117,
   "id": "e720488b",
   "metadata": {},
   "outputs": [
    {
     "name": "stdout",
     "output_type": "stream",
     "text": [
      "0.933957072096863\n"
     ]
    }
   ],
   "source": [
    "roc_auc_v4 = roc_auc_score(y_teste, y_pred_v4)\n",
    "print(roc_auc_v4)"
   ]
  },
  {
   "cell_type": "code",
   "execution_count": 118,
   "id": "25efe20d",
   "metadata": {},
   "outputs": [],
   "source": [
    "fpr_v4, tpr_v4, thresholds = roc_curve(y_teste, y_pred_proba_v4)"
   ]
  },
  {
   "cell_type": "code",
   "execution_count": 119,
   "id": "9afb68cf",
   "metadata": {},
   "outputs": [
    {
     "name": "stdout",
     "output_type": "stream",
     "text": [
      "0.938084755090809\n"
     ]
    }
   ],
   "source": [
    "auc_v4 = auc(fpr_v4, tpr_v4)\n",
    "print(auc_v4)"
   ]
  },
  {
   "cell_type": "code",
   "execution_count": 120,
   "id": "306839da",
   "metadata": {},
   "outputs": [
    {
     "name": "stdout",
     "output_type": "stream",
     "text": [
      "0.928\n"
     ]
    }
   ],
   "source": [
    "acuracia_v4 = accuracy_score(y_teste, y_pred_v4)\n",
    "print(acuracia_v4)"
   ]
  },
  {
   "cell_type": "markdown",
   "id": "0bb12517",
   "metadata": {},
   "source": [
    "### Feature Importance"
   ]
  },
  {
   "cell_type": "code",
   "execution_count": 121,
   "id": "f470ed42",
   "metadata": {},
   "outputs": [
    {
     "data": {
      "text/html": [
       "<style>#sk-container-id-10 {color: black;background-color: white;}#sk-container-id-10 pre{padding: 0;}#sk-container-id-10 div.sk-toggleable {background-color: white;}#sk-container-id-10 label.sk-toggleable__label {cursor: pointer;display: block;width: 100%;margin-bottom: 0;padding: 0.3em;box-sizing: border-box;text-align: center;}#sk-container-id-10 label.sk-toggleable__label-arrow:before {content: \"▸\";float: left;margin-right: 0.25em;color: #696969;}#sk-container-id-10 label.sk-toggleable__label-arrow:hover:before {color: black;}#sk-container-id-10 div.sk-estimator:hover label.sk-toggleable__label-arrow:before {color: black;}#sk-container-id-10 div.sk-toggleable__content {max-height: 0;max-width: 0;overflow: hidden;text-align: left;background-color: #f0f8ff;}#sk-container-id-10 div.sk-toggleable__content pre {margin: 0.2em;color: black;border-radius: 0.25em;background-color: #f0f8ff;}#sk-container-id-10 input.sk-toggleable__control:checked~div.sk-toggleable__content {max-height: 200px;max-width: 100%;overflow: auto;}#sk-container-id-10 input.sk-toggleable__control:checked~label.sk-toggleable__label-arrow:before {content: \"▾\";}#sk-container-id-10 div.sk-estimator input.sk-toggleable__control:checked~label.sk-toggleable__label {background-color: #d4ebff;}#sk-container-id-10 div.sk-label input.sk-toggleable__control:checked~label.sk-toggleable__label {background-color: #d4ebff;}#sk-container-id-10 input.sk-hidden--visually {border: 0;clip: rect(1px 1px 1px 1px);clip: rect(1px, 1px, 1px, 1px);height: 1px;margin: -1px;overflow: hidden;padding: 0;position: absolute;width: 1px;}#sk-container-id-10 div.sk-estimator {font-family: monospace;background-color: #f0f8ff;border: 1px dotted black;border-radius: 0.25em;box-sizing: border-box;margin-bottom: 0.5em;}#sk-container-id-10 div.sk-estimator:hover {background-color: #d4ebff;}#sk-container-id-10 div.sk-parallel-item::after {content: \"\";width: 100%;border-bottom: 1px solid gray;flex-grow: 1;}#sk-container-id-10 div.sk-label:hover label.sk-toggleable__label {background-color: #d4ebff;}#sk-container-id-10 div.sk-serial::before {content: \"\";position: absolute;border-left: 1px solid gray;box-sizing: border-box;top: 0;bottom: 0;left: 50%;z-index: 0;}#sk-container-id-10 div.sk-serial {display: flex;flex-direction: column;align-items: center;background-color: white;padding-right: 0.2em;padding-left: 0.2em;position: relative;}#sk-container-id-10 div.sk-item {position: relative;z-index: 1;}#sk-container-id-10 div.sk-parallel {display: flex;align-items: stretch;justify-content: center;background-color: white;position: relative;}#sk-container-id-10 div.sk-item::before, #sk-container-id-10 div.sk-parallel-item::before {content: \"\";position: absolute;border-left: 1px solid gray;box-sizing: border-box;top: 0;bottom: 0;left: 50%;z-index: -1;}#sk-container-id-10 div.sk-parallel-item {display: flex;flex-direction: column;z-index: 1;position: relative;background-color: white;}#sk-container-id-10 div.sk-parallel-item:first-child::after {align-self: flex-end;width: 50%;}#sk-container-id-10 div.sk-parallel-item:last-child::after {align-self: flex-start;width: 50%;}#sk-container-id-10 div.sk-parallel-item:only-child::after {width: 0;}#sk-container-id-10 div.sk-dashed-wrapped {border: 1px dashed gray;margin: 0 0.4em 0.5em 0.4em;box-sizing: border-box;padding-bottom: 0.4em;background-color: white;}#sk-container-id-10 div.sk-label label {font-family: monospace;font-weight: bold;display: inline-block;line-height: 1.2em;}#sk-container-id-10 div.sk-label-container {text-align: center;}#sk-container-id-10 div.sk-container {/* jupyter's `normalize.less` sets `[hidden] { display: none; }` but bootstrap.min.css set `[hidden] { display: none !important; }` so we also need the `!important` here to be able to override the default hidden behavior on the sphinx rendered scikit-learn.org. See: https://github.com/scikit-learn/scikit-learn/issues/21755 */display: inline-block !important;position: relative;}#sk-container-id-10 div.sk-text-repr-fallback {display: none;}</style><div id=\"sk-container-id-10\" class=\"sk-top-container\"><div class=\"sk-text-repr-fallback\"><pre>DecisionTreeClassifier(max_depth=4, min_samples_leaf=6)</pre><b>In a Jupyter environment, please rerun this cell to show the HTML representation or trust the notebook. <br />On GitHub, the HTML representation is unable to render, please try loading this page with nbviewer.org.</b></div><div class=\"sk-container\" hidden><div class=\"sk-item\"><div class=\"sk-estimator sk-toggleable\"><input class=\"sk-toggleable__control sk-hidden--visually\" id=\"sk-estimator-id-16\" type=\"checkbox\" checked><label for=\"sk-estimator-id-16\" class=\"sk-toggleable__label sk-toggleable__label-arrow\">DecisionTreeClassifier</label><div class=\"sk-toggleable__content\"><pre>DecisionTreeClassifier(max_depth=4, min_samples_leaf=6)</pre></div></div></div></div></div>"
      ],
      "text/plain": [
       "DecisionTreeClassifier(max_depth=4, min_samples_leaf=6)"
      ]
     },
     "execution_count": 121,
     "metadata": {},
     "output_type": "execute_result"
    }
   ],
   "source": [
    "modelo_v4 = DecisionTreeClassifier(min_samples_split = 2, min_samples_leaf = 6, max_depth = 4)\n",
    "modelo_v4.fit(X_treino, y_treino)"
   ]
  },
  {
   "cell_type": "code",
   "execution_count": 122,
   "id": "d709bc93",
   "metadata": {},
   "outputs": [
    {
     "name": "stdout",
     "output_type": "stream",
     "text": [
      "Most important variables for the v4_model result:\n",
      "--------------------------------------------------\n",
      "poliúria\n",
      "genero\n",
      "polidipsia\n",
      "idade\n",
      "calvicie\n",
      "irritabilidade\n",
      "rigidez_muscular\n",
      "cura_atrasada\n",
      "Perda_peso_repentina\n",
      "fraqueza\n",
      "polifagia\n",
      "candidiase_genital\n",
      "desfoque_visual\n",
      "coceira\n",
      "partial_paresis\n",
      "obesidade\n"
     ]
    }
   ],
   "source": [
    "indices = np.argsort(-modelo_v4.feature_importances_)\n",
    "print(\"Most important variables for the v4_model result:\")\n",
    "print(50*'-')\n",
    "for feature in X.columns[indices]:\n",
    "    print(feature)"
   ]
  },
  {
   "cell_type": "code",
   "execution_count": 123,
   "id": "c9d0a0ba",
   "metadata": {},
   "outputs": [],
   "source": [
    "with open('modelos/modelo_v4.pkl', 'wb') as pickle_file:\n",
    "      joblib.dump(modelo_v4, 'modelos/modelo_v4.pkl') "
   ]
  },
  {
   "cell_type": "code",
   "execution_count": 124,
   "id": "3c9ad06a",
   "metadata": {},
   "outputs": [],
   "source": [
    "dict_modelo_v4 = {'Nome': 'modelo_v4', \n",
    "                  'Algoritmo': 'Decision Tree', \n",
    "                  'ROC_AUC Score': roc_auc_v4,\n",
    "                  'AUC Score': auc_v4,\n",
    "                  'Acurácia': acuracia_v4}"
   ]
  },
  {
   "cell_type": "code",
   "execution_count": 125,
   "id": "4bd612eb",
   "metadata": {},
   "outputs": [],
   "source": [
    "df_modelos = df_modelos.append(dict_modelo_v4, ignore_index = True)"
   ]
  },
  {
   "cell_type": "code",
   "execution_count": 126,
   "id": "268890f9",
   "metadata": {},
   "outputs": [
    {
     "data": {
      "text/html": [
       "<div>\n",
       "<style scoped>\n",
       "    .dataframe tbody tr th:only-of-type {\n",
       "        vertical-align: middle;\n",
       "    }\n",
       "\n",
       "    .dataframe tbody tr th {\n",
       "        vertical-align: top;\n",
       "    }\n",
       "\n",
       "    .dataframe thead th {\n",
       "        text-align: right;\n",
       "    }\n",
       "</style>\n",
       "<table border=\"1\" class=\"dataframe\">\n",
       "  <thead>\n",
       "    <tr style=\"text-align: right;\">\n",
       "      <th></th>\n",
       "      <th>Nome</th>\n",
       "      <th>Algoritmo</th>\n",
       "      <th>ROC_AUC Score</th>\n",
       "      <th>AUC Score</th>\n",
       "      <th>Acurácia</th>\n",
       "    </tr>\n",
       "  </thead>\n",
       "  <tbody>\n",
       "    <tr>\n",
       "      <th>0</th>\n",
       "      <td>modelo_v1</td>\n",
       "      <td>Regressão Logística</td>\n",
       "      <td>0.938498</td>\n",
       "      <td>0.951844</td>\n",
       "      <td>0.928</td>\n",
       "    </tr>\n",
       "    <tr>\n",
       "      <th>1</th>\n",
       "      <td>modelo_v2</td>\n",
       "      <td>Random Forest</td>\n",
       "      <td>0.946615</td>\n",
       "      <td>0.993946</td>\n",
       "      <td>0.944</td>\n",
       "    </tr>\n",
       "    <tr>\n",
       "      <th>2</th>\n",
       "      <td>modelo_v3</td>\n",
       "      <td>KNN</td>\n",
       "      <td>0.944827</td>\n",
       "      <td>0.944827</td>\n",
       "      <td>0.936</td>\n",
       "    </tr>\n",
       "    <tr>\n",
       "      <th>3</th>\n",
       "      <td>modelo_v4</td>\n",
       "      <td>Decision Tree</td>\n",
       "      <td>0.933957</td>\n",
       "      <td>0.938085</td>\n",
       "      <td>0.928</td>\n",
       "    </tr>\n",
       "  </tbody>\n",
       "</table>\n",
       "</div>"
      ],
      "text/plain": [
       "        Nome            Algoritmo  ROC_AUC Score  AUC Score  Acurácia\n",
       "0  modelo_v1  Regressão Logística       0.938498   0.951844     0.928\n",
       "1  modelo_v2        Random Forest       0.946615   0.993946     0.944\n",
       "2  modelo_v3                  KNN       0.944827   0.944827     0.936\n",
       "3  modelo_v4        Decision Tree       0.933957   0.938085     0.928"
      ]
     },
     "metadata": {},
     "output_type": "display_data"
    }
   ],
   "source": [
    "display(df_modelos)"
   ]
  },
  {
   "cell_type": "markdown",
   "id": "f3c0e827",
   "metadata": {},
   "source": [
    "### <font color='blue'> Model 5 Construction, Training and Evaluation with SVM </font>"
   ]
  },
  {
   "cell_type": "markdown",
   "id": "c9cbe301",
   "metadata": {},
   "source": [
    "For the fifth and final version of the model I will use SVM."
   ]
  },
  {
   "cell_type": "code",
   "execution_count": 127,
   "id": "a1d00cd4",
   "metadata": {},
   "outputs": [],
   "source": [
    "def svc_param_selection(X, y, nfolds):\n",
    "    Cs = [0.001, 0.01, 0.1, 1, 10]\n",
    "    gammas = [0.001, 0.01, 0.1, 1]\n",
    "    param_grid = {'C': Cs, 'gamma' : gammas}\n",
    "    grid_search = GridSearchCV(SVC(kernel = 'rbf'), param_grid, cv = nfolds)\n",
    "    grid_search.fit(X_treino, y_treino)\n",
    "    grid_search.best_params_\n",
    "    return grid_search.best_params_"
   ]
  },
  {
   "cell_type": "code",
   "execution_count": 128,
   "id": "6ecf68df",
   "metadata": {},
   "outputs": [
    {
     "data": {
      "text/plain": [
       "{'C': 1, 'gamma': 0.1}"
      ]
     },
     "execution_count": 128,
     "metadata": {},
     "output_type": "execute_result"
    }
   ],
   "source": [
    "svc_param_selection(X_treino, y_treino, 5)"
   ]
  },
  {
   "cell_type": "code",
   "execution_count": 129,
   "id": "0b02c04c",
   "metadata": {},
   "outputs": [],
   "source": [
    "modelo_v5 = SVC(C = 1, gamma = 1, probability = True)"
   ]
  },
  {
   "cell_type": "code",
   "execution_count": 130,
   "id": "36e13dd6",
   "metadata": {},
   "outputs": [
    {
     "data": {
      "text/html": [
       "<style>#sk-container-id-11 {color: black;background-color: white;}#sk-container-id-11 pre{padding: 0;}#sk-container-id-11 div.sk-toggleable {background-color: white;}#sk-container-id-11 label.sk-toggleable__label {cursor: pointer;display: block;width: 100%;margin-bottom: 0;padding: 0.3em;box-sizing: border-box;text-align: center;}#sk-container-id-11 label.sk-toggleable__label-arrow:before {content: \"▸\";float: left;margin-right: 0.25em;color: #696969;}#sk-container-id-11 label.sk-toggleable__label-arrow:hover:before {color: black;}#sk-container-id-11 div.sk-estimator:hover label.sk-toggleable__label-arrow:before {color: black;}#sk-container-id-11 div.sk-toggleable__content {max-height: 0;max-width: 0;overflow: hidden;text-align: left;background-color: #f0f8ff;}#sk-container-id-11 div.sk-toggleable__content pre {margin: 0.2em;color: black;border-radius: 0.25em;background-color: #f0f8ff;}#sk-container-id-11 input.sk-toggleable__control:checked~div.sk-toggleable__content {max-height: 200px;max-width: 100%;overflow: auto;}#sk-container-id-11 input.sk-toggleable__control:checked~label.sk-toggleable__label-arrow:before {content: \"▾\";}#sk-container-id-11 div.sk-estimator input.sk-toggleable__control:checked~label.sk-toggleable__label {background-color: #d4ebff;}#sk-container-id-11 div.sk-label input.sk-toggleable__control:checked~label.sk-toggleable__label {background-color: #d4ebff;}#sk-container-id-11 input.sk-hidden--visually {border: 0;clip: rect(1px 1px 1px 1px);clip: rect(1px, 1px, 1px, 1px);height: 1px;margin: -1px;overflow: hidden;padding: 0;position: absolute;width: 1px;}#sk-container-id-11 div.sk-estimator {font-family: monospace;background-color: #f0f8ff;border: 1px dotted black;border-radius: 0.25em;box-sizing: border-box;margin-bottom: 0.5em;}#sk-container-id-11 div.sk-estimator:hover {background-color: #d4ebff;}#sk-container-id-11 div.sk-parallel-item::after {content: \"\";width: 100%;border-bottom: 1px solid gray;flex-grow: 1;}#sk-container-id-11 div.sk-label:hover label.sk-toggleable__label {background-color: #d4ebff;}#sk-container-id-11 div.sk-serial::before {content: \"\";position: absolute;border-left: 1px solid gray;box-sizing: border-box;top: 0;bottom: 0;left: 50%;z-index: 0;}#sk-container-id-11 div.sk-serial {display: flex;flex-direction: column;align-items: center;background-color: white;padding-right: 0.2em;padding-left: 0.2em;position: relative;}#sk-container-id-11 div.sk-item {position: relative;z-index: 1;}#sk-container-id-11 div.sk-parallel {display: flex;align-items: stretch;justify-content: center;background-color: white;position: relative;}#sk-container-id-11 div.sk-item::before, #sk-container-id-11 div.sk-parallel-item::before {content: \"\";position: absolute;border-left: 1px solid gray;box-sizing: border-box;top: 0;bottom: 0;left: 50%;z-index: -1;}#sk-container-id-11 div.sk-parallel-item {display: flex;flex-direction: column;z-index: 1;position: relative;background-color: white;}#sk-container-id-11 div.sk-parallel-item:first-child::after {align-self: flex-end;width: 50%;}#sk-container-id-11 div.sk-parallel-item:last-child::after {align-self: flex-start;width: 50%;}#sk-container-id-11 div.sk-parallel-item:only-child::after {width: 0;}#sk-container-id-11 div.sk-dashed-wrapped {border: 1px dashed gray;margin: 0 0.4em 0.5em 0.4em;box-sizing: border-box;padding-bottom: 0.4em;background-color: white;}#sk-container-id-11 div.sk-label label {font-family: monospace;font-weight: bold;display: inline-block;line-height: 1.2em;}#sk-container-id-11 div.sk-label-container {text-align: center;}#sk-container-id-11 div.sk-container {/* jupyter's `normalize.less` sets `[hidden] { display: none; }` but bootstrap.min.css set `[hidden] { display: none !important; }` so we also need the `!important` here to be able to override the default hidden behavior on the sphinx rendered scikit-learn.org. See: https://github.com/scikit-learn/scikit-learn/issues/21755 */display: inline-block !important;position: relative;}#sk-container-id-11 div.sk-text-repr-fallback {display: none;}</style><div id=\"sk-container-id-11\" class=\"sk-top-container\"><div class=\"sk-text-repr-fallback\"><pre>SVC(C=1, gamma=1, probability=True)</pre><b>In a Jupyter environment, please rerun this cell to show the HTML representation or trust the notebook. <br />On GitHub, the HTML representation is unable to render, please try loading this page with nbviewer.org.</b></div><div class=\"sk-container\" hidden><div class=\"sk-item\"><div class=\"sk-estimator sk-toggleable\"><input class=\"sk-toggleable__control sk-hidden--visually\" id=\"sk-estimator-id-17\" type=\"checkbox\" checked><label for=\"sk-estimator-id-17\" class=\"sk-toggleable__label sk-toggleable__label-arrow\">SVC</label><div class=\"sk-toggleable__content\"><pre>SVC(C=1, gamma=1, probability=True)</pre></div></div></div></div></div>"
      ],
      "text/plain": [
       "SVC(C=1, gamma=1, probability=True)"
      ]
     },
     "execution_count": 130,
     "metadata": {},
     "output_type": "execute_result"
    }
   ],
   "source": [
    "modelo_v5.fit(X_treino, y_treino)"
   ]
  },
  {
   "cell_type": "code",
   "execution_count": 131,
   "id": "58736218",
   "metadata": {},
   "outputs": [],
   "source": [
    "y_pred_v5 = modelo_v5.predict(X_teste)"
   ]
  },
  {
   "cell_type": "code",
   "execution_count": 132,
   "id": "41ccd77a",
   "metadata": {},
   "outputs": [
    {
     "data": {
      "text/plain": [
       "array([[37,  9],\n",
       "       [ 0, 79]], dtype=int64)"
      ]
     },
     "execution_count": 132,
     "metadata": {},
     "output_type": "execute_result"
    }
   ],
   "source": [
    "confusion_matrix(y_teste, y_pred_v5)"
   ]
  },
  {
   "cell_type": "code",
   "execution_count": 133,
   "id": "3c72eb10",
   "metadata": {},
   "outputs": [],
   "source": [
    "y_pred_proba_v5 = modelo_v5.predict_proba(X_teste)[:, 1]"
   ]
  },
  {
   "cell_type": "code",
   "execution_count": 134,
   "id": "ffa6ce9e",
   "metadata": {},
   "outputs": [
    {
     "name": "stdout",
     "output_type": "stream",
     "text": [
      "0.9021739130434783\n"
     ]
    }
   ],
   "source": [
    "roc_auc_v5 = roc_auc_score(y_teste, y_pred_v5)\n",
    "print(roc_auc_v5)"
   ]
  },
  {
   "cell_type": "code",
   "execution_count": 135,
   "id": "1f066ad8",
   "metadata": {},
   "outputs": [],
   "source": [
    "fpr_v5, tpr_v5, thresholds = roc_curve(y_teste, y_pred_proba_v5)"
   ]
  },
  {
   "cell_type": "code",
   "execution_count": 136,
   "id": "33a7d65c",
   "metadata": {},
   "outputs": [
    {
     "name": "stdout",
     "output_type": "stream",
     "text": [
      "0.9928453494771601\n"
     ]
    }
   ],
   "source": [
    "auc_v5 = auc(fpr_v5, tpr_v5)\n",
    "print(auc_v5)"
   ]
  },
  {
   "cell_type": "code",
   "execution_count": 137,
   "id": "d5405b70",
   "metadata": {},
   "outputs": [
    {
     "name": "stdout",
     "output_type": "stream",
     "text": [
      "0.928\n"
     ]
    }
   ],
   "source": [
    "acuracia_v5 = accuracy_score(y_teste, y_pred_v5)\n",
    "print(acuracia_v5)"
   ]
  },
  {
   "cell_type": "code",
   "execution_count": 138,
   "id": "64e6e4a5",
   "metadata": {},
   "outputs": [],
   "source": [
    "with open('modelos/modelo_v5.pkl', 'wb') as pickle_file:\n",
    "      joblib.dump(modelo_v5, 'modelos/modelo_v5.pkl') "
   ]
  },
  {
   "cell_type": "code",
   "execution_count": 139,
   "id": "70e5bf50",
   "metadata": {},
   "outputs": [],
   "source": [
    "dict_modelo_v5 = {'Nome': 'modelo_v5', \n",
    "                  'Algoritmo': 'SVM', \n",
    "                  'ROC_AUC Score': roc_auc_v5,\n",
    "                  'AUC Score': auc_v5,\n",
    "                  'Acurácia': acuracia_v5}"
   ]
  },
  {
   "cell_type": "code",
   "execution_count": 140,
   "id": "04fcc630",
   "metadata": {},
   "outputs": [],
   "source": [
    "df_modelos = df_modelos.append(dict_modelo_v5, ignore_index = True)"
   ]
  },
  {
   "cell_type": "code",
   "execution_count": 141,
   "id": "882ae488",
   "metadata": {},
   "outputs": [
    {
     "data": {
      "text/html": [
       "<div>\n",
       "<style scoped>\n",
       "    .dataframe tbody tr th:only-of-type {\n",
       "        vertical-align: middle;\n",
       "    }\n",
       "\n",
       "    .dataframe tbody tr th {\n",
       "        vertical-align: top;\n",
       "    }\n",
       "\n",
       "    .dataframe thead th {\n",
       "        text-align: right;\n",
       "    }\n",
       "</style>\n",
       "<table border=\"1\" class=\"dataframe\">\n",
       "  <thead>\n",
       "    <tr style=\"text-align: right;\">\n",
       "      <th></th>\n",
       "      <th>Nome</th>\n",
       "      <th>Algoritmo</th>\n",
       "      <th>ROC_AUC Score</th>\n",
       "      <th>AUC Score</th>\n",
       "      <th>Acurácia</th>\n",
       "    </tr>\n",
       "  </thead>\n",
       "  <tbody>\n",
       "    <tr>\n",
       "      <th>0</th>\n",
       "      <td>modelo_v1</td>\n",
       "      <td>Regressão Logística</td>\n",
       "      <td>0.938498</td>\n",
       "      <td>0.951844</td>\n",
       "      <td>0.928</td>\n",
       "    </tr>\n",
       "    <tr>\n",
       "      <th>1</th>\n",
       "      <td>modelo_v2</td>\n",
       "      <td>Random Forest</td>\n",
       "      <td>0.946615</td>\n",
       "      <td>0.993946</td>\n",
       "      <td>0.944</td>\n",
       "    </tr>\n",
       "    <tr>\n",
       "      <th>2</th>\n",
       "      <td>modelo_v3</td>\n",
       "      <td>KNN</td>\n",
       "      <td>0.944827</td>\n",
       "      <td>0.944827</td>\n",
       "      <td>0.936</td>\n",
       "    </tr>\n",
       "    <tr>\n",
       "      <th>3</th>\n",
       "      <td>modelo_v4</td>\n",
       "      <td>Decision Tree</td>\n",
       "      <td>0.933957</td>\n",
       "      <td>0.938085</td>\n",
       "      <td>0.928</td>\n",
       "    </tr>\n",
       "    <tr>\n",
       "      <th>4</th>\n",
       "      <td>modelo_v5</td>\n",
       "      <td>SVM</td>\n",
       "      <td>0.902174</td>\n",
       "      <td>0.992845</td>\n",
       "      <td>0.928</td>\n",
       "    </tr>\n",
       "  </tbody>\n",
       "</table>\n",
       "</div>"
      ],
      "text/plain": [
       "        Nome            Algoritmo  ROC_AUC Score  AUC Score  Acurácia\n",
       "0  modelo_v1  Regressão Logística       0.938498   0.951844     0.928\n",
       "1  modelo_v2        Random Forest       0.946615   0.993946     0.944\n",
       "2  modelo_v3                  KNN       0.944827   0.944827     0.936\n",
       "3  modelo_v4        Decision Tree       0.933957   0.938085     0.928\n",
       "4  modelo_v5                  SVM       0.902174   0.992845     0.928"
      ]
     },
     "metadata": {},
     "output_type": "display_data"
    }
   ],
   "source": [
    "display(df_modelos)"
   ]
  },
  {
   "cell_type": "markdown",
   "id": "631c4f97",
   "metadata": {},
   "source": [
    "### <font color='blue'> Best model Selection </font>"
   ]
  },
  {
   "cell_type": "markdown",
   "id": "1d1e6021",
   "metadata": {},
   "source": [
    "I will use the model that had the highest Accuracy, as it is a global metric,\n",
    "Accuracy is ideal for comparing models from different algorithms"
   ]
  },
  {
   "cell_type": "code",
   "execution_count": 142,
   "id": "100419fc",
   "metadata": {},
   "outputs": [],
   "source": [
    "df_melhor_modelo = df_modelos[df_modelos['Acurácia'] == df_modelos['Acurácia'].max()]"
   ]
  },
  {
   "cell_type": "code",
   "execution_count": 143,
   "id": "fede3969",
   "metadata": {},
   "outputs": [
    {
     "data": {
      "text/html": [
       "<div>\n",
       "<style scoped>\n",
       "    .dataframe tbody tr th:only-of-type {\n",
       "        vertical-align: middle;\n",
       "    }\n",
       "\n",
       "    .dataframe tbody tr th {\n",
       "        vertical-align: top;\n",
       "    }\n",
       "\n",
       "    .dataframe thead th {\n",
       "        text-align: right;\n",
       "    }\n",
       "</style>\n",
       "<table border=\"1\" class=\"dataframe\">\n",
       "  <thead>\n",
       "    <tr style=\"text-align: right;\">\n",
       "      <th></th>\n",
       "      <th>Nome</th>\n",
       "      <th>Algoritmo</th>\n",
       "      <th>ROC_AUC Score</th>\n",
       "      <th>AUC Score</th>\n",
       "      <th>Acurácia</th>\n",
       "    </tr>\n",
       "  </thead>\n",
       "  <tbody>\n",
       "    <tr>\n",
       "      <th>1</th>\n",
       "      <td>modelo_v2</td>\n",
       "      <td>Random Forest</td>\n",
       "      <td>0.946615</td>\n",
       "      <td>0.993946</td>\n",
       "      <td>0.944</td>\n",
       "    </tr>\n",
       "  </tbody>\n",
       "</table>\n",
       "</div>"
      ],
      "text/plain": [
       "        Nome      Algoritmo  ROC_AUC Score  AUC Score  Acurácia\n",
       "1  modelo_v2  Random Forest       0.946615   0.993946     0.944"
      ]
     },
     "execution_count": 143,
     "metadata": {},
     "output_type": "execute_result"
    }
   ],
   "source": [
    "df_melhor_modelo"
   ]
  },
  {
   "cell_type": "markdown",
   "id": "dea49f20",
   "metadata": {},
   "source": [
    "# FIM"
   ]
  }
 ],
 "metadata": {
  "kernelspec": {
   "display_name": "Python 3 (ipykernel)",
   "language": "python",
   "name": "python3"
  },
  "language_info": {
   "codemirror_mode": {
    "name": "ipython",
    "version": 3
   },
   "file_extension": ".py",
   "mimetype": "text/x-python",
   "name": "python",
   "nbconvert_exporter": "python",
   "pygments_lexer": "ipython3",
   "version": "3.9.13"
  }
 },
 "nbformat": 4,
 "nbformat_minor": 5
}
